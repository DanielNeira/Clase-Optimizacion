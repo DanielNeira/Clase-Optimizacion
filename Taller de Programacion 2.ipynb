{
 "cells": [
  {
   "cell_type": "markdown",
   "metadata": {},
   "source": [
    "# Structured Types, Mutability, and Higer-Order Functions\n",
    "\n",
    "   So far the programs we have seen dealt with three types of object **int, float, and str**. Int and float are type scalar, which means they have no internal accessible structure. On the other hand, str object can be thought as structured object (non scalar) since one can index to extract and individual. Now, we are going to introduce three structured types **tuple, list, dict**"
   ]
  },
  {
   "cell_type": "markdown",
   "metadata": {},
   "source": [
    "## Tuples\n",
    "\n",
    "   These are ordered sequences of elements, the difference is that the elements of a tuple need not to be characters, they can be of any type. They are written by enclosing a comma-separated list of elements within parentheses"
   ]
  },
  {
   "cell_type": "code",
   "execution_count": null,
   "metadata": {
    "collapsed": true
   },
   "outputs": [],
   "source": [
    "t1 = ()\n",
    "t2 = (1,'two', 3)"
   ]
  },
  {
   "cell_type": "markdown",
   "metadata": {},
   "source": [
    "Which of these is a *tuple* and why??"
   ]
  },
  {
   "cell_type": "code",
   "execution_count": 2,
   "metadata": {},
   "outputs": [
    {
     "name": "stdout",
     "output_type": "stream",
     "text": [
      "<class 'int'>\n",
      "<class 'tuple'>\n"
     ]
    }
   ],
   "source": [
    "tuple1 = (1)\n",
    "tuple2 = (1,)\n",
    "print(type(tuple1))\n",
    "print(type(tuple2))\n"
   ]
  },
  {
   "cell_type": "markdown",
   "metadata": {},
   "source": [
    "Like strings, tuples can be concatenated, indexed, and sliced"
   ]
  },
  {
   "cell_type": "code",
   "execution_count": 4,
   "metadata": {},
   "outputs": [
    {
     "name": "stdout",
     "output_type": "stream",
     "text": [
      "((1, 'two', 3), 2.25)\n",
      "(1, 'two', 3, (1, 'two', 3), 2.25)\n",
      "((1, 'two', 3), 2.25, 1, 'two', 3)\n",
      "(1, 'two', 3)\n",
      "(3, (1, 'two', 3), 2.25)\n"
     ]
    }
   ],
   "source": [
    "t1 = (1, \"two\", 3)\n",
    "t2 = (t1, 2.25)\n",
    "print(t2)\n",
    "print((t1+t2))\n",
    "print((t2+t1))\n",
    "print((t1+t2)[3])\n",
    "print((t1+t2)[2:5])"
   ]
  },
  {
   "cell_type": "markdown",
   "metadata": {},
   "source": [
    "A for statement can be used to iterate over the elements of a tuple"
   ]
  },
  {
   "cell_type": "markdown",
   "metadata": {},
   "source": [
    "### Sequence and multiple assignment\n",
    "\n",
    "If you know the length of a sequence, it can be convenient to use Python's multiple assignment statement to extract the individual elements"
   ]
  },
  {
   "cell_type": "code",
   "execution_count": 5,
   "metadata": {},
   "outputs": [
    {
     "name": "stdout",
     "output_type": "stream",
     "text": [
      "x\n",
      "4\n",
      "16\n",
      "(4, 16)\n"
     ]
    }
   ],
   "source": [
    "x, y = (3, 4)\n",
    "a, b, c = 'xyz'\n",
    "print(a)\n",
    "\n",
    "def do_something(x,y):\n",
    "    '''\n",
    "    x and y must be either float or integers\n",
    "    return x+1 and y**2\n",
    "    '''\n",
    "    return (x+1, y**2)\n",
    "no_separado = do_something(3,4)\n",
    "m, n = do_something(3,4)\n",
    "print(m)\n",
    "print(n)\n",
    "print(no_separado)"
   ]
  },
  {
   "cell_type": "markdown",
   "metadata": {},
   "source": [
    "## Lists and Mutability \n",
    "\n",
    "Like a tuple, a list is an ordered sequence of values where each value is identified by an index. The syntax to express literals of type list is similar to that used for tuples. The diference is that we use squared brackets insted of parenthesis"
   ]
  },
  {
   "cell_type": "code",
   "execution_count": 6,
   "metadata": {},
   "outputs": [
    {
     "name": "stdout",
     "output_type": "stream",
     "text": [
      "I did it all\n",
      "4\n",
      "love\n",
      "[1, 2, 3]\n"
     ]
    }
   ],
   "source": [
    "L = ['I did it all', 4, 'love', [1,2,3]]\n",
    "for i in range(len(L)):\n",
    "    print(L[i])"
   ]
  },
  {
   "cell_type": "markdown",
   "metadata": {},
   "source": [
    "what do you obtain from the following piece of code"
   ]
  },
  {
   "cell_type": "code",
   "execution_count": 7,
   "metadata": {},
   "outputs": [
    {
     "data": {
      "text/plain": [
       "3"
      ]
     },
     "execution_count": 7,
     "metadata": {},
     "output_type": "execute_result"
    }
   ],
   "source": [
    "[1,2,3,4][1:3][1]"
   ]
  },
  {
   "cell_type": "markdown",
   "metadata": {},
   "source": [
    "List differ from tuples in a HUGELY important way: lists are **mutable**. The types, tuple, int, float, and str are all **immutable**. The big difference is that variables of **inmutable** type cannot be modified after creation.\n",
    "\n",
    "Remember that in Python a variable is just a name, a label that can be attached to an object. Por ejemplo:\n",
    "    "
   ]
  },
  {
   "cell_type": "code",
   "execution_count": 9,
   "metadata": {
    "collapsed": true
   },
   "outputs": [],
   "source": [
    "Tech = [\"MIT\", \"Caltech\"]\n",
    "Ivys = [\"Harvard\", \"Yale\", \"Brown\"]"
   ]
  },
  {
   "cell_type": "markdown",
   "metadata": {},
   "source": [
    "The the assignment statements"
   ]
  },
  {
   "cell_type": "code",
   "execution_count": 12,
   "metadata": {},
   "outputs": [
    {
     "name": "stdout",
     "output_type": "stream",
     "text": [
      "[['MIT', 'Caltech'], ['Harvard', 'Yale', 'Brown']]\n",
      "[['MIT', 'Caltech'], ['Harvard', 'Yale', 'Brown']]\n",
      "True\n"
     ]
    }
   ],
   "source": [
    "Univs = [Tech, Ivys]\n",
    "Univs1 = [[\"MIT\", \"Caltech\"],[\"Harvard\", \"Yale\", \"Brown\"]]\n",
    "print(Univs)\n",
    "print(Univs1)\n",
    "print(Univs == Univs1)"
   ]
  },
  {
   "cell_type": "markdown",
   "metadata": {},
   "source": [
    "For the naive, it appears that Univ and Univ1 are binded to the same value. Appearances can be deceiving."
   ]
  },
  {
   "cell_type": "code",
   "execution_count": 13,
   "metadata": {},
   "outputs": [
    {
     "name": "stdout",
     "output_type": "stream",
     "text": [
      "id of Univs =  1979198469896\n",
      "id of Univs1 = 1979198713800\n"
     ]
    }
   ],
   "source": [
    "print(\"id of Univs = \", id(Univs))\n",
    "print(\"id of Univs1 =\", id(Univs1))"
   ]
  },
  {
   "cell_type": "code",
   "execution_count": 14,
   "metadata": {},
   "outputs": [
    {
     "name": "stdout",
     "output_type": "stream",
     "text": [
      "Ids of Univs[0] and Univs1[1] 1979199048328 1979198471112\n"
     ]
    }
   ],
   "source": [
    "print('Ids of Univs[0] and Univs1[1]', id(Univs[0]), id(Univs1[0]))"
   ]
  },
  {
   "cell_type": "markdown",
   "metadata": {},
   "source": [
    "Why does it matters?\n",
    "\n",
    "It matters because lists are mutable. Consider the **code** "
   ]
  },
  {
   "cell_type": "code",
   "execution_count": 15,
   "metadata": {},
   "outputs": [
    {
     "data": {
      "text/plain": [
       "['MIT', 'Caltech', 'RPI']"
      ]
     },
     "execution_count": 15,
     "metadata": {},
     "output_type": "execute_result"
    }
   ],
   "source": [
    "Tech.append(\"RPI\")\n",
    "Tech"
   ]
  },
  {
   "cell_type": "markdown",
   "metadata": {},
   "source": [
    "The **append** method has a **side effect**. Rather than create a new list, it mutates the existing list Tech by adding a new element. Univs still contains the same two list, but the contents of one of those list has been changed"
   ]
  },
  {
   "cell_type": "code",
   "execution_count": 16,
   "metadata": {},
   "outputs": [
    {
     "name": "stdout",
     "output_type": "stream",
     "text": [
      "Univs =  [['MIT', 'Caltech', 'RPI'], ['Harvard', 'Yale', 'Brown']]\n",
      "Univs1 =  [['MIT', 'Caltech'], ['Harvard', 'Yale', 'Brown']]\n"
     ]
    }
   ],
   "source": [
    "print(\"Univs = \", Univs)\n",
    "print(\"Univs1 = \", Univs1)"
   ]
  },
  {
   "cell_type": "markdown",
   "metadata": {},
   "source": [
    "It is possible to observe that Univs[0], and Tech are the same object, and since we changed Tech we also changed Univs[0]. This effect is called **aliasing**, which means that we can mutate the object using either path and the change will be reflected in both objects."
   ]
  },
  {
   "cell_type": "code",
   "execution_count": 17,
   "metadata": {},
   "outputs": [
    {
     "name": "stdout",
     "output_type": "stream",
     "text": [
      "1979199048328\n",
      "1979199048328\n"
     ]
    }
   ],
   "source": [
    "print(id(Tech))\n",
    "print(id(Univs[0]))"
   ]
  },
  {
   "cell_type": "markdown",
   "metadata": {},
   "source": [
    "The examples above showed us that concatenation of list generate a list of lists. However, sometimes you want to create a flat list for what you can use the '+' simbol"
   ]
  },
  {
   "cell_type": "code",
   "execution_count": null,
   "metadata": {
    "collapsed": true
   },
   "outputs": [],
   "source": [
    "flat = Tech + Ivys\n",
    "flat"
   ]
  },
  {
   "cell_type": "markdown",
   "metadata": {},
   "source": [
    "### Cloning\n",
    "\n",
    "It is usually prudent to avoid mutating a list over which one is iterating. For example"
   ]
  },
  {
   "cell_type": "code",
   "execution_count": 32,
   "metadata": {},
   "outputs": [
    {
     "name": "stdout",
     "output_type": "stream",
     "text": [
      "e1= 1\n",
      "e1= 3\n",
      "e1= 4\n",
      "L1 =  [2, 3, 4]\n"
     ]
    }
   ],
   "source": [
    "def removeDups(L1, L2):\n",
    "    \"\"\"\n",
    "    Assumes that L1 and L2 are list. Remove any element in L1 that is also in L2\n",
    "    \"\"\"\n",
    "    for e1 in L1:\n",
    "        print(\"e1=\",e1)\n",
    "        if e1 in L2:\n",
    "            L1.remove(e1)\n",
    "\n",
    "L1 = [1,2,3,4]\n",
    "L2 = [1,2,5,6]\n",
    "\n",
    "removeDups(L1, L2)\n",
    "print(\"L1 = \",L1)"
   ]
  },
  {
   "cell_type": "markdown",
   "metadata": {},
   "source": [
    "To avoid this problem use slicing to **clone**"
   ]
  },
  {
   "cell_type": "code",
   "execution_count": 19,
   "metadata": {},
   "outputs": [
    {
     "name": "stdout",
     "output_type": "stream",
     "text": [
      "L1 =  [3, 4]\n"
     ]
    }
   ],
   "source": [
    "def removeDups(L1, L2):\n",
    "    \"\"\"\n",
    "    Assumes that L1 and L2 are list. Remove any element in L1 that is also in L2\n",
    "    \"\"\"\n",
    "    for e1 in L1[:]:\n",
    "        if e1 in L2:\n",
    "            L1.remove(e1)\n",
    "\n",
    "L1 = [1,2,3,4]\n",
    "L2 = [1,2,5,6]\n",
    "\n",
    "removeDups(L1, L2)\n",
    "print(\"L1 = \",L1)"
   ]
  },
  {
   "cell_type": "markdown",
   "metadata": {},
   "source": [
    "### List comprehension\n",
    "\n",
    "The technique provides a concise way to apply an operation to the values in a sequence. It creates a new list in which element is result of an operation in another list"
   ]
  },
  {
   "cell_type": "code",
   "execution_count": 21,
   "metadata": {},
   "outputs": [
    {
     "name": "stdout",
     "output_type": "stream",
     "text": [
      "[1, 4, 9, 16, 25, 36]\n",
      "[1, 4, 9, 16, 25, 36]\n"
     ]
    }
   ],
   "source": [
    "L = [x**2 for x in range(1,7)]\n",
    "print(L)\n",
    "result=[]\n",
    "for i in range(1,7):\n",
    "    result.append(i**2)\n",
    "print(result)"
   ]
  },
  {
   "cell_type": "code",
   "execution_count": 23,
   "metadata": {},
   "outputs": [
    {
     "name": "stdout",
     "output_type": "stream",
     "text": [
      "[1, 4, 9]\n"
     ]
    }
   ],
   "source": [
    "mixed = [1,2,\"a\",3,4.2]\n",
    "print([x**2 for x in mixed if type(x) == int])"
   ]
  },
  {
   "cell_type": "markdown",
   "metadata": {},
   "source": [
    "## Functions as Objects\n",
    "\n",
    "In Python, functions are **firts-class objects**. That means they can be treated like objects of any other type, e.g., int or list. They have types, can appear in expressions (right-hand side of an assignment statement) or as an argument to a function, etc."
   ]
  },
  {
   "cell_type": "code",
   "execution_count": 24,
   "metadata": {},
   "outputs": [
    {
     "data": {
      "text/plain": [
       "function"
      ]
     },
     "execution_count": 24,
     "metadata": {},
     "output_type": "execute_result"
    }
   ],
   "source": [
    "type(removeDups)"
   ]
  },
  {
   "cell_type": "code",
   "execution_count": 25,
   "metadata": {
    "collapsed": true
   },
   "outputs": [],
   "source": [
    "def applyToEach(L,f):\n",
    "    \"\"\"\n",
    "    Assumes L is a list, f is a function\n",
    "    mutates L by replacing each element, e, of L by f(e)\n",
    "    \"\"\"\n",
    "    for i in range(len(L)):\n",
    "        L[i] = f(L[i])"
   ]
  },
  {
   "cell_type": "markdown",
   "metadata": {},
   "source": [
    "The function *applyToEach* is called a **second-order** because it has an argument that is itself a function. Python has a built-in higher-order function, *map*."
   ]
  },
  {
   "cell_type": "code",
   "execution_count": null,
   "metadata": {
    "collapsed": true
   },
   "outputs": [],
   "source": [
    "L1 = [1, 28, 36]\n",
    "L2 = [2, 57, 9]\n",
    "a = [map(min, a) for a in zip(L1, L2)]\n",
    "a"
   ]
  },
  {
   "cell_type": "markdown",
   "metadata": {},
   "source": [
    "## Dictionaries \n",
    "\n",
    "Objects of type **dict** are like the lists except that 'indices' need not to be integers. Since they are not ordered we call them **keys** rather than indices. The entries in a diccionary are unordered and cannot be accessed with an index."
   ]
  },
  {
   "cell_type": "code",
   "execution_count": 26,
   "metadata": {},
   "outputs": [
    {
     "name": "stdout",
     "output_type": "stream",
     "text": [
      "the third month is Mar\n",
      "Apr and Jan are  3 months apart\n"
     ]
    }
   ],
   "source": [
    "monthNumbers = {'Jan': 1, 'Feb': 2, 'Mar' : 3, 'Apr': 4, 'May': 5,\n",
    "               1: 'Jan', 2: 'Feb', 3: 'Mar', 4: 'Apr', 5: 'May'}\n",
    "\n",
    "print('the third month is ' + monthNumbers[3])\n",
    "dist = monthNumbers['Apr'] - monthNumbers['Jan']\n",
    "print('Apr and Jan are ', dist, 'months apart')"
   ]
  },
  {
   "cell_type": "code",
   "execution_count": 27,
   "metadata": {},
   "outputs": [
    {
     "data": {
      "text/plain": [
       "dict_keys([1, 2, 3, 4, 'May', 'Apr', 'Mar', 'Feb', 5, 'Jan'])"
      ]
     },
     "execution_count": 27,
     "metadata": {},
     "output_type": "execute_result"
    }
   ],
   "source": [
    "monthNumbers.keys()"
   ]
  },
  {
   "cell_type": "markdown",
   "metadata": {},
   "source": [
    "some of the most useful operations on dictionaries are: **len(d), d.keys(), d.values(), k in d** (True is key k in d)**, d[k], d.get(k,v], d[k] = v, del d[k], for k in d**.\n",
    "\n",
    "Objects of any **immutable type** can be used as dictionay keys. For example"
   ]
  },
  {
   "cell_type": "code",
   "execution_count": 30,
   "metadata": {},
   "outputs": [
    {
     "data": {
      "text/plain": [
       "{('Jun', 'Summer'): 'Hot',\n",
       " 1: 'Jan',\n",
       " 2: 'Feb',\n",
       " 3: 'Mar',\n",
       " 4: 'Apr',\n",
       " 5: 'May',\n",
       " 'Apr': 4,\n",
       " 'Feb': 2,\n",
       " 'Jan': 1,\n",
       " 'Mar': 3,\n",
       " 'May': 5}"
      ]
     },
     "execution_count": 30,
     "metadata": {},
     "output_type": "execute_result"
    }
   ],
   "source": [
    "monthNumbers[('Jun', 'Summer')] = 'Hot'\n",
    "monthNumbers"
   ]
  },
  {
   "cell_type": "markdown",
   "metadata": {},
   "source": [
    "It is relatively easy to implement a dictionary using a list in which each element is a key/value pair, but a dictionary is >>>> faster than this"
   ]
  },
  {
   "cell_type": "code",
   "execution_count": null,
   "metadata": {
    "collapsed": true
   },
   "outputs": [],
   "source": [
    "def keySearch(L, k):\n",
    "    for elem in L:\n",
    "        if elem[0] == k:\n",
    "            return elem[1]\n",
    "    return None"
   ]
  },
  {
   "cell_type": "markdown",
   "metadata": {},
   "source": [
    "# Testing and Debugging\n",
    "\n",
    "testing is the process of running a program to try and ascertain whether or not it works as intended. [Debugging](http://history-computer.com/ModernComputer/Relays/Aiken.html) is the process of trying to fix a program that you already know does not work as intended.\n",
    "\n",
    "## Conducting Tests\n",
    "\n",
    "Testing is often thought of as occurring in two phases. One should always start with **unit testing** to ensure whether individual modules (e.g. functions) work properly. This is followed by **integration testing**, which is designed to ascertain whether the program as a whole behaves as intended. \n",
    "\n",
    "## Debugging\n",
    "\n",
    "Runtime bugs can be categorized along two dimensions:\n",
    "\n",
    "* **overt -> covert:** An overt bug has an obvious manifestation, e.g., the program crashes or takes far longer to run. A **covert** bug has no obvious manifestation. The program my run to conclusion with no problem, but gives a wrong answer.\n",
    "\n",
    "* **Persistent -> Intermittent:** A persitent bug occurs every time the program is run. An ontermittent bug ocurrs only some of the time.\n",
    "\n",
    "Good programers try to write their programs in such a way that programming mistakes lead to bugs that are both overt and persistent. This is often called **defensive programming**\n",
    "\n",
    "### When the going gets tough\n",
    "\n",
    "What to do when debugging gets tough:\n",
    "\n",
    "* Look for usual mistakes\n",
    "     * Arguments passed in the wrong order\n",
    "     * Misspelled of a name\n",
    "     * Failed to reinitialize a variable\n",
    "     * Tested that two floating point variables are (==) instead of nearly equal\n",
    "     * Tested value equality L1==L2 when you wanted object equality id(L1) == id(L2)\n",
    "     * Created an unintentional alias\n",
    "     * etc\n",
    "     \n",
    "* Stop asking why the program is not doing what you want and ask why the program is doing what it is doing\n",
    "* Keep in mind that the bug is probably not where you think it is\n",
    "* Try to explain the problem to sombody else\n",
    "* Do not believe everything you read, since the code cannot be doing what the documentation says\n",
    "* Stop debugging and start writting documentation\n",
    "* Walk away and try tomorrow"
   ]
  },
  {
   "cell_type": "markdown",
   "metadata": {},
   "source": [
    "# Exceptions and Assertions"
   ]
  },
  {
   "cell_type": "code",
   "execution_count": null,
   "metadata": {
    "collapsed": true
   },
   "outputs": [],
   "source": [
    "test = [1,2,3]\n",
    "test[2]"
   ]
  },
  {
   "cell_type": "markdown",
   "metadata": {},
   "source": [
    "IndexError is the type of exception that Python raises when a program tries to access an element that is not within the bounds of and indexable type\n",
    "\n",
    "## Handling Exception \n",
    "\n",
    "When an Exception is raised that caused the program to terminate, we say that an **unhandled exception** has been raised. Exceptions when raised can and should be **handled**"
   ]
  },
  {
   "cell_type": "code",
   "execution_count": 35,
   "metadata": {},
   "outputs": [
    {
     "ename": "ZeroDivisionError",
     "evalue": "float division by zero",
     "output_type": "error",
     "traceback": [
      "\u001b[1;31m---------------------------------------------------------------------------\u001b[0m",
      "\u001b[1;31mZeroDivisionError\u001b[0m                         Traceback (most recent call last)",
      "\u001b[1;32m<ipython-input-35-9c2b0f199782>\u001b[0m in \u001b[0;36m<module>\u001b[1;34m()\u001b[0m\n\u001b[0;32m      1\u001b[0m \u001b[0mnumSuccesses\u001b[0m \u001b[1;33m=\u001b[0m \u001b[1;36m20\u001b[0m\u001b[1;33m\u001b[0m\u001b[0m\n\u001b[0;32m      2\u001b[0m \u001b[0mnumFailures\u001b[0m \u001b[1;33m=\u001b[0m \u001b[1;36m0\u001b[0m\u001b[1;33m\u001b[0m\u001b[0m\n\u001b[1;32m----> 3\u001b[1;33m \u001b[0msuccessFailureRatio\u001b[0m \u001b[1;33m=\u001b[0m \u001b[0mnumSuccesses\u001b[0m\u001b[1;33m/\u001b[0m\u001b[0mfloat\u001b[0m\u001b[1;33m(\u001b[0m\u001b[0mnumFailures\u001b[0m\u001b[1;33m)\u001b[0m\u001b[1;33m\u001b[0m\u001b[0m\n\u001b[0m\u001b[0;32m      4\u001b[0m \u001b[0mprint\u001b[0m\u001b[1;33m(\u001b[0m\u001b[1;34m'The success/failure ratio is '\u001b[0m\u001b[1;33m,\u001b[0m \u001b[0msuccessFailureRatio\u001b[0m\u001b[1;33m)\u001b[0m\u001b[1;33m\u001b[0m\u001b[0m\n",
      "\u001b[1;31mZeroDivisionError\u001b[0m: float division by zero"
     ]
    }
   ],
   "source": [
    "numSuccesses = 20\n",
    "numFailures = 0\n",
    "successFailureRatio = numSuccesses/float(numFailures)\n",
    "print('The success/failure ratio is ', successFailureRatio)"
   ]
  },
  {
   "cell_type": "code",
   "execution_count": 37,
   "metadata": {},
   "outputs": [
    {
     "name": "stdout",
     "output_type": "stream",
     "text": [
      "No failures so the success/failure ratio is undefined\n"
     ]
    }
   ],
   "source": [
    "numSuccesses = 2\n",
    "numFailures = 0\n",
    "try:\n",
    "    successFailureRatio = numSuccesses/float(numFailures)\n",
    "    print('The success/failure ratio is ', successFailureRatio)\n",
    "except ZeroDivisionError:\n",
    "    print('No failures so the success/failure ratio is undefined')"
   ]
  },
  {
   "cell_type": "markdown",
   "metadata": {},
   "source": [
    "Let's look at another example"
   ]
  },
  {
   "cell_type": "code",
   "execution_count": 3,
   "metadata": {},
   "outputs": [
    {
     "name": "stdout",
     "output_type": "stream",
     "text": [
      "Enter int: 3\n",
      "The square of the number you entered is:  9\n"
     ]
    }
   ],
   "source": [
    "val = int(input('Enter int: '))\n",
    "print('The square of the number you entered is: ', val**2)"
   ]
  },
  {
   "cell_type": "code",
   "execution_count": 5,
   "metadata": {},
   "outputs": [
    {
     "name": "stdout",
     "output_type": "stream",
     "text": [
      "Enter int: hola\n",
      "hola is not an integer\n",
      "Enter int: chao\n",
      "chao is not an integer\n",
      "Enter int: 9\n",
      "The square of the number you entered is:  81\n"
     ]
    }
   ],
   "source": [
    "while True:\n",
    "    val = input('Enter int: ')\n",
    "    try: \n",
    "        val = int(val)\n",
    "        print('The square of the number you entered is: ', val**2)\n",
    "        break\n",
    "    except ValueError:\n",
    "        print(val + ' is not an integer')"
   ]
  },
  {
   "cell_type": "markdown",
   "metadata": {},
   "source": [
    "If the program has many places where it is needed to enter an integer you can create a function to save both time and space"
   ]
  },
  {
   "cell_type": "code",
   "execution_count": null,
   "metadata": {
    "collapsed": true
   },
   "outputs": [],
   "source": [
    "def readInt():\n",
    "    while True:\n",
    "        val = input('Enter int: ')\n",
    "        try: \n",
    "            val = int(val)\n",
    "            return val**2\n",
    "        except ValueError:\n",
    "            print(val + ' is not an integer')\n",
    "\n",
    "readInt()"
   ]
  },
  {
   "cell_type": "markdown",
   "metadata": {},
   "source": [
    "But you can do even better creating a **polymorphic** function *readVal*"
   ]
  },
  {
   "cell_type": "code",
   "execution_count": null,
   "metadata": {
    "collapsed": true
   },
   "outputs": [],
   "source": [
    "def readVal(valType, requestMsg, errorMsg):\n",
    "    while True:\n",
    "        val = input(requestMsg + ' ')\n",
    "        try: \n",
    "            val = valType(val)\n",
    "            return val\n",
    "        except ValueError:\n",
    "            print(val + ' ' + errorMsg)\n",
    "            \n",
    "#val = readVal(int, 'Enter an integer:', 'is not an integer')\n",
    "#val\n",
    "\n",
    "val = readVal(str, 'Enter an string:', 'is not an string')"
   ]
  },
  {
   "cell_type": "markdown",
   "metadata": {},
   "source": [
    "## Exceptions as a Control Flow Mechanism"
   ]
  },
  {
   "cell_type": "code",
   "execution_count": null,
   "metadata": {
    "collapsed": true
   },
   "outputs": [],
   "source": [
    "def getRatios(vect1, vect2):\n",
    "    \"\"\"\n",
    "    Assumes: vect1 and vect2 are lists of equal length of numbers\n",
    "    Returns: a list containing the meaninfull values of vect1[i]/vect2[i]\n",
    "    \"\"\"\n",
    "    ratios = []\n",
    "    for indx in range(len(vect1)):\n",
    "        try:\n",
    "            ratios.append(vect1[indx]/float(vect2[indx]))\n",
    "        except ZeroDivisionError:\n",
    "            ratios.append(float('nan')) #nan = Not a number\n",
    "        except:\n",
    "            raise ValueError('getRatios called with bad args')\n",
    "    return ratios\n",
    "\n",
    "try:\n",
    "    print(getRatios([1.0,2.0,7.0,6.0],[1.0,2.0,0.0,3.0]))\n",
    "    print(getRatios([],[]))\n",
    "    print(getRatios([1.0,2.0],[3.0]))\n",
    "except ValueError as msg:\n",
    "    print(msg)"
   ]
  },
  {
   "cell_type": "code",
   "execution_count": null,
   "metadata": {
    "collapsed": true
   },
   "outputs": [],
   "source": [
    "def getGrades(fname):\n",
    "    try:\n",
    "        gradesFile = open(fname, 'r') #open file for reading\n",
    "    except IOError:\n",
    "        raise ValueError('getGrades could not open '+ fname)\n",
    "    grades = []\n",
    "    for line in gradesFile:\n",
    "        try: \n",
    "            grades.append(float(line))\n",
    "        except:\n",
    "            raise ValueError('Unable to convert line to float')\n",
    "    return grades\n",
    "\n",
    "try:\n",
    "    grades = getGrades('quizgrades.txt')\n",
    "    grades.sort()\n",
    "    median = grades[len(grades)//2]\n",
    "    print('Median grade is', median)\n",
    "except ValueError as errorMsg:\n",
    "    print('Whoops, ', errorMsg)"
   ]
  },
  {
   "cell_type": "markdown",
   "metadata": {},
   "source": [
    "## Assertions\n",
    "\n",
    "The Python assert statement provides programmers with a simple way to confirm that the state of computation is as expected. The form of an assert statement is\n",
    "\n",
    "    assert Boolean expression, optional argument\n",
    "    \n",
    "When the **assert** statement is encountered the boolean expression is evaluated. If it is evaluated to True, excecution proceeds on its merry way. If it evaluated to False and AssertionError exception is raised"
   ]
  },
  {
   "cell_type": "code",
   "execution_count": 6,
   "metadata": {},
   "outputs": [
    {
     "name": "stdout",
     "output_type": "stream",
     "text": [
      "Colder than absolute zero!\n"
     ]
    }
   ],
   "source": [
    "def KelvinToFahrenheit(Temperature):\n",
    "   assert (Temperature >= 0),\"Colder than absolute zero!\"\n",
    "   return ((Temperature-273)*1.8)+32\n",
    "\n",
    "\n",
    "try:\n",
    "    KelvinToFahrenheit(-2)\n",
    "except AssertionError as errMsg:\n",
    "    print(errMsg)\n",
    "    \n"
   ]
  },
  {
   "cell_type": "markdown",
   "metadata": {},
   "source": [
    "# Classes and Object-Oriented Programming"
   ]
  },
  {
   "cell_type": "markdown",
   "metadata": {},
   "source": [
    "The last major topic related to writing a program in Python is the use of clases. Classes can be used in the context of **object-oriented programming**, which requires that you think about an object as a collection of both data and the functions that operate on that data. We have been relaying in object oriented programming but you did not know it!!!\n",
    "\n",
    "## Abstract data types and classes\n",
    "\n",
    "An **abstract data type** is a set of objects and the operations on those objects. These are bound together so one can pass an object from one part of the program to another, providing access not only to the data but also to the method that operate on that data.\n",
    "\n",
    "The specifications of these operations define an **interface** between the abstract data type and the rest of the program. The interface defines what the operation does, but not how it does it. The interface then, provides an **abstraction barrier**\n",
    "\n",
    "Programming is about managing complexity which can be acomplished through **decomposition and abstraction**. Decoposition creates structure and abstraction supresses complexity"
   ]
  },
  {
   "cell_type": "code",
   "execution_count": 4,
   "metadata": {
    "collapsed": true
   },
   "outputs": [],
   "source": [
    "class IntSet(object):\n",
    "    \"\"\"\n",
    "    An IntSet is a set of integers\n",
    "    The value is represented by a list of ints, self.vals\n",
    "    Each int in the set occurs in self.vals exactly once\n",
    "    \"\"\"\n",
    "    def __init__(self):\n",
    "        '''\n",
    "        Create an empty set of integers\n",
    "        '''\n",
    "        self.vals = []\n",
    "        \n",
    "    def insert(self, e):\n",
    "        '''\n",
    "        Assumes e is an integer and inserts e into self\n",
    "        '''\n",
    "        if not e in self.vals:\n",
    "            self.vals.append(e)\n",
    "    \n",
    "    def member(self, e):\n",
    "        '''\n",
    "        Assumes e is an integer\n",
    "        Return True if e is in self, and False otherwise\n",
    "        '''\n",
    "        return e in self.vals\n",
    "    \n",
    "    def remove(self, e):\n",
    "        '''\n",
    "        Assumes e is an integer and removes e from self\n",
    "        Raises ValueError if e is not in self\n",
    "        '''\n",
    "        try:\n",
    "            self.vals.remove(e)\n",
    "        except:\n",
    "            raise ValueError(str(e)+ ' not found')\n",
    "    \n",
    "    def __str__(self):\n",
    "        '''\n",
    "        Returns a string representation of self\n",
    "        '''\n",
    "        self.vals.sort()\n",
    "        print(self.vals)\n",
    "        result = ''\n",
    "        for e in self.vals:\n",
    "            result = result + str(e) + ','\n",
    "        return '{' + result[:,-1] + '}'"
   ]
  },
  {
   "cell_type": "code",
   "execution_count": null,
   "metadata": {
    "collapsed": true
   },
   "outputs": [],
   "source": [
    "print(type(IntSet)), print(type(IntSet.member))\n"
   ]
  },
  {
   "cell_type": "markdown",
   "metadata": {},
   "source": [
    "When a function definition occurs within a class definition, the defined function is called a **method** and is associated with the class. \n",
    "\n",
    "Classes support two kinds of operations:\n",
    "\n",
    "* **Instantiation**: is used to create instances of the class. The statement s = IntSet() creates a new object of type IntSet. This object is called an **instance** of IntSet\n",
    "* **Attribute references**: Use dot notation to access attributes associated with the class, e.g. s.remove(e)\n",
    "\n",
    "When the line code\n",
    "\n",
    "    s = IntSet()\n",
    "    \n",
    "is executed, the interpreter will create a new object, called an **instance**, of type IntSet, and then call IntSet.__init__ with the newly created object as the actual parameter that is bound to the formal parameter **self**. When invoked, IntSet.__init__ creates vals, an object of type list which is called a **data attribute**"
   ]
  },
  {
   "cell_type": "code",
   "execution_count": null,
   "metadata": {
    "collapsed": true
   },
   "outputs": [],
   "source": [
    "s = IntSet()\n",
    "s.insert(3)\n",
    "s.insert(6)\n",
    "s.remove(7)"
   ]
  },
  {
   "cell_type": "markdown",
   "metadata": {},
   "source": [
    "A class should no be confussed with instances of that class, just as an object of type list should not be confused with the list type. Keep in mind that IntSet.member and s.member are different objects.\n",
    "\n",
    "When data attributes are associated with a class we call them **class variables**, and when they are associated with an instance we call them **instance variables**.\n",
    "\n",
    "Data abstraction achieves representation-independence. The **representation invariant** defines which values of the data attributes encode valid representation of abstract values."
   ]
  },
  {
   "cell_type": "code",
   "execution_count": 5,
   "metadata": {
    "collapsed": true
   },
   "outputs": [],
   "source": [
    "import datetime\n",
    "\n",
    "class Person(object):\n",
    "    def __init__(self, name):\n",
    "        '''\n",
    "        Creates a person with name name\n",
    "        '''\n",
    "        self.name = name\n",
    "        try:\n",
    "            lastBlank = name.rindex(' ')\n",
    "            self.lastName = name[lastBlank+1:]\n",
    "        except:\n",
    "            self.lastName = name\n",
    "        self.birthDay = None\n",
    "        \n",
    "    def getLastName(self):\n",
    "        '''\n",
    "        returns self's last name\n",
    "        '''\n",
    "        return self.lastName\n",
    "    \n",
    "    def setBirthDay(self, birthDate):\n",
    "        '''\n",
    "        Assume birthDate is of type datetime.date\n",
    "        set self's birthday to birthDate \n",
    "        '''\n",
    "        self.birthday = birthDate\n",
    "    \n",
    "    def getAge(self):\n",
    "        '''\n",
    "        returns self's current age in days\n",
    "        '''\n",
    "        if self.birthday == None:\n",
    "            raise ValueError\n",
    "        return(datetime.date.today()-self.birthday).days\n",
    "    \n",
    "    def __lt__(self, other):\n",
    "        '''\n",
    "        return True if self's name is lexicographically\n",
    "        less than other's name, and False otherwise\n",
    "        '''\n",
    "        if self.lastName == other.lastName:\n",
    "            return self.name < other.name\n",
    "        return self.lastName < other.lastName\n",
    "    \n",
    "    def __str__(self):\n",
    "        '''\n",
    "        return self's name\n",
    "        '''\n",
    "        return self.name"
   ]
  },
  {
   "cell_type": "code",
   "execution_count": 6,
   "metadata": {},
   "outputs": [
    {
     "name": "stdout",
     "output_type": "stream",
     "text": [
      "DeLaFuente\n",
      "36.84052019164955\n",
      "Levi Campos\n"
     ]
    }
   ],
   "source": [
    "me = Person('Rodrigo DeLaFuente')\n",
    "him = Person('Barack Obama')\n",
    "him2 = Person('Levi Campos')\n",
    "print(me.getLastName())\n",
    "me.setBirthDay(datetime.date(1981, 5, 4))\n",
    "print(me.getAge()/365.25)\n",
    "print(him2)"
   ]
  },
  {
   "cell_type": "code",
   "execution_count": 7,
   "metadata": {},
   "outputs": [
    {
     "name": "stdout",
     "output_type": "stream",
     "text": [
      "Rodrigo DeLaFuente\n",
      "Barack Obama\n",
      "Madonna\n"
     ]
    }
   ],
   "source": [
    "pList = [me, him, her]\n",
    "for p in pList:\n",
    "    print(p)"
   ]
  },
  {
   "cell_type": "markdown",
   "metadata": {},
   "source": [
    "Now, use the __lt__ method to sort the list"
   ]
  },
  {
   "cell_type": "code",
   "execution_count": 8,
   "metadata": {},
   "outputs": [
    {
     "name": "stdout",
     "output_type": "stream",
     "text": [
      "Rodrigo DeLaFuente\n",
      "Madonna\n",
      "Barack Obama\n"
     ]
    }
   ],
   "source": [
    "pList.sort()\n",
    "for p in pList:\n",
    "    print(p)"
   ]
  },
  {
   "cell_type": "markdown",
   "metadata": {},
   "source": [
    "## Inheritance\n",
    "\n",
    "**Inheritance** provides a convenient mechanism for building groups of related abstractions. It allows programmers to create a type hierarchy in which each type inherits attributes from the type above it in the hierarchy. The class **object** is at the top of the hierarchy. Because **Person** inherits all of the properties of objects, programs can bind a variable to a **Person**, append a Person to a list, etc."
   ]
  },
  {
   "cell_type": "code",
   "execution_count": 9,
   "metadata": {
    "collapsed": true
   },
   "outputs": [],
   "source": [
    "class MITPerson(Person):\n",
    "    nextIdNum = 0 # this is a class variable\n",
    "    def __init__(self, name):\n",
    "        Person.__init__(self, name)\n",
    "        self.idNum = MITPerson.nextIdNum\n",
    "        MITPerson.nextIdNum += 1\n",
    "    def getIdNum(self):\n",
    "        return self.idNum\n",
    "    def __lt__(self, other):\n",
    "        return self.idNum < other.idNum"
   ]
  },
  {
   "cell_type": "markdown",
   "metadata": {},
   "source": [
    "MITPerson is a **subclass** of Person, and therefore **inherits** the attributes of the **superclass**. In addition, the subclass can:\n",
    "* Add new attributes\n",
    "* **Override** attributes of the superclass (MITPerson overrode __init__ and __lt__)"
   ]
  },
  {
   "cell_type": "code",
   "execution_count": 13,
   "metadata": {},
   "outputs": [
    {
     "name": "stdout",
     "output_type": "stream",
     "text": [
      "Barbara Beaver's id number is 8\n",
      "Rodrigo Alarcon's id number is 9\n",
      "Rodrigo Tapia's id number is 10\n"
     ]
    }
   ],
   "source": [
    "p1 = MITPerson('Barbara Beaver')\n",
    "print(str(p1) + '\\'s id number is ' + str(p1.getIdNum()))\n",
    "p2 = MITPerson('Rodrigo Alarcon')\n",
    "print(str(p2) + '\\'s id number is ' + str(p2.getIdNum()))\n",
    "p3 = MITPerson('Rodrigo Tapia')\n",
    "print(str(p3) + '\\'s id number is ' + str(p3.getIdNum()))"
   ]
  },
  {
   "cell_type": "code",
   "execution_count": 14,
   "metadata": {},
   "outputs": [
    {
     "name": "stdout",
     "output_type": "stream",
     "text": [
      "p1 < p2 = True\n"
     ]
    }
   ],
   "source": [
    "print('p1 < p2 =', p1 < p2)"
   ]
  },
  {
   "cell_type": "markdown",
   "metadata": {},
   "source": [
    "### Multiple levels of inheritance"
   ]
  },
  {
   "cell_type": "code",
   "execution_count": 15,
   "metadata": {
    "collapsed": true
   },
   "outputs": [],
   "source": [
    "class Student(MITPerson):\n",
    "    pass\n",
    "\n",
    "class UG(Student):\n",
    "    def __init__(self, name, classYear):\n",
    "        MITPerson.__init__(self, name)\n",
    "        self.year = classYear\n",
    "    def getClass(self):\n",
    "        return self.year\n",
    "    \n",
    "class Grad(Student):\n",
    "    pass"
   ]
  },
  {
   "cell_type": "markdown",
   "metadata": {},
   "source": [
    "By using the Python reserved word pass as the body, we indicate that the class has no attributes than those inherited from its superclass"
   ]
  },
  {
   "cell_type": "code",
   "execution_count": 16,
   "metadata": {},
   "outputs": [
    {
     "name": "stdout",
     "output_type": "stream",
     "text": [
      "Buzz Aldrin  is a graduate student is  True\n",
      "Buzz Aldrin  is an undergraduate student is  False\n"
     ]
    }
   ],
   "source": [
    "p3 = Grad('Buzz Aldrin')\n",
    "p4 = UG('Billy Beaver', 1984)\n",
    "print(p3, ' is a graduate student is ', type(p3) == Grad)\n",
    "print(p3, ' is an undergraduate student is ', type(p3) == UG)"
   ]
  },
  {
   "cell_type": "code",
   "execution_count": 17,
   "metadata": {},
   "outputs": [
    {
     "name": "stdout",
     "output_type": "stream",
     "text": [
      "Buzz Aldrin is a student is True\n",
      "Billy Beaver is a student is True\n"
     ]
    }
   ],
   "source": [
    "class MITPerson(Person):\n",
    "    nextIdNum = 0 # this is a class variable\n",
    "    def __init__(self, name):\n",
    "        Person.__init__(self, name)\n",
    "        self.idNum = MITPerson.nextIdNum\n",
    "        MITPerson.nextIdNum += 1\n",
    "    def getIdNum(self):\n",
    "        return self.idNum\n",
    "    def isStudent(self):\n",
    "        return isinstance(self, Student)\n",
    "    def __lt__(self, other):\n",
    "        return self.idNum < other.idNum\n",
    "    \n",
    "class Student(MITPerson):\n",
    "    pass\n",
    "\n",
    "class UG(Student):\n",
    "    def __init__(self, name, classYear):\n",
    "        MITPerson.__init__(self, name)\n",
    "        self.year = classYear\n",
    "    def getClass(self):\n",
    "        return self.year\n",
    "    \n",
    "class Grad(Student):\n",
    "    pass\n",
    "\n",
    "p3 = Grad('Buzz Aldrin')\n",
    "p4 = UG('Billy Beaver', 1984)\n",
    "print(p3, 'is a student is', p3.isStudent())\n",
    "print(p4, 'is a student is', p4.isStudent())"
   ]
  },
  {
   "cell_type": "code",
   "execution_count": 18,
   "metadata": {},
   "outputs": [
    {
     "name": "stdout",
     "output_type": "stream",
     "text": [
      "True\n",
      "False\n"
     ]
    }
   ],
   "source": [
    "print(isinstance(p4, Student))\n",
    "print(type(p4) == Student)"
   ]
  },
  {
   "cell_type": "markdown",
   "metadata": {},
   "source": [
    "Adding a transfer student"
   ]
  },
  {
   "cell_type": "code",
   "execution_count": null,
   "metadata": {
    "collapsed": true
   },
   "outputs": [],
   "source": [
    "class TransferStudent(Student):\n",
    "    def __init__(self, name, fromSchool):\n",
    "        MITPerson.__init__(self, name)\n",
    "        self.fromSchool = fromSchool\n",
    "    def getOldSchool(self):\n",
    "        return self.fromSchool"
   ]
  },
  {
   "cell_type": "markdown",
   "metadata": {},
   "source": [
    "### The substitution principle\n",
    "\n",
    "The subclasses extend the behavior of their superclasses. For example TransferStudent extends Student by adding the notion of a former school. If a client code works correctly using an instance of the supertype, it should also work correctly when an instance of the subtype is substituted for the instance of the supertype. This is known as the **substitution principle**."
   ]
  },
  {
   "cell_type": "markdown",
   "metadata": {},
   "source": [
    "## Encapsulation and information Hiding"
   ]
  },
  {
   "cell_type": "code",
   "execution_count": null,
   "metadata": {
    "collapsed": true
   },
   "outputs": [],
   "source": [
    "class Grades(object):\n",
    "    \"\"\"\n",
    "    A mapping from students to a list of grades\n",
    "    \"\"\"\n",
    "    def __init__(self):\n",
    "        '''\n",
    "        Create empty grade book\n",
    "        '''\n",
    "        self.students = []\n",
    "        self.grades = {}\n",
    "        self.isSorted = True\n",
    "        \n",
    "    def addStudent(self, student):\n",
    "        \"\"\"\n",
    "        Assumes: Student is of type Student\n",
    "        Add student to the grade book\n",
    "        \"\"\"\n",
    "        if student in self.students:\n",
    "            raise ValueError(\"Duplicate Student\")\n",
    "        self.students.append(student)\n",
    "        self.grades[student.getIdNum()] = []\n",
    "        self.isSorted = False\n",
    "        \n",
    "    def addGrade(self, student, grade):\n",
    "        '''\n",
    "        Assumes: grade is a float\n",
    "        Add grade to the list of grades for student\n",
    "        '''\n",
    "        try:\n",
    "            self.grades[student.getIdNum()].append(grade)\n",
    "        except:\n",
    "            raise ValueError(\"Student not in mapping\")\n",
    "    \n",
    "    def getGrades(self, student):\n",
    "        '''\n",
    "        Return a list of grades for students\n",
    "        '''\n",
    "        try:\n",
    "            return self.grades[student.getIdNum()][:]\n",
    "        except:\n",
    "            raise ValueError('Student not in mapping')\n",
    "            \n",
    "    def allStudents(self):\n",
    "        '''\n",
    "        Return a list of the students in the grade book\n",
    "        '''\n",
    "        if not self.isSorted:\n",
    "            self.students.sort()\n",
    "        return self.students[:] # Return copy of list of students\n",
    "    \n",
    "def gradeReport(course):\n",
    "    \"\"\"\n",
    "    Assumes: course is of type grades\n",
    "    \"\"\"\n",
    "    report = ''\n",
    "    for s in course.allStudents():\n",
    "        tot = 0.0\n",
    "        numGrades = 0\n",
    "        for g in course.getGrades(s):\n",
    "            tot += g\n",
    "            numGrades += 1\n",
    "        try:\n",
    "            average = tot/numGrades\n",
    "            report = report + '\\n'\\\n",
    "                    + str(s) + '\\'s mean grade is '\\\n",
    "                    + str(average)\n",
    "        except ZeroDivisionError:\n",
    "            report = report + '\\n'\\\n",
    "                    + str(s) + ' has no grades'\n",
    "    return report\n",
    "\n",
    "ug1 = UG('Jane Doe', 2014)\n",
    "ug2 = UG('John Doe', 2015)\n",
    "ug3 = UG('David Henry', 2003)\n",
    "g1 = Grad('Billy Buckner')\n",
    "g2 = Grad('Bucky F. Dent')\n",
    "SixHundred = Grades()\n",
    "SixHundred.addStudent(ug1)\n",
    "SixHundred.addStudent(ug2)\n",
    "SixHundred.addStudent(g1)\n",
    "SixHundred.addStudent(g2)\n",
    "for s in SixHundred.allStudents():\n",
    "    SixHundred.addGrade(s,75)\n",
    "SixHundred.addGrade(g1, 25)\n",
    "SixHundred.addGrade(g2, 100)\n",
    "SixHundred.addStudent(ug3)\n",
    "print(gradeReport(SixHundred))"
   ]
  },
  {
   "cell_type": "code",
   "execution_count": null,
   "metadata": {
    "collapsed": true
   },
   "outputs": [],
   "source": [
    "SixHundred.getGrades(g2)"
   ]
  },
  {
   "cell_type": "markdown",
   "metadata": {},
   "source": [
    "### User-defined iterators\n",
    "\n",
    "A percived risk of information hiding is that preventing client programs from directly accessing critical data structures leads to an unacceptable loss of efficiency. The invocation of **course.allStudents** creates and return a list of size **n**, which can be a huge problem when n has more than a million elements. A better soluction is to add an **iterator** to the abstraction.\n",
    "\n",
    "Below, an improved version of the method is given. It uses a generator, which is like a function with the exception that it can stop in the middle, then return a value using a **yield** statement, and later resume from the point it has stopped."
   ]
  },
  {
   "cell_type": "code",
   "execution_count": null,
   "metadata": {
    "collapsed": true
   },
   "outputs": [],
   "source": [
    "class Grades(object):\n",
    "    \"\"\"\n",
    "    A mapping from students to a list of grades\n",
    "    \"\"\"\n",
    "    def __init__(self):\n",
    "        '''\n",
    "        Create empty grade book\n",
    "        '''\n",
    "        self.students = []\n",
    "        self.grades = {}\n",
    "        self.isSorted = True\n",
    "        \n",
    "    def addStudent(self, student):\n",
    "        \"\"\"\n",
    "        Assumes: Student is of type Student\n",
    "        Add student to the grade book\n",
    "        \"\"\"\n",
    "        if student in self.students:\n",
    "            raise ValueError(\"Duplicate Student\")\n",
    "        self.students.append(student)\n",
    "        self.grades[student.getIdNum()] = []\n",
    "        self.isSorted = False\n",
    "        \n",
    "    def addGrade(self, student, grade):\n",
    "        '''\n",
    "        Assumes: grade is a float\n",
    "        Add grade to the list of grades for student\n",
    "        '''\n",
    "        try:\n",
    "            self.grades[student.getIdNum()].append(grade)\n",
    "        except:\n",
    "            raise ValueError(\"Student not in mapping\")\n",
    "    \n",
    "    def getGrades(self, student):\n",
    "        '''\n",
    "        Return a list of grades for students\n",
    "        '''\n",
    "        try:\n",
    "            return self.grades[student.getIdNum()][:]\n",
    "        except:\n",
    "            raise ValueError('Student not in mapping')\n",
    "            \n",
    "    def allStudents(self):\n",
    "        '''\n",
    "        Return a list of the students in the grade book\n",
    "        '''\n",
    "        if not self.isSorted:\n",
    "            self.students.sort()\n",
    "        for s in self.students:\n",
    "            yield s\n",
    "            \n",
    "def gradeReport(course):\n",
    "    \"\"\"\n",
    "    Assumes: course is of type grades\n",
    "    \"\"\"\n",
    "    report = ''\n",
    "    for s in course.allStudents():\n",
    "        tot = 0.0\n",
    "        numGrades = 0\n",
    "        for g in course.getGrades(s):\n",
    "            tot += g\n",
    "            numGrades += 1\n",
    "        try:\n",
    "            average = tot/numGrades\n",
    "            report = report + '\\n'\\\n",
    "                    + str(s) + '\\'s mean grade is '\\\n",
    "                    + str(average)\n",
    "        except ZeroDivisionError:\n",
    "            report = report + '\\n'\\\n",
    "                    + str(s) + ' has no grades'\n",
    "    return report\n",
    "\n",
    "ug1 = UG('Jane Doe', 2014)\n",
    "ug2 = UG('John Doe', 2015)\n",
    "ug3 = UG('David Henry', 2003)\n",
    "g1 = Grad('Billy Buckner')\n",
    "g2 = Grad('Bucky F. Dent')\n",
    "SixHundred = Grades()\n",
    "SixHundred.addStudent(ug1)\n",
    "SixHundred.addStudent(ug2)\n",
    "SixHundred.addStudent(g1)\n",
    "SixHundred.addStudent(g2)\n",
    "gen = SixHundred.allStudents()\n",
    "print(gen)\n",
    "print(next(gen))\n",
    "print(next(gen))\n",
    "print(next(gen))\n",
    "print(next(gen))"
   ]
  },
  {
   "cell_type": "code",
   "execution_count": null,
   "metadata": {
    "collapsed": true
   },
   "outputs": [],
   "source": []
  }
 ],
 "metadata": {
  "anaconda-cloud": {},
  "kernelspec": {
   "display_name": "Python [default]",
   "language": "python",
   "name": "python3"
  },
  "language_info": {
   "codemirror_mode": {
    "name": "ipython",
    "version": 3
   },
   "file_extension": ".py",
   "mimetype": "text/x-python",
   "name": "python",
   "nbconvert_exporter": "python",
   "pygments_lexer": "ipython3",
   "version": "3.6.3"
  }
 },
 "nbformat": 4,
 "nbformat_minor": 1
}
