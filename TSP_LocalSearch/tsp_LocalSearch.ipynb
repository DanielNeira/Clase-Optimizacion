{
 "cells": [
  {
   "cell_type": "markdown",
   "metadata": {},
   "source": [
    "\n",
    "Sacado de algún repositorio de [github](www.github.com/). Editado por [Daniel Neira](https://github.com/DanielNeira/).\n",
    "\n",
    "Tenga en cuenta que las listas son pasadas por referencia en Python. Puede copiarlos por  `copy = original[:]`\n",
    "\n",
    "Queremos agradecer a [Gerhard Reinelt](http://comopt.ifi.uni-heidelberg.de/software/TSPLIB95/) por proporcionarnos las instancias de TSP que se pueden encontrar [aquí](http://comopt.ifi.uni-heidelberg.de/software/TSPLIB95/tsp/).\n",
    "\n",
    "--------"
   ]
  },
  {
   "cell_type": "markdown",
   "metadata": {},
   "source": [
    "# Metaheuristicas: Local Search\n",
    "\n",
    "En esta tarea vas a implementar paso a paso una estrategia de búsqueda local. \n",
    "Al final de la asignación tendrás tu propia implementación de búsqueda local iterada! \n",
    "La estrategia de búsqueda local va a ser utilizada para resolver las instancias de los vendedores viajeros en una región euclidiana. \n",
    "\n",
    "Para utilizar la búsqueda local se necesitan los siguientes componentes:\n",
    "\n",
    "0. La solución codificada;\n",
    "1. Una forma de crear una solución inicial;\n",
    "2. La definición de barrio (`neighborhood`), es decir, los movimientos que se pueden hacer;\n",
    "3. Una función objetiva;\n",
    "4. Una estrategia de búsqueda.\n",
    "\n",
    "En esta asignación, se dan la codificación y la función de objetivo. Las soluciones se codifican como una lista ordenada de símbolos de ciudad y la función objetiva es simplemente la suma de las distancias entre las ciudades.\n"
   ]
  },
  {
   "cell_type": "markdown",
   "metadata": {},
   "source": [
    "**La siguiente celda es el código de la `caldera`, que tienes que ejecutar antes de continuar.!**"
   ]
  },
  {
   "cell_type": "code",
   "execution_count": 1,
   "metadata": {},
   "outputs": [
    {
     "data": {
      "text/plain": [
       "<module 'utils' from '/Users/Daniel/Downloads/HomeworkMetaheuristicsII-master/utils.py'>"
      ]
     },
     "execution_count": 1,
     "metadata": {},
     "output_type": "execute_result"
    }
   ],
   "source": [
    "import utils\n",
    "import importlib\n",
    "import math\n",
    "import random\n",
    "\n",
    "importlib.reload(utils)"
   ]
  },
  {
   "cell_type": "markdown",
   "metadata": {},
   "source": [
    "---\n",
    "Puede elegir entre utilizar una instancia de TSP aleatoria o una instancia de TSP suministrada. Si elige la instancia suministrada, también le daremos el valor óptimo, para que pueda utilizarla y ver cómo funciona tu solución."
   ]
  },
  {
   "cell_type": "code",
   "execution_count": 2,
   "metadata": {
    "collapsed": true
   },
   "outputs": [],
   "source": [
    "# Corre para generar un problema aleatorio (desde la instancia berlin 52)\n",
    "n, distances = utils.generate_euclid_tsp_problem(10, 0, 100)"
   ]
  },
  {
   "cell_type": "code",
   "execution_count": 3,
   "metadata": {
    "collapsed": true
   },
   "outputs": [],
   "source": [
    "# Run this to use the supplied problem.\n",
    "n, distances, optimal_obj_value = utils.load_tsp_problem()"
   ]
  },
  {
   "cell_type": "markdown",
   "metadata": {},
   "source": [
    "--------\n",
    "\n",
    "## Ejercicio 1: Generación del valor inicial\n",
    "\n",
    "Como se describe en la introducción, se requiere un valor inicial para ejecutar el algoritmo de búsqueda local. En este ejercicio se va a implementar una función que la crea.\n",
    "\n",
    "\n",
    "A continuación se presenta una implementación inicial que crea soluciones aleatorias. La función `utils.objective_tsp(your_solution, distances)` calcula el valor objetivo de `r_solution`(tu solución). "
   ]
  },
  {
   "cell_type": "code",
   "execution_count": 4,
   "metadata": {},
   "outputs": [
    {
     "name": "stdout",
     "output_type": "stream",
     "text": [
      "[13, 25, 29, 8, 7, 1, 10, 0, 35, 6, 30, 22, 45, 47, 38, 4, 49, 44, 26, 3, 5, 20, 39, 41, 28, 33, 2, 19, 24, 17, 27, 36, 34, 11, 15, 40, 21, 32, 18, 43, 31, 12, 14, 42, 37, 16, 51, 48, 23, 9, 50, 46]\n",
      "29479.831842816267\n"
     ]
    }
   ],
   "source": [
    "r_initial = utils.random_initial_value(n, distances)\n",
    "\n",
    "print(r_initial)\n",
    "print(utils.objective_tsp(r_initial, distances))"
   ]
  },
  {
   "cell_type": "markdown",
   "metadata": {},
   "source": [
    "**a. Implementar otro método para generar un valor inicial. **"
   ]
  },
  {
   "cell_type": "code",
   "execution_count": 5,
   "metadata": {},
   "outputs": [
    {
     "name": "stdout",
     "output_type": "stream",
     "text": [
      "Initial value: [37, 41, 25, 20, 3, 19, 4, 36, 44, 2, 16, 35, 48, 0, 17, 27, 47, 30, 10, 13, 23, 24, 6, 29, 49, 32, 22, 51, 8, 40, 18, 38, 11, 1, 21, 28, 42, 26, 45, 43, 7, 33, 39, 14, 15, 31, 9, 12, 50, 34, 5, 46]\n",
      "With objective value: 29054.042945811092\n"
     ]
    }
   ],
   "source": [
    "def my_initial_value(n, distances_matrix):\n",
    "    \"\"\"\n",
    "    Genera el valor inicial.\n",
    "    \n",
    "    Returns:\n",
    "        Una lista ordenada de id's de ciudades.\n",
    "    \"\"\"\n",
    "    \n",
    "    # Editar esta función.\n",
    "    return utils.random_initial_value(n, distances_matrix)\n",
    "\n",
    "\n",
    "initial = my_initial_value(n, distances)\n",
    "\n",
    "print(f\"Valor inicial: {initial}\")\n",
    "print(f\"Con valor objetivo: {utils.objective_tsp(initial, distances)}\")"
   ]
  },
  {
   "cell_type": "markdown",
   "metadata": {},
   "source": [
    "---\n",
    "## Ejercicio 2: Vecindario\n",
    "\n",
    "Ahora que tenemos la solución inicial, tenemos que ser capaces de avanzar hacia soluciones mejores. Para ello, es necesario definir el barrio.\n",
    "\n",
    "**a. Implementar un generador de vecindario.\n",
    "\n",
    "Sugerencia: **Un vecindario por lo general no tiene que recalcular completamente la función objetivo *¿Puede hacer esto en su caso?\n",
    "\n",
    "Nota:** `yield` es una palabra clave usada en python para [generadores](https://wiki.python.org/moin/Generators). Puedes rendirte varias veces: ¡cada vez que \"rindas\" es una *solución* en el vecindario!\n"
   ]
  },
  {
   "cell_type": "code",
   "execution_count": 7,
   "metadata": {},
   "outputs": [
    {
     "name": "stdout",
     "output_type": "stream",
     "text": [
      "The original solution [37, 41, 25, 20, 3, 19, 4, 36, 44, 2, 16, 35, 48, 0, 17, 27, 47, 30, 10, 13, 23, 24, 6, 29, 49, 32, 22, 51, 8, 40, 18, 38, 11, 1, 21, 28, 42, 26, 45, 43, 7, 33, 39, 14, 15, 31, 9, 12, 50, 34, 5, 46] has neighboorhood:\n",
      "\t[37, 41, 25, 20, 3, 19, 4, 36, 44, 2, 16, 35, 48, 0, 17, 27, 47, 30, 10, 13, 23, 24, 6, 29, 49, 32, 22, 51, 8, 40, 18, 38, 11, 1, 21, 28, 42, 26, 45, 43, 7, 33, 39, 14, 15, 31, 9, 12, 50, 34, 5, 46]\t with objective value: 29054.042945811092\n"
     ]
    }
   ],
   "source": [
    "def neighbourhood(current_solution, objective_value):\n",
    "    \"\"\"\n",
    "    Un generador que define el vecindario de `current_solution`. \n",
    "    \n",
    "    Returns:\n",
    "        Un generador para la tupla (solution, objective_value)\n",
    "    \"\"\"   \n",
    "\n",
    "    #La implementación actual sólo devuelve la solución actual. \n",
    "    #Sugerencia: El valor_objetivo puede ser recalculado en un tiempo menor a O(n), \n",
    "    #sin embargo, puede volver a ejecutar la función utils.objective_tsp (O(n)) \n",
    "    #en cada solución en su nuevo vecindario.\n",
    "    \n",
    "    yield current_solution, objective_value\n",
    "\n",
    "print(f\"La solución original {initial} tiene un vecindario:\")\n",
    "for j in neighbourhood(initial, utils.objective_tsp(initial, distances)):\n",
    "    print(f\"\\t{j[0]}\\t Con valor objetivo: {j[1]}\")\n"
   ]
  },
  {
   "cell_type": "markdown",
   "metadata": {},
   "source": [
    "---\n",
    "## Ejercicio 3: Búsqueda local\n",
    "\n",
    "Ahora tenemos todos los ingredientes necesarios para realizar una simple búsqueda local. Ya lo hemos implementado para tí, sólo tiene que ejecutarlo."
   ]
  },
  {
   "cell_type": "code",
   "execution_count": 9,
   "metadata": {},
   "outputs": [
    {
     "name": "stdout",
     "output_type": "stream",
     "text": [
      "Your local search solution is: [35, 12, 2, 9, 18, 8, 21, 22, 27, 7, 40, 16, 48, 10, 17, 19, 13, 20, 6, 11, 34, 29, 4, 41, 49, 3, 31, 38, 24, 50, 30, 0, 32, 37, 44, 1, 33, 45, 36, 25, 51, 5, 23, 15, 39, 28, 42, 14, 46, 43, 26, 47]\n",
      "With objective value: 29291.20231361705\n"
     ]
    }
   ],
   "source": [
    "def local_search(current_solution, distances):\n",
    "    \"\"\"\n",
    "    Realiza una búsqueda local utilizando la solución actual como punto de partida.\n",
    "    \n",
    "    Returns:\n",
    "       Una (solution, objective_value)\n",
    "    \"\"\"\n",
    "    \n",
    "    c_solution = current_solution\n",
    "    c_objective = utils.objective_tsp(c_solution, distances)\n",
    "    changed = True\n",
    "\n",
    "    while changed:\n",
    "        changed = False\n",
    "        for neighbour_sequence, neighbour_objective in neighbourhood(c_solution, c_objective):\n",
    "            if(neighbour_objective < c_objective):\n",
    "                c_solution = neighbour_sequence\n",
    "                c_objective = neighbour_objective\n",
    "                changed = True\n",
    "    \n",
    "    return c_solution, c_objective\n",
    "\n",
    "initial = my_initial_value(n, distances)\n",
    "solution, objective = local_search(initial, distances)\n",
    "print(f\"Tu solución de local search es: {solution}\")\n",
    "print(f\"Con valor objetivo: {objective}\")"
   ]
  },
  {
   "cell_type": "markdown",
   "metadata": {},
   "source": [
    "---\n",
    "\n",
    "# Ejercicio 4: Búsqueda local iterada \n",
    "\n",
    "Ahora que tenemos nuestro subprocedimiento de búsqueda local, ahora te toca a tí, tienes que implementar una búsqueda local iterada simple.\n",
    "\n",
    "**Implementar una función de mutación, y elegir/implementar un criterio de parada.**"
   ]
  },
  {
   "cell_type": "code",
   "execution_count": 10,
   "metadata": {},
   "outputs": [
    {
     "ename": "SyntaxError",
     "evalue": "invalid syntax (<ipython-input-10-e215d5b7ad6d>, line 24)",
     "output_type": "error",
     "traceback": [
      "\u001b[0;36m  File \u001b[0;32m\"<ipython-input-10-e215d5b7ad6d>\"\u001b[0;36m, line \u001b[0;32m24\u001b[0m\n\u001b[0;31m    while /* YOUR STOPPING CRITERION */:\u001b[0m\n\u001b[0m          ^\u001b[0m\n\u001b[0;31mSyntaxError\u001b[0m\u001b[0;31m:\u001b[0m invalid syntax\n"
     ]
    }
   ],
   "source": [
    "def mutate(solution):\n",
    "    \"\"\"\n",
    "    Muta la solución dada. \n",
    "    \n",
    "    Returns:\n",
    "        Una solución mutada.\n",
    "    \"\"\"\n",
    "    \n",
    "    mutated = solution[:]\n",
    "    # Muta la solución!\n",
    "    return mutated\n",
    "\n",
    "def iterated_local_search(n, distances):\n",
    "    \"\"\"\n",
    "    Performs an iterated local search to find a solution for the given TSP instance.\n",
    "    \n",
    "    Returns:\n",
    "        An optimized solution for the TSP instance.\n",
    "    \"\"\"\n",
    "    \n",
    "    initial_value = my_initial_value(n, distances)\n",
    "    current_solution, c_obj = local_search(initial_value, distances)\n",
    "    \n",
    "    while /* TU CRITERIO DE DETENCI´*/:\n",
    "        mutated_solution = mutate(current_solution)\n",
    "        proposed_solution, p_obj = local_search(mutated_solution, distances)\n",
    "        if p_obj < c_obj:\n",
    "            current_solution = proposed_solution\n",
    "            c_obj = p_obj                \n",
    "    \n",
    "    return current_solution, c_obj\n",
    "\n",
    "solution, obj = iterated_local_search(n, distances)\n",
    "print(f\"Tu solución final es: {solution}\")\n",
    "print(f\"Con valor objetivo: {obj}\")"
   ]
  },
  {
   "cell_type": "markdown",
   "metadata": {},
   "source": [
    "**¿La implementación anterior que complejidad O() tiene?¿Cómo se puede mejorar?¿Prueba ahora viendo cuando tiempo demorá tu implementación?**"
   ]
  },
  {
   "cell_type": "markdown",
   "metadata": {},
   "source": [
    "## Hasta la PROXIMA!!Ç"
   ]
  }
 ],
 "metadata": {
  "kernelspec": {
   "display_name": "Python [default]",
   "language": "python",
   "name": "python3"
  },
  "language_info": {
   "codemirror_mode": {
    "name": "ipython",
    "version": 3
   },
   "file_extension": ".py",
   "mimetype": "text/x-python",
   "name": "python",
   "nbconvert_exporter": "python",
   "pygments_lexer": "ipython3",
   "version": "3.6.3"
  }
 },
 "nbformat": 4,
 "nbformat_minor": 2
}
