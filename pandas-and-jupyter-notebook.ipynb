{
 "cells": [
  {
   "cell_type": "markdown",
   "metadata": {},
   "source": [
    "This guide describes how to use pandas and Jupyter notebook to analyze a Socrata dataset. It will cover how to do basic analysis of a dataset using pandas functions and how to transform a dataset by mapping functions. \n",
    "\n",
    "## Contents\n",
    "\n",
    "1. [Installing Python and Jupyter](#installing-python-and-jupyter)\n",
    "2. [Importing a Dataset Into Jupyter](#importing-a-dataset-into-jupyter)\n",
    "3. [Basic Analysis of a Dataset](#basic-analysis-of-a-dataset)\n",
    "4. [Mapping Functions to Transform Data](#mapping-functions-to-transform-data)\n",
    "\n",
    "### Installing Python and Jupyter\n",
    "\n",
    "You can run Jupyter notebook in the cloud using a service like https://try.jupyter.org/ or install and run it locally. To install it locally follow the instructions here: http://jupyter.readthedocs.org/en/latest/install.html. You will need to have or install Python 3.3 or greater or Python 2.7. "
   ]
  },
  {
   "cell_type": "markdown",
   "metadata": {},
   "source": [
    "### Import a Dataset Into Jupyter"
   ]
  },
  {
   "cell_type": "markdown",
   "metadata": {},
   "source": [
    "Before we import our sample dataset into the notebook we will import the pandas library. pandas is an open source Python library that provides \"high-performance, easy-to-use data structures and data analysis tools.\" - http://pandas.pydata.org/"
   ]
  },
  {
   "cell_type": "code",
   "execution_count": 2,
   "metadata": {
    "collapsed": false
   },
   "outputs": [
    {
     "name": "stdout",
     "output_type": "stream",
     "text": [
      "0.20.3\n"
     ]
    }
   ],
   "source": [
    "import pandas as pd\n",
    "print(pd.__version__)"
   ]
  },
  {
   "cell_type": "markdown",
   "metadata": {},
   "source": [
    "Next, we will read the following dataset from the Open San Mateo County site:\n",
    "https://data.smcgov.org/Government/Educational-Attainment/mb6a-xn89\n",
    "\n",
    "pandas provides several methods for reading data in differet formats. Here we'll read it in as json but you can read in csv and Excel files as well. \n",
    "\n",
    "Note that you can get the help for any method by adding a \"?\" to the end and running the cell. For example:"
   ]
  },
  {
   "cell_type": "code",
   "execution_count": null,
   "metadata": {},
   "outputs": [],
   "source": [
    "pd.read_json?"
   ]
  },
  {
   "cell_type": "markdown",
   "metadata": {},
   "source": [
    "The data is returned as a \"DataFrame\" which is a 2 dimensional spreadsheet-like datastructure with columns of different types. pandas has two main data structures - the DataFrame and Series. A Series is a one-dimensional array that can hold any value type - This is not necessarily the case but a DataFrame column may be treated as a Series.\n",
    "\n",
    "Displayed below are the first 5 rows of the DataFrame we imported (to see the last n rows use .tail(n))."
   ]
  },
  {
   "cell_type": "code",
   "execution_count": 3,
   "metadata": {
    "collapsed": false
   },
   "outputs": [],
   "source": [
    "df = pd.read_json(\"https://data.smcgov.org/resource/mb6a-xn89.json\")"
   ]
  },
  {
   "cell_type": "code",
   "execution_count": 4,
   "metadata": {
    "collapsed": false
   },
   "outputs": [
    {
     "data": {
      "text/html": [
       "<div>\n",
       "<style>\n",
       "    .dataframe thead tr:only-child th {\n",
       "        text-align: right;\n",
       "    }\n",
       "\n",
       "    .dataframe thead th {\n",
       "        text-align: left;\n",
       "    }\n",
       "\n",
       "    .dataframe tbody tr th {\n",
       "        vertical-align: top;\n",
       "    }\n",
       "</style>\n",
       "<table border=\"1\" class=\"dataframe\">\n",
       "  <thead>\n",
       "    <tr style=\"text-align: right;\">\n",
       "      <th></th>\n",
       "      <th>bachelor_s_degree_or_higher</th>\n",
       "      <th>geography</th>\n",
       "      <th>geography_type</th>\n",
       "      <th>high_school_graduate</th>\n",
       "      <th>less_than_high_school_graduate</th>\n",
       "      <th>location_1</th>\n",
       "      <th>some_college_or_associate_s_degree</th>\n",
       "      <th>year</th>\n",
       "    </tr>\n",
       "  </thead>\n",
       "  <tbody>\n",
       "    <tr>\n",
       "      <th>0</th>\n",
       "      <td>3.5</td>\n",
       "      <td>Atherton</td>\n",
       "      <td>Town</td>\n",
       "      <td>12.3</td>\n",
       "      <td>13.6</td>\n",
       "      <td>{'latitude': '37.458611', 'needs_recoding': Fa...</td>\n",
       "      <td>2.7</td>\n",
       "      <td>2014-01-01T00:00:00</td>\n",
       "    </tr>\n",
       "    <tr>\n",
       "      <th>1</th>\n",
       "      <td>3.6</td>\n",
       "      <td>Belmont</td>\n",
       "      <td>City</td>\n",
       "      <td>5.9</td>\n",
       "      <td>20.9</td>\n",
       "      <td>{'latitude': '37.518056', 'needs_recoding': Fa...</td>\n",
       "      <td>5.0</td>\n",
       "      <td>2014-01-01T00:00:00</td>\n",
       "    </tr>\n",
       "    <tr>\n",
       "      <th>2</th>\n",
       "      <td>3.3</td>\n",
       "      <td>Brisbane</td>\n",
       "      <td>City</td>\n",
       "      <td>1.7</td>\n",
       "      <td>0.0</td>\n",
       "      <td>{'latitude': '37.680833', 'needs_recoding': Fa...</td>\n",
       "      <td>11.5</td>\n",
       "      <td>2014-01-01T00:00:00</td>\n",
       "    </tr>\n",
       "    <tr>\n",
       "      <th>3</th>\n",
       "      <td>2.4</td>\n",
       "      <td>Broadmoor</td>\n",
       "      <td>CDP</td>\n",
       "      <td>8.0</td>\n",
       "      <td>21.2</td>\n",
       "      <td>{'latitude': '37.6925', 'needs_recoding': Fals...</td>\n",
       "      <td>3.0</td>\n",
       "      <td>2014-01-01T00:00:00</td>\n",
       "    </tr>\n",
       "    <tr>\n",
       "      <th>4</th>\n",
       "      <td>3.7</td>\n",
       "      <td>Burlingame</td>\n",
       "      <td>City</td>\n",
       "      <td>8.3</td>\n",
       "      <td>20.1</td>\n",
       "      <td>{'latitude': '37.583333', 'needs_recoding': Fa...</td>\n",
       "      <td>7.4</td>\n",
       "      <td>2014-01-01T00:00:00</td>\n",
       "    </tr>\n",
       "  </tbody>\n",
       "</table>\n",
       "</div>"
      ],
      "text/plain": [
       "   bachelor_s_degree_or_higher   geography geography_type  \\\n",
       "0                          3.5    Atherton           Town   \n",
       "1                          3.6     Belmont           City   \n",
       "2                          3.3    Brisbane           City   \n",
       "3                          2.4   Broadmoor            CDP   \n",
       "4                          3.7  Burlingame           City   \n",
       "\n",
       "   high_school_graduate  less_than_high_school_graduate  \\\n",
       "0                  12.3                            13.6   \n",
       "1                   5.9                            20.9   \n",
       "2                   1.7                             0.0   \n",
       "3                   8.0                            21.2   \n",
       "4                   8.3                            20.1   \n",
       "\n",
       "                                          location_1  \\\n",
       "0  {'latitude': '37.458611', 'needs_recoding': Fa...   \n",
       "1  {'latitude': '37.518056', 'needs_recoding': Fa...   \n",
       "2  {'latitude': '37.680833', 'needs_recoding': Fa...   \n",
       "3  {'latitude': '37.6925', 'needs_recoding': Fals...   \n",
       "4  {'latitude': '37.583333', 'needs_recoding': Fa...   \n",
       "\n",
       "   some_college_or_associate_s_degree                 year  \n",
       "0                                 2.7  2014-01-01T00:00:00  \n",
       "1                                 5.0  2014-01-01T00:00:00  \n",
       "2                                11.5  2014-01-01T00:00:00  \n",
       "3                                 3.0  2014-01-01T00:00:00  \n",
       "4                                 7.4  2014-01-01T00:00:00  "
      ]
     },
     "execution_count": 4,
     "metadata": {},
     "output_type": "execute_result"
    }
   ],
   "source": [
    "df.head(5)"
   ]
  },
  {
   "cell_type": "markdown",
   "metadata": {},
   "source": [
    "### Basic Analysis of Dataset"
   ]
  },
  {
   "cell_type": "markdown",
   "metadata": {},
   "source": [
    "pandas has several methods that allow you to quickly analyze a dataset and get an idea of the type and amount of data you are dealing with along with some important statistics. \n",
    "\n",
    "- .shape - returns the row and column count of a dataset\n",
    "- .describe() - returns statistics about the numerical columns in a dataset \n",
    "- .dtypes returns the data type of each column\n"
   ]
  },
  {
   "cell_type": "code",
   "execution_count": 5,
   "metadata": {
    "collapsed": false
   },
   "outputs": [
    {
     "data": {
      "text/plain": [
       "(32, 8)"
      ]
     },
     "execution_count": 5,
     "metadata": {},
     "output_type": "execute_result"
    }
   ],
   "source": [
    "df.shape"
   ]
  },
  {
   "cell_type": "code",
   "execution_count": 6,
   "metadata": {
    "collapsed": false
   },
   "outputs": [
    {
     "data": {
      "text/html": [
       "<div>\n",
       "<style>\n",
       "    .dataframe thead tr:only-child th {\n",
       "        text-align: right;\n",
       "    }\n",
       "\n",
       "    .dataframe thead th {\n",
       "        text-align: left;\n",
       "    }\n",
       "\n",
       "    .dataframe tbody tr th {\n",
       "        vertical-align: top;\n",
       "    }\n",
       "</style>\n",
       "<table border=\"1\" class=\"dataframe\">\n",
       "  <thead>\n",
       "    <tr style=\"text-align: right;\">\n",
       "      <th></th>\n",
       "      <th>bachelor_s_degree_or_higher</th>\n",
       "      <th>high_school_graduate</th>\n",
       "      <th>less_than_high_school_graduate</th>\n",
       "      <th>some_college_or_associate_s_degree</th>\n",
       "    </tr>\n",
       "  </thead>\n",
       "  <tbody>\n",
       "    <tr>\n",
       "      <th>count</th>\n",
       "      <td>32.000000</td>\n",
       "      <td>32.000000</td>\n",
       "      <td>32.00000</td>\n",
       "      <td>32.000000</td>\n",
       "    </tr>\n",
       "    <tr>\n",
       "      <th>mean</th>\n",
       "      <td>2.856250</td>\n",
       "      <td>6.462500</td>\n",
       "      <td>17.80000</td>\n",
       "      <td>5.946875</td>\n",
       "    </tr>\n",
       "    <tr>\n",
       "      <th>std</th>\n",
       "      <td>1.873919</td>\n",
       "      <td>4.693905</td>\n",
       "      <td>19.29944</td>\n",
       "      <td>4.728430</td>\n",
       "    </tr>\n",
       "    <tr>\n",
       "      <th>min</th>\n",
       "      <td>0.000000</td>\n",
       "      <td>0.000000</td>\n",
       "      <td>0.00000</td>\n",
       "      <td>0.000000</td>\n",
       "    </tr>\n",
       "    <tr>\n",
       "      <th>25%</th>\n",
       "      <td>2.100000</td>\n",
       "      <td>1.925000</td>\n",
       "      <td>6.82500</td>\n",
       "      <td>2.525000</td>\n",
       "    </tr>\n",
       "    <tr>\n",
       "      <th>50%</th>\n",
       "      <td>3.000000</td>\n",
       "      <td>7.750000</td>\n",
       "      <td>13.90000</td>\n",
       "      <td>5.500000</td>\n",
       "    </tr>\n",
       "    <tr>\n",
       "      <th>75%</th>\n",
       "      <td>3.600000</td>\n",
       "      <td>9.450000</td>\n",
       "      <td>20.97500</td>\n",
       "      <td>8.800000</td>\n",
       "    </tr>\n",
       "    <tr>\n",
       "      <th>max</th>\n",
       "      <td>9.100000</td>\n",
       "      <td>16.400000</td>\n",
       "      <td>100.00000</td>\n",
       "      <td>18.500000</td>\n",
       "    </tr>\n",
       "  </tbody>\n",
       "</table>\n",
       "</div>"
      ],
      "text/plain": [
       "       bachelor_s_degree_or_higher  high_school_graduate  \\\n",
       "count                    32.000000             32.000000   \n",
       "mean                      2.856250              6.462500   \n",
       "std                       1.873919              4.693905   \n",
       "min                       0.000000              0.000000   \n",
       "25%                       2.100000              1.925000   \n",
       "50%                       3.000000              7.750000   \n",
       "75%                       3.600000              9.450000   \n",
       "max                       9.100000             16.400000   \n",
       "\n",
       "       less_than_high_school_graduate  some_college_or_associate_s_degree  \n",
       "count                        32.00000                           32.000000  \n",
       "mean                         17.80000                            5.946875  \n",
       "std                          19.29944                            4.728430  \n",
       "min                           0.00000                            0.000000  \n",
       "25%                           6.82500                            2.525000  \n",
       "50%                          13.90000                            5.500000  \n",
       "75%                          20.97500                            8.800000  \n",
       "max                         100.00000                           18.500000  "
      ]
     },
     "execution_count": 6,
     "metadata": {},
     "output_type": "execute_result"
    }
   ],
   "source": [
    "df.describe()"
   ]
  },
  {
   "cell_type": "markdown",
   "metadata": {},
   "source": [
    "You can also run the .describe method with the \"include='all'\" flag to get statistics on the non-numeric column types. In this example we have to drop the \"location_1\" column because the .describe method doesn't accept dictionary objects."
   ]
  },
  {
   "cell_type": "code",
   "execution_count": 8,
   "metadata": {
    "collapsed": false
   },
   "outputs": [
    {
     "data": {
      "text/html": [
       "<div>\n",
       "<style>\n",
       "    .dataframe thead tr:only-child th {\n",
       "        text-align: right;\n",
       "    }\n",
       "\n",
       "    .dataframe thead th {\n",
       "        text-align: left;\n",
       "    }\n",
       "\n",
       "    .dataframe tbody tr th {\n",
       "        vertical-align: top;\n",
       "    }\n",
       "</style>\n",
       "<table border=\"1\" class=\"dataframe\">\n",
       "  <thead>\n",
       "    <tr style=\"text-align: right;\">\n",
       "      <th></th>\n",
       "      <th>bachelor_s_degree_or_higher</th>\n",
       "      <th>geography</th>\n",
       "      <th>geography_type</th>\n",
       "      <th>high_school_graduate</th>\n",
       "      <th>less_than_high_school_graduate</th>\n",
       "      <th>some_college_or_associate_s_degree</th>\n",
       "      <th>year</th>\n",
       "    </tr>\n",
       "  </thead>\n",
       "  <tbody>\n",
       "    <tr>\n",
       "      <th>count</th>\n",
       "      <td>32.000000</td>\n",
       "      <td>32</td>\n",
       "      <td>32</td>\n",
       "      <td>32.000000</td>\n",
       "      <td>32.00000</td>\n",
       "      <td>32.000000</td>\n",
       "      <td>32</td>\n",
       "    </tr>\n",
       "    <tr>\n",
       "      <th>unique</th>\n",
       "      <td>NaN</td>\n",
       "      <td>32</td>\n",
       "      <td>3</td>\n",
       "      <td>NaN</td>\n",
       "      <td>NaN</td>\n",
       "      <td>NaN</td>\n",
       "      <td>1</td>\n",
       "    </tr>\n",
       "    <tr>\n",
       "      <th>top</th>\n",
       "      <td>NaN</td>\n",
       "      <td>La Honda</td>\n",
       "      <td>City</td>\n",
       "      <td>NaN</td>\n",
       "      <td>NaN</td>\n",
       "      <td>NaN</td>\n",
       "      <td>2014-01-01T00:00:00</td>\n",
       "    </tr>\n",
       "    <tr>\n",
       "      <th>freq</th>\n",
       "      <td>NaN</td>\n",
       "      <td>1</td>\n",
       "      <td>15</td>\n",
       "      <td>NaN</td>\n",
       "      <td>NaN</td>\n",
       "      <td>NaN</td>\n",
       "      <td>32</td>\n",
       "    </tr>\n",
       "    <tr>\n",
       "      <th>mean</th>\n",
       "      <td>2.856250</td>\n",
       "      <td>NaN</td>\n",
       "      <td>NaN</td>\n",
       "      <td>6.462500</td>\n",
       "      <td>17.80000</td>\n",
       "      <td>5.946875</td>\n",
       "      <td>NaN</td>\n",
       "    </tr>\n",
       "    <tr>\n",
       "      <th>std</th>\n",
       "      <td>1.873919</td>\n",
       "      <td>NaN</td>\n",
       "      <td>NaN</td>\n",
       "      <td>4.693905</td>\n",
       "      <td>19.29944</td>\n",
       "      <td>4.728430</td>\n",
       "      <td>NaN</td>\n",
       "    </tr>\n",
       "    <tr>\n",
       "      <th>min</th>\n",
       "      <td>0.000000</td>\n",
       "      <td>NaN</td>\n",
       "      <td>NaN</td>\n",
       "      <td>0.000000</td>\n",
       "      <td>0.00000</td>\n",
       "      <td>0.000000</td>\n",
       "      <td>NaN</td>\n",
       "    </tr>\n",
       "    <tr>\n",
       "      <th>25%</th>\n",
       "      <td>2.100000</td>\n",
       "      <td>NaN</td>\n",
       "      <td>NaN</td>\n",
       "      <td>1.925000</td>\n",
       "      <td>6.82500</td>\n",
       "      <td>2.525000</td>\n",
       "      <td>NaN</td>\n",
       "    </tr>\n",
       "    <tr>\n",
       "      <th>50%</th>\n",
       "      <td>3.000000</td>\n",
       "      <td>NaN</td>\n",
       "      <td>NaN</td>\n",
       "      <td>7.750000</td>\n",
       "      <td>13.90000</td>\n",
       "      <td>5.500000</td>\n",
       "      <td>NaN</td>\n",
       "    </tr>\n",
       "    <tr>\n",
       "      <th>75%</th>\n",
       "      <td>3.600000</td>\n",
       "      <td>NaN</td>\n",
       "      <td>NaN</td>\n",
       "      <td>9.450000</td>\n",
       "      <td>20.97500</td>\n",
       "      <td>8.800000</td>\n",
       "      <td>NaN</td>\n",
       "    </tr>\n",
       "    <tr>\n",
       "      <th>max</th>\n",
       "      <td>9.100000</td>\n",
       "      <td>NaN</td>\n",
       "      <td>NaN</td>\n",
       "      <td>16.400000</td>\n",
       "      <td>100.00000</td>\n",
       "      <td>18.500000</td>\n",
       "      <td>NaN</td>\n",
       "    </tr>\n",
       "  </tbody>\n",
       "</table>\n",
       "</div>"
      ],
      "text/plain": [
       "        bachelor_s_degree_or_higher geography geography_type  \\\n",
       "count                     32.000000        32             32   \n",
       "unique                          NaN        32              3   \n",
       "top                             NaN  La Honda           City   \n",
       "freq                            NaN         1             15   \n",
       "mean                       2.856250       NaN            NaN   \n",
       "std                        1.873919       NaN            NaN   \n",
       "min                        0.000000       NaN            NaN   \n",
       "25%                        2.100000       NaN            NaN   \n",
       "50%                        3.000000       NaN            NaN   \n",
       "75%                        3.600000       NaN            NaN   \n",
       "max                        9.100000       NaN            NaN   \n",
       "\n",
       "        high_school_graduate  less_than_high_school_graduate  \\\n",
       "count              32.000000                        32.00000   \n",
       "unique                   NaN                             NaN   \n",
       "top                      NaN                             NaN   \n",
       "freq                     NaN                             NaN   \n",
       "mean                6.462500                        17.80000   \n",
       "std                 4.693905                        19.29944   \n",
       "min                 0.000000                         0.00000   \n",
       "25%                 1.925000                         6.82500   \n",
       "50%                 7.750000                        13.90000   \n",
       "75%                 9.450000                        20.97500   \n",
       "max                16.400000                       100.00000   \n",
       "\n",
       "        some_college_or_associate_s_degree                 year  \n",
       "count                            32.000000                   32  \n",
       "unique                                 NaN                    1  \n",
       "top                                    NaN  2014-01-01T00:00:00  \n",
       "freq                                   NaN                   32  \n",
       "mean                              5.946875                  NaN  \n",
       "std                               4.728430                  NaN  \n",
       "min                               0.000000                  NaN  \n",
       "25%                               2.525000                  NaN  \n",
       "50%                               5.500000                  NaN  \n",
       "75%                               8.800000                  NaN  \n",
       "max                              18.500000                  NaN  "
      ]
     },
     "execution_count": 8,
     "metadata": {},
     "output_type": "execute_result"
    }
   ],
   "source": [
    "df.drop(\"location_1\", axis=1).describe(include=\"all\")"
   ]
  },
  {
   "cell_type": "code",
   "execution_count": 9,
   "metadata": {
    "collapsed": false
   },
   "outputs": [
    {
     "data": {
      "text/plain": [
       "bachelor_s_degree_or_higher           float64\n",
       "geography                              object\n",
       "geography_type                         object\n",
       "high_school_graduate                  float64\n",
       "less_than_high_school_graduate        float64\n",
       "location_1                             object\n",
       "some_college_or_associate_s_degree    float64\n",
       "year                                   object\n",
       "dtype: object"
      ]
     },
     "execution_count": 9,
     "metadata": {},
     "output_type": "execute_result"
    }
   ],
   "source": [
    "df.dtypes"
   ]
  },
  {
   "cell_type": "markdown",
   "metadata": {},
   "source": [
    "Here are some additional methods that can give you statistics of a DataFrame or particular column in a DataFrame.\n",
    "- .mean(axis=0 [will give you the calculated value per column]) - returns the statistical mean \n",
    "- .median(axis=0 [will give you the calculated value per column]) - returns the statistical median \n",
    "- .mode(axis=0 [will give you the calculated value per column]) - returns the statistical mode\n",
    "- .count() - gives number of total values in column\n",
    "- .unique() - returns array of all unique values in that column\n",
    "- .value_counts() - returns object containing counts of unique values"
   ]
  },
  {
   "cell_type": "code",
   "execution_count": 10,
   "metadata": {
    "collapsed": false
   },
   "outputs": [
    {
     "data": {
      "text/plain": [
       "2.8562499999999997"
      ]
     },
     "execution_count": 10,
     "metadata": {},
     "output_type": "execute_result"
    }
   ],
   "source": [
    "df.bachelor_s_degree_or_higher.mean()"
   ]
  },
  {
   "cell_type": "code",
   "execution_count": 11,
   "metadata": {
    "collapsed": false
   },
   "outputs": [
    {
     "data": {
      "text/plain": [
       "32"
      ]
     },
     "execution_count": 11,
     "metadata": {},
     "output_type": "execute_result"
    }
   ],
   "source": [
    "df.geography.count()"
   ]
  },
  {
   "cell_type": "code",
   "execution_count": 12,
   "metadata": {
    "collapsed": false
   },
   "outputs": [
    {
     "data": {
      "text/plain": [
       "array(['Town', 'City', 'CDP'], dtype=object)"
      ]
     },
     "execution_count": 12,
     "metadata": {},
     "output_type": "execute_result"
    }
   ],
   "source": [
    "df.geography_type.unique()"
   ]
  },
  {
   "cell_type": "code",
   "execution_count": 13,
   "metadata": {
    "collapsed": false
   },
   "outputs": [
    {
     "data": {
      "text/plain": [
       "0.0      4\n",
       "16.4     1\n",
       "9.5      1\n",
       "100.0    1\n",
       "7.0      1\n",
       "8.5      1\n",
       "7.7      1\n",
       "44.4     1\n",
       "31.1     1\n",
       "4.8      1\n",
       "13.4     1\n",
       "3.3      1\n",
       "22.1     1\n",
       "20.9     1\n",
       "6.3      1\n",
       "21.2     1\n",
       "11.9     1\n",
       "15.7     1\n",
       "14.2     1\n",
       "16.1     1\n",
       "26.7     1\n",
       "18.3     1\n",
       "48.1     1\n",
       "37.8     1\n",
       "13.6     1\n",
       "20.1     1\n",
       "15.1     1\n",
       "6.2      1\n",
       "9.2      1\n",
       "Name: less_than_high_school_graduate, dtype: int64"
      ]
     },
     "execution_count": 13,
     "metadata": {},
     "output_type": "execute_result"
    }
   ],
   "source": [
    "df.less_than_high_school_graduate.value_counts()"
   ]
  },
  {
   "cell_type": "markdown",
   "metadata": {},
   "source": [
    "### Mapping Functions to Transform Data"
   ]
  },
  {
   "cell_type": "markdown",
   "metadata": {},
   "source": [
    "Often times we need to apply a function to a column in a dataset to transform it. pandas makes it easy to do with the .apply() method. In this example, we will map the values in the \"geography_type\" column to either a \"1\" or \"0\" depending on the value. We will append this information to the DataFrame in a new column."
   ]
  },
  {
   "cell_type": "code",
   "execution_count": 15,
   "metadata": {
    "collapsed": false
   },
   "outputs": [],
   "source": [
    "def mapGeography(x):\n",
    "    if x == \"City\":\n",
    "        return 1\n",
    "    else:\n",
    "        return 0"
   ]
  },
  {
   "cell_type": "code",
   "execution_count": 16,
   "metadata": {
    "collapsed": true
   },
   "outputs": [],
   "source": [
    "df['geography_mapped_value'] = df.geography_type.apply(mapGeography)"
   ]
  },
  {
   "cell_type": "code",
   "execution_count": 17,
   "metadata": {
    "collapsed": false
   },
   "outputs": [
    {
     "data": {
      "text/plain": [
       "0    17\n",
       "1    15\n",
       "Name: geography_mapped_value, dtype: int64"
      ]
     },
     "execution_count": 17,
     "metadata": {},
     "output_type": "execute_result"
    }
   ],
   "source": [
    "df.geography_mapped_value.value_counts()"
   ]
  },
  {
   "cell_type": "markdown",
   "metadata": {},
   "source": [
    "We could have also accomplished the same thing in a lambda function in the following way"
   ]
  },
  {
   "cell_type": "code",
   "execution_count": 18,
   "metadata": {
    "collapsed": true
   },
   "outputs": [],
   "source": [
    "df['geography_mapped_value_lambda'] = df.geography_type.apply(lambda y: 1 if y == \"City\" else 0)"
   ]
  },
  {
   "cell_type": "code",
   "execution_count": 19,
   "metadata": {
    "collapsed": false
   },
   "outputs": [
    {
     "data": {
      "text/plain": [
       "0    17\n",
       "1    15\n",
       "Name: geography_mapped_value_lambda, dtype: int64"
      ]
     },
     "execution_count": 19,
     "metadata": {},
     "output_type": "execute_result"
    }
   ],
   "source": [
    "df.geography_mapped_value_lambda.value_counts()"
   ]
  }
 ],
 "metadata": {
  "kernelspec": {
   "display_name": "Python 3",
   "language": "python",
   "name": "python3"
  },
  "language_info": {
   "codemirror_mode": {
    "name": "ipython",
    "version": 3
   },
   "file_extension": ".py",
   "mimetype": "text/x-python",
   "name": "python",
   "nbconvert_exporter": "python",
   "pygments_lexer": "ipython3",
   "version": "3.6.6"
  }
 },
 "nbformat": 4,
 "nbformat_minor": 2
}
