{
 "cells": [
  {
   "cell_type": "markdown",
   "metadata": {},
   "source": [
    "# Networkx\n",
    "#### Basado en https://github.com/networkx/notebooks/blob/master/tutorial.ipynb\n",
    "Traducción  de github.com/DanielNeira"
   ]
  },
  {
   "cell_type": "markdown",
   "metadata": {},
   "source": [
    "## Grafo"
   ]
  },
  {
   "cell_type": "markdown",
   "metadata": {},
   "source": [
    "Creamos un grafo vacio (sin nodos ni vértices)"
   ]
  },
  {
   "cell_type": "code",
   "execution_count": 2,
   "metadata": {
    "collapsed": true
   },
   "outputs": [],
   "source": [
    "import networkx as nx"
   ]
  },
  {
   "cell_type": "code",
   "execution_count": 3,
   "metadata": {
    "collapsed": true
   },
   "outputs": [],
   "source": [
    "G = nx.Graph()"
   ]
  },
  {
   "cell_type": "markdown",
   "metadata": {},
   "source": [
    "Por definición, un grafo es una colección o conjunto de nodos (vértices) y pares de nodos o aristas. En NetworkX, los nodos pueden ser cualquier objeto \"hashable\", por ejemplo, una cadena de texto, una imagen, un objeto XML, otro grafo, un objeto de nodo personalizado, etc. (Nota: El objeto NULL de Python no debe utilizarse como nodo ya que determina si se han asignado argumentos de función opcionales en muchas funciones)."
   ]
  },
  {
   "cell_type": "markdown",
   "metadata": {},
   "source": [
    "## Nodos"
   ]
  },
  {
   "cell_type": "markdown",
   "metadata": {},
   "source": [
    "El grafo G puede crecer de varias maneras. NetworkX incluye muchas funciones de generador de grafos y facilidades para leer y escribir grafos en muchos formatos. Para empezar, sin embargo, vamos a ver las manipulaciones simples. Puede añadir un nodo a la vez,"
   ]
  },
  {
   "cell_type": "code",
   "execution_count": 4,
   "metadata": {
    "collapsed": true
   },
   "outputs": [],
   "source": [
    "G.add_node(1)"
   ]
  },
  {
   "cell_type": "markdown",
   "metadata": {},
   "source": [
    "agregar una lista de nodos,"
   ]
  },
  {
   "cell_type": "code",
   "execution_count": 5,
   "metadata": {
    "collapsed": true
   },
   "outputs": [],
   "source": [
    "G.add_nodes_from([2, 3])"
   ]
  },
  {
   "cell_type": "markdown",
   "metadata": {},
   "source": [
    "o agregar cualquier `nbunch` de nodos. Un nbunch es cualquier contenedor iterable de nodos que no sea en sí mismo un nodo en el grafo. (por ejemplo, una lista, un conjunto, un grafo, un archivo, etc.)"
   ]
  },
  {
   "cell_type": "code",
   "execution_count": 6,
   "metadata": {
    "collapsed": true
   },
   "outputs": [],
   "source": [
    "H = nx.path_graph(10)"
   ]
  },
  {
   "cell_type": "code",
   "execution_count": 7,
   "metadata": {
    "collapsed": true
   },
   "outputs": [],
   "source": [
    "G.add_nodes_from(H)"
   ]
  },
  {
   "cell_type": "markdown",
   "metadata": {},
   "source": [
    "Note que G ahora contiene los nodos de H como los nodos de G. En contraste, puedes usar el grafo H como un nodo en G."
   ]
  },
  {
   "cell_type": "code",
   "execution_count": 7,
   "metadata": {
    "collapsed": true
   },
   "outputs": [],
   "source": [
    "G.add_node(H)"
   ]
  },
  {
   "cell_type": "markdown",
   "metadata": {},
   "source": [
    "El grafo G ahora contiene H como un nodo. Esta flexibilidad que da NetwrokX es muy poderosa y nos permite crear grafos a partir de grafos, de archivos, desde funciones entre otros. Vale pensar como poder estructurar la aplicación propia de tal forma que las entidades nodos sean útiles. Por supuesto, siempre se puede utilizar un identificador único en G y tener un diccionario separado con un identificador para la información del nodo si se prefiere. (Nota: No debe cambiar el objeto nodo si el hash depende de su contenido."
   ]
  },
  {
   "cell_type": "markdown",
   "metadata": {},
   "source": [
    "## Vértices"
   ]
  },
  {
   "cell_type": "markdown",
   "metadata": {},
   "source": [
    "A G tambien se le pueden añadir vértices uno a uno:"
   ]
  },
  {
   "cell_type": "code",
   "execution_count": 8,
   "metadata": {
    "collapsed": true
   },
   "outputs": [],
   "source": [
    "G.add_edge(1, 2)"
   ]
  },
  {
   "cell_type": "code",
   "execution_count": 9,
   "metadata": {
    "collapsed": true
   },
   "outputs": [],
   "source": [
    "e = (2, 3)"
   ]
  },
  {
   "cell_type": "code",
   "execution_count": 10,
   "metadata": {
    "collapsed": true
   },
   "outputs": [],
   "source": [
    "G.add_edge(*e) # unpack edge tuple*"
   ]
  },
  {
   "cell_type": "markdown",
   "metadata": {},
   "source": [
    "añadiendo una lista de vértices:"
   ]
  },
  {
   "cell_type": "code",
   "execution_count": 11,
   "metadata": {
    "collapsed": true
   },
   "outputs": [],
   "source": [
    "G.add_edges_from([(1, 2),(1, 3)])"
   ]
  },
  {
   "cell_type": "markdown",
   "metadata": {},
   "source": [
    "o añadiendo cualquier `nbunch` de vértices. Un ebunch es un contenedor iterable de tuplas de vértice. Un edge-tuple puede ser un 2-tuple de nodos o un 3-tuple con 2 nodos seguidos de un diccionario de atributos de vértice, por ejemplo (2, 3, {'peso' : 3.1415}). Los atributos de vértice se discuten más adelante"
   ]
  },
  {
   "cell_type": "code",
   "execution_count": 12,
   "metadata": {
    "collapsed": true
   },
   "outputs": [],
   "source": [
    "G.add_edges_from(H.edges())"
   ]
  },
  {
   "cell_type": "markdown",
   "metadata": {},
   "source": [
    "Se puede eliminar o remover un nodo desde el grafo de forma similar; usando `Graph.remove_node`, `Graph.remove_nodes_from`, `Graph.remove_edge` y `Graph.remove_edges_from`, por ejemplo."
   ]
  },
  {
   "cell_type": "code",
   "execution_count": 13,
   "metadata": {
    "collapsed": true
   },
   "outputs": [],
   "source": [
    "G.remove_node(H)"
   ]
  },
  {
   "cell_type": "markdown",
   "metadata": {},
   "source": [
    "No hay quejas cuando se añaden nodos o vértices existentes. Por ejemplo, después de eliminar todos los nodos y vértice,"
   ]
  },
  {
   "cell_type": "code",
   "execution_count": 14,
   "metadata": {
    "collapsed": true
   },
   "outputs": [],
   "source": [
    "G.clear()"
   ]
  },
  {
   "cell_type": "markdown",
   "metadata": {},
   "source": [
    "añadimos nuevos nodos/vértices y NetworkX ignora silenciosamente los que ya están presentes."
   ]
  },
  {
   "cell_type": "code",
   "execution_count": 15,
   "metadata": {
    "collapsed": true
   },
   "outputs": [],
   "source": [
    "G.add_edges_from([(1, 2), (1, 3)])"
   ]
  },
  {
   "cell_type": "code",
   "execution_count": 16,
   "metadata": {
    "collapsed": true
   },
   "outputs": [],
   "source": [
    "G.add_node(1)"
   ]
  },
  {
   "cell_type": "code",
   "execution_count": 17,
   "metadata": {
    "collapsed": true
   },
   "outputs": [],
   "source": [
    "G.add_edge(1, 2)"
   ]
  },
  {
   "cell_type": "code",
   "execution_count": 18,
   "metadata": {
    "collapsed": true
   },
   "outputs": [],
   "source": [
    "G.add_node(\"spam\")       # adds node \"spam\""
   ]
  },
  {
   "cell_type": "code",
   "execution_count": 19,
   "metadata": {
    "collapsed": true
   },
   "outputs": [],
   "source": [
    "G.add_nodes_from(\"spam\") # adds 4 nodes: 's', 'p', 'a', 'm'"
   ]
  },
  {
   "cell_type": "markdown",
   "metadata": {},
   "source": [
    "En esta etapa el grafo G consta de 8 nodos y 2 vértices, como se puede ver en:"
   ]
  },
  {
   "cell_type": "code",
   "execution_count": 20,
   "metadata": {},
   "outputs": [
    {
     "data": {
      "text/plain": [
       "8"
      ]
     },
     "execution_count": 20,
     "metadata": {},
     "output_type": "execute_result"
    }
   ],
   "source": [
    "G.number_of_nodes()"
   ]
  },
  {
   "cell_type": "code",
   "execution_count": 21,
   "metadata": {},
   "outputs": [
    {
     "data": {
      "text/plain": [
       "2"
      ]
     },
     "execution_count": 21,
     "metadata": {},
     "output_type": "execute_result"
    }
   ],
   "source": [
    "G.number_of_edges()"
   ]
  },
  {
   "cell_type": "markdown",
   "metadata": {},
   "source": [
    "Podemos examinarlos con:"
   ]
  },
  {
   "cell_type": "code",
   "execution_count": 22,
   "metadata": {},
   "outputs": [
    {
     "data": {
      "text/plain": [
       "['a', 1, 2, 3, 'spam', 'm', 'p', 's']"
      ]
     },
     "execution_count": 22,
     "metadata": {},
     "output_type": "execute_result"
    }
   ],
   "source": [
    "list(G.nodes())  # G.nodes() returns an iterator of nodes."
   ]
  },
  {
   "cell_type": "code",
   "execution_count": 23,
   "metadata": {},
   "outputs": [
    {
     "data": {
      "text/plain": [
       "[(1, 2), (1, 3)]"
      ]
     },
     "execution_count": 23,
     "metadata": {},
     "output_type": "execute_result"
    }
   ],
   "source": [
    "list(G.edges())  # G.edges() returns an iterator of edges."
   ]
  },
  {
   "cell_type": "code",
   "execution_count": 24,
   "metadata": {},
   "outputs": [
    {
     "data": {
      "text/plain": [
       "[2, 3]"
      ]
     },
     "execution_count": 24,
     "metadata": {},
     "output_type": "execute_result"
    }
   ],
   "source": [
    "list(G.neighbors(1))  # G.neighbors(n) returns an iterator of neigboring nodes of n"
   ]
  },
  {
   "cell_type": "markdown",
   "metadata": {},
   "source": [
    "La eliminación de nodos o vértices tiene una sintaxis similar a la de añadir:"
   ]
  },
  {
   "cell_type": "code",
   "execution_count": 25,
   "metadata": {
    "collapsed": true
   },
   "outputs": [],
   "source": [
    "G.remove_nodes_from(\"spam\")"
   ]
  },
  {
   "cell_type": "code",
   "execution_count": 26,
   "metadata": {},
   "outputs": [
    {
     "data": {
      "text/plain": [
       "[1, 2, 3, 'spam']"
      ]
     },
     "execution_count": 26,
     "metadata": {},
     "output_type": "execute_result"
    }
   ],
   "source": [
    "list(G.nodes())"
   ]
  },
  {
   "cell_type": "code",
   "execution_count": 27,
   "metadata": {
    "collapsed": true
   },
   "outputs": [],
   "source": [
    "G.remove_edge(1, 3)"
   ]
  },
  {
   "cell_type": "markdown",
   "metadata": {},
   "source": [
    "Cuando se crea una estructura de grafo mediante la instanciación de una de las clases de grafo, se pueden especificar datos en varios formatos."
   ]
  },
  {
   "cell_type": "code",
   "execution_count": 28,
   "metadata": {
    "collapsed": true
   },
   "outputs": [],
   "source": [
    "H = nx.DiGraph(G)  # create a DiGraph using the connections from G"
   ]
  },
  {
   "cell_type": "code",
   "execution_count": 29,
   "metadata": {},
   "outputs": [
    {
     "data": {
      "text/plain": [
       "[(1, 2), (2, 1)]"
      ]
     },
     "execution_count": 29,
     "metadata": {},
     "output_type": "execute_result"
    }
   ],
   "source": [
    "list(H.edges())"
   ]
  },
  {
   "cell_type": "code",
   "execution_count": 30,
   "metadata": {
    "collapsed": true
   },
   "outputs": [],
   "source": [
    "edgelist = [(0, 1), (1, 2), (2, 3)]"
   ]
  },
  {
   "cell_type": "code",
   "execution_count": 31,
   "metadata": {
    "collapsed": true
   },
   "outputs": [],
   "source": [
    "H = nx.Graph(edgelist)"
   ]
  },
  {
   "cell_type": "markdown",
   "metadata": {},
   "source": [
    "## Qué se puede usar como nodos y vértices"
   ]
  },
  {
   "cell_type": "markdown",
   "metadata": {},
   "source": [
    "Puede notar que los nodos y vértices no están especificados como objetos NetworkX. Esto le permite utilizar elementos significativos como nodos y vértices. Las opciones más comunes son los números o las cadenas, pero un nodo puede ser cualquier objeto que se pueda controlar (excepto `None`), y un vértice se puede asociar con cualquier objeto x usando `G.add_edge(n1, n2, object=x)`.\n",
    "\n",
    "Como ejemplo, n1 y n2 podrían ser objetos proteínicos del Banco de Datos de Proteínas del RCSB, y x podría referirse a un registro XML de publicaciones que detallan observaciones experimentales de su interacción.\n",
    "\n",
    "Esto es bastante útil!, pero su abuso puede llevar a sorpresas inesperadas a menos que uno esté familiarizado con Python. En caso de duda, considere usar `convert_node_labels_to_integers` para obtener un grafo más tradicional con etiquetas de números enteros."
   ]
  },
  {
   "cell_type": "markdown",
   "metadata": {},
   "source": [
    "## Accediendo a los vértices"
   ]
  },
  {
   "cell_type": "markdown",
   "metadata": {},
   "source": [
    "Además de los métodos `Graph.nodes`, `Graph.edges`, y `Graph.neighbors`, las versiones de iterator (p.ej. `Graph.edges_iter`) le pueden ahorrar la creación de listas grandes cuando de todos modos va a iterar a través de ellas.\n",
    "\n",
    "También es posible un acceso rápido y directo a la estructura de datos del grafo mediante la notación de subíndices.\n",
    "\n",
    "Advertencia\n",
    "\n",
    "No cambie el `return dict--it`, que es parte de la estructura de datos del grafo y la manipulación directa puede dejar el grafo en un estado inconsistente."
   ]
  },
  {
   "cell_type": "code",
   "execution_count": 32,
   "metadata": {},
   "outputs": [
    {
     "data": {
      "text/plain": [
       "{2: {}}"
      ]
     },
     "execution_count": 32,
     "metadata": {},
     "output_type": "execute_result"
    }
   ],
   "source": [
    "G[1]  # Warning: do not change the resulting dict"
   ]
  },
  {
   "cell_type": "code",
   "execution_count": 33,
   "metadata": {},
   "outputs": [
    {
     "data": {
      "text/plain": [
       "{}"
      ]
     },
     "execution_count": 33,
     "metadata": {},
     "output_type": "execute_result"
    }
   ],
   "source": [
    "G[1][2]"
   ]
  },
  {
   "cell_type": "markdown",
   "metadata": {},
   "source": [
    "Puede establecer con seguridad los atributos de un vértice utilizando notación de subíndice si el vértice ya existe."
   ]
  },
  {
   "cell_type": "code",
   "execution_count": 34,
   "metadata": {
    "collapsed": true
   },
   "outputs": [],
   "source": [
    "G.add_edge(1, 3)"
   ]
  },
  {
   "cell_type": "code",
   "execution_count": 35,
   "metadata": {
    "collapsed": true
   },
   "outputs": [],
   "source": [
    "G[1][3]['color']='blue'"
   ]
  },
  {
   "cell_type": "markdown",
   "metadata": {},
   "source": [
    "El examen rápido de todos los vértices se logra usando la adyacencia (iteradores). Nótese que para los grafos no dirigidas esto realmente mira cada vértice dos veces."
   ]
  },
  {
   "cell_type": "code",
   "execution_count": 36,
   "metadata": {
    "collapsed": true
   },
   "outputs": [],
   "source": [
    "FG = nx.Graph()"
   ]
  },
  {
   "cell_type": "code",
   "execution_count": 37,
   "metadata": {
    "collapsed": true
   },
   "outputs": [],
   "source": [
    "FG.add_weighted_edges_from([(1, 2, 0.125), (1, 3, 0.75), (2 ,4 , 1.2), (3 ,4 , 0.375)])"
   ]
  },
  {
   "cell_type": "code",
   "execution_count": 38,
   "metadata": {},
   "outputs": [
    {
     "name": "stdout",
     "output_type": "stream",
     "text": [
      "(1, 2, 0.125)\n",
      "(2, 1, 0.125)\n",
      "(3, 4, 0.375)\n",
      "(4, 3, 0.375)\n"
     ]
    }
   ],
   "source": [
    "for n,nbrs in FG.adjacency():\n",
    "    for nbr,eattr in nbrs.items():\n",
    "        data = eattr['weight']\n",
    "        if data < 0.5:\n",
    "            print('(%d, %d, %.3f)' % (n, nbr, data))"
   ]
  },
  {
   "cell_type": "markdown",
   "metadata": {
    "collapsed": true
   },
   "source": [
    "Con el método de los vértices se consigue un acceso a todos los vértices."
   ]
  },
  {
   "cell_type": "code",
   "execution_count": 39,
   "metadata": {},
   "outputs": [
    {
     "name": "stdout",
     "output_type": "stream",
     "text": [
      "(4, 3, 0.125)\n",
      "(4, 3, 0.375)\n"
     ]
    }
   ],
   "source": [
    "for (u, v, d) in FG.edges(data='weight'):\n",
    "    if d < 0.5:\n",
    "        print('(%d, %d, %.3f)'%(n, nbr, d))"
   ]
  },
  {
   "cell_type": "markdown",
   "metadata": {},
   "source": [
    "## Adición de atributos a grafos, nodos y vértices"
   ]
  },
  {
   "cell_type": "markdown",
   "metadata": {},
   "source": [
    "Atributos como pesos, etiquetas, colores, o cualquier objeto Python que te guste, se pueden adjuntar a grafo, nodos o vértices.\n",
    "\n",
    "Cada grafo, nodo y vértice puede contener pares de atributos de clave/valor en un diccionario de atributos asociado (las claves deben ser 'hashables'). Por defecto están vacíos, pero los atributos pueden ser añadidos o cambiados usando add_edge, add_node o manipulación directa de los diccionarios de atributos llamados G.graph, G.node y G.edge para un grafo G."
   ]
  },
  {
   "cell_type": "markdown",
   "metadata": {},
   "source": [
    "### Atributo de Grafos"
   ]
  },
  {
   "cell_type": "markdown",
   "metadata": {},
   "source": [
    "Se pueden asignar atributos de grafo al crear uno nuevo"
   ]
  },
  {
   "cell_type": "code",
   "execution_count": 40,
   "metadata": {
    "collapsed": true
   },
   "outputs": [],
   "source": [
    "G = nx.Graph(day=\"Friday\")"
   ]
  },
  {
   "cell_type": "code",
   "execution_count": 41,
   "metadata": {},
   "outputs": [
    {
     "data": {
      "text/plain": [
       "{'day': 'Friday'}"
      ]
     },
     "execution_count": 41,
     "metadata": {},
     "output_type": "execute_result"
    }
   ],
   "source": [
    "G.graph"
   ]
  },
  {
   "cell_type": "markdown",
   "metadata": {},
   "source": [
    "o se puede modificar los atributos más tarde"
   ]
  },
  {
   "cell_type": "code",
   "execution_count": 42,
   "metadata": {
    "collapsed": true
   },
   "outputs": [],
   "source": [
    "G.graph['day'] = 'Monday'"
   ]
  },
  {
   "cell_type": "code",
   "execution_count": 43,
   "metadata": {},
   "outputs": [
    {
     "data": {
      "text/plain": [
       "{'day': 'Monday'}"
      ]
     },
     "execution_count": 43,
     "metadata": {},
     "output_type": "execute_result"
    }
   ],
   "source": [
    "G.graph"
   ]
  },
  {
   "cell_type": "markdown",
   "metadata": {},
   "source": [
    "### Atributos de los Nodos"
   ]
  },
  {
   "cell_type": "markdown",
   "metadata": {},
   "source": [
    "Añada atributos de nodo usando `add_node(), add_nodes_from() o G.node`."
   ]
  },
  {
   "cell_type": "code",
   "execution_count": 44,
   "metadata": {
    "collapsed": true
   },
   "outputs": [],
   "source": [
    "G.add_node(1, time='5pm')"
   ]
  },
  {
   "cell_type": "code",
   "execution_count": 45,
   "metadata": {
    "collapsed": true
   },
   "outputs": [],
   "source": [
    "G.add_nodes_from([3], time='2pm')"
   ]
  },
  {
   "cell_type": "code",
   "execution_count": 46,
   "metadata": {},
   "outputs": [
    {
     "data": {
      "text/plain": [
       "{'time': '5pm'}"
      ]
     },
     "execution_count": 46,
     "metadata": {},
     "output_type": "execute_result"
    }
   ],
   "source": [
    "G.node[1]"
   ]
  },
  {
   "cell_type": "code",
   "execution_count": 47,
   "metadata": {
    "collapsed": true
   },
   "outputs": [],
   "source": [
    "G.node[1]['room'] = 714"
   ]
  },
  {
   "cell_type": "code",
   "execution_count": 48,
   "metadata": {},
   "outputs": [
    {
     "data": {
      "text/plain": [
       "[(1, {'room': 714, 'time': '5pm'}), (3, {'time': '2pm'})]"
      ]
     },
     "execution_count": 48,
     "metadata": {},
     "output_type": "execute_result"
    }
   ],
   "source": [
    "list(G.nodes(data=True))"
   ]
  },
  {
   "cell_type": "markdown",
   "metadata": {},
   "source": [
    "Ten en cuenta que añadir un nodo a `G.node` no lo añade al grafo, utilice `G.add_node()` para añadir nuevos nodos."
   ]
  },
  {
   "cell_type": "markdown",
   "metadata": {},
   "source": [
    "### Atributos de los vértices"
   ]
  },
  {
   "cell_type": "markdown",
   "metadata": {},
   "source": [
    "Añade atributos de vértice usando `add_edge()`, `add_edges_from()`, notación de subíndice, o `G.edge`."
   ]
  },
  {
   "cell_type": "code",
   "execution_count": 49,
   "metadata": {
    "collapsed": true
   },
   "outputs": [],
   "source": [
    "G.add_edge(1, 2, weight=4.7)"
   ]
  },
  {
   "cell_type": "code",
   "execution_count": 50,
   "metadata": {
    "collapsed": true
   },
   "outputs": [],
   "source": [
    "G.add_edges_from([(3, 4), (4, 5)], color='red')"
   ]
  },
  {
   "cell_type": "code",
   "execution_count": 51,
   "metadata": {
    "collapsed": true
   },
   "outputs": [],
   "source": [
    "G.add_edges_from([(1, 2, {'color': 'blue'}), (2, 3, {'weight': 8})])"
   ]
  },
  {
   "cell_type": "code",
   "execution_count": 52,
   "metadata": {
    "collapsed": true
   },
   "outputs": [],
   "source": [
    "G[1][2]['weight'] = 4.7"
   ]
  },
  {
   "cell_type": "code",
   "execution_count": 53,
   "metadata": {
    "collapsed": true
   },
   "outputs": [],
   "source": [
    "G.edge[1][2]['weight'] = 4"
   ]
  },
  {
   "cell_type": "code",
   "execution_count": 54,
   "metadata": {},
   "outputs": [
    {
     "data": {
      "text/plain": [
       "[(1, 2, {'color': 'blue', 'weight': 4}),\n",
       " (2, 3, {'weight': 8}),\n",
       " (3, 4, {'color': 'red'}),\n",
       " (4, 5, {'color': 'red'})]"
      ]
     },
     "execution_count": 54,
     "metadata": {},
     "output_type": "execute_result"
    }
   ],
   "source": [
    "list(G.edges(data=True))"
   ]
  },
  {
   "cell_type": "markdown",
   "metadata": {},
   "source": [
    "El atributo especial \"weight\" debe ser numérico y contener los valores utilizados por los algoritmos que requieren vértices ponderados."
   ]
  },
  {
   "cell_type": "markdown",
   "metadata": {},
   "source": [
    "## Grafos dirigidos"
   ]
  },
  {
   "cell_type": "markdown",
   "metadata": {},
   "source": [
    "La clase `DiGraph` proporciona métodos adicionales específicos para vértices dirigidos, por ejemplo :meth:`DiGraph.out_edges`, `DiGraph.in_degree`, `DiGraph.predecesors`, `DiGraph.successors` etc. Para permitir que los algoritmos trabajen con ambas clases fácilmente, las versiones dirigidas de neighbors() y degree() son equivalentes a successors() y a la suma de in_degree() y out_degree() respectivamente, aunque esto pueda parecer inconsistente a veces."
   ]
  },
  {
   "cell_type": "code",
   "execution_count": 55,
   "metadata": {
    "collapsed": true
   },
   "outputs": [],
   "source": [
    "DG = nx.DiGraph()"
   ]
  },
  {
   "cell_type": "code",
   "execution_count": 56,
   "metadata": {
    "collapsed": true
   },
   "outputs": [],
   "source": [
    "DG.add_weighted_edges_from([(1, 2, 0.5), (3, 1, 0.75)])"
   ]
  },
  {
   "cell_type": "code",
   "execution_count": 57,
   "metadata": {},
   "outputs": [
    {
     "data": {
      "text/plain": [
       "0.5"
      ]
     },
     "execution_count": 57,
     "metadata": {},
     "output_type": "execute_result"
    }
   ],
   "source": [
    "DG.out_degree(1, weight='weight')"
   ]
  },
  {
   "cell_type": "code",
   "execution_count": 58,
   "metadata": {},
   "outputs": [
    {
     "data": {
      "text/plain": [
       "1.25"
      ]
     },
     "execution_count": 58,
     "metadata": {},
     "output_type": "execute_result"
    }
   ],
   "source": [
    "DG.degree(1,weight='weight')"
   ]
  },
  {
   "cell_type": "code",
   "execution_count": 59,
   "metadata": {},
   "outputs": [
    {
     "data": {
      "text/plain": [
       "[2]"
      ]
     },
     "execution_count": 59,
     "metadata": {},
     "output_type": "execute_result"
    }
   ],
   "source": [
    "list(DG.successors(1))   # DG.successors(n) returns an iterator"
   ]
  },
  {
   "cell_type": "code",
   "execution_count": 60,
   "metadata": {},
   "outputs": [
    {
     "data": {
      "text/plain": [
       "[2]"
      ]
     },
     "execution_count": 60,
     "metadata": {},
     "output_type": "execute_result"
    }
   ],
   "source": [
    "list(DG.neighbors(1))   # DG.neighbors(n) returns an iterator"
   ]
  },
  {
   "cell_type": "markdown",
   "metadata": {},
   "source": [
    "Algunos algoritmos funcionan sólo para grafos dirigidos y otros no están bien definidos para grafos dirigidos. De hecho, la tendencia a agrupar grafos dirigidos y no dirigidos es peligrosa. Si desea tratar un grafo dirigido como no dirigida para alguna medición, probablemente debería convertirla usando `Graph.to_undirected` o con\n",
    "\n",
    "Some algorithms work only for directed graphs and others are not well defined for directed graphs. Indeed the tendency to lump directed and undirected graphs together is dangerous. If you want to treat a directed graph as undirected for some measurement you should probably convert it using `Graph.to_undirected` or with"
   ]
  },
  {
   "cell_type": "code",
   "execution_count": 61,
   "metadata": {
    "collapsed": true
   },
   "outputs": [],
   "source": [
    "H = nx.Graph(G) # convert G to undirected graph"
   ]
  },
  {
   "cell_type": "markdown",
   "metadata": {},
   "source": [
    "## MultiGrafos"
   ]
  },
  {
   "cell_type": "markdown",
   "metadata": {},
   "source": [
    "NetworkX proporciona clases para grafos que permiten múltiples vértices entre cualquier par de nodos. Las clases `MultiGraph` y `MultiDiGraph` permiten añadir el mismo vértice dos veces, posiblemente con datos de vértice diferentes. Esto puede ser poderoso para algunas aplicaciones, pero muchos algoritmos no están bien definidos en tales grafos. El camino más corto es un ejemplo. Cuando los resultados están bien definidos, por ejemplo, `MultiGraph.degree`, nosotros proporcionamos la función. De lo contrario, debería convertir a un grafo estándar de forma que la medición esté bien definida."
   ]
  },
  {
   "cell_type": "code",
   "execution_count": 62,
   "metadata": {
    "collapsed": true
   },
   "outputs": [],
   "source": [
    "MG = nx.MultiGraph()"
   ]
  },
  {
   "cell_type": "code",
   "execution_count": 63,
   "metadata": {
    "collapsed": true
   },
   "outputs": [],
   "source": [
    "MG.add_weighted_edges_from([(1, 2, .5), (1, 2, .75), (2, 3, .5)])"
   ]
  },
  {
   "cell_type": "code",
   "execution_count": 64,
   "metadata": {},
   "outputs": [
    {
     "data": {
      "text/plain": [
       "[(1, 1.25), (2, 1.75), (3, 0.5)]"
      ]
     },
     "execution_count": 64,
     "metadata": {},
     "output_type": "execute_result"
    }
   ],
   "source": [
    "list(MG.degree(weight='weight'))  # MG.degree() returns a (node, degree) iterator"
   ]
  },
  {
   "cell_type": "code",
   "execution_count": 65,
   "metadata": {
    "collapsed": true
   },
   "outputs": [],
   "source": [
    "GG = nx.Graph()"
   ]
  },
  {
   "cell_type": "code",
   "execution_count": 66,
   "metadata": {
    "collapsed": true
   },
   "outputs": [],
   "source": [
    "for n,nbrs in MG.adjacency():\n",
    "    for nbr,edict in nbrs.items():\n",
    "        minvalue = min([d['weight'] for d in edict.values()])\n",
    "        GG.add_edge(n,nbr, weight = minvalue)"
   ]
  },
  {
   "cell_type": "code",
   "execution_count": 67,
   "metadata": {},
   "outputs": [
    {
     "data": {
      "text/plain": [
       "[1, 2, 3]"
      ]
     },
     "execution_count": 67,
     "metadata": {},
     "output_type": "execute_result"
    }
   ],
   "source": [
    "nx.shortest_path(GG, 1, 3)"
   ]
  },
  {
   "cell_type": "markdown",
   "metadata": {},
   "source": [
    "## Generador de grafos y operaciones con grafos"
   ]
  },
  {
   "cell_type": "markdown",
   "metadata": {},
   "source": [
    "Además de construir grafos nodo a nodo o vértice a vértice, también pueden ser generados por\n",
    "\n",
    "* Aplicando operaciones de grafo clásicas, tales como:\n",
    "```\n",
    "subgraph(G, nbunch) - induce subgrafos de G en los `nbunch` nodos\n",
    "unión(G1,G2) - unión de gráfos\n",
    "disjoint_union(G1,G2) - unión de grafos asumiendo que todos los nodos son diferentes\n",
    "cartesian_product(G1,G2) - devuelve el grafo de producto cartesiano\n",
    "compose(G1,G2) - combina grafos que identifican nodos comunes a ambos\n",
    "complement(G) - complemento de grafo\n",
    "create_empty_copy(G) - devuelve una copia vacía de la misma clase del grafo\n",
    "convert_to_undirected(G) - devuelve una representación no dirigida de G\n",
    "convert_to_directed(G) - devuelve una representación dirigida de G\n",
    "```\n",
    "* Usando una llamada a una de los grafos pequeños clásicas, por ejemplo"
   ]
  },
  {
   "cell_type": "code",
   "execution_count": 68,
   "metadata": {
    "collapsed": true
   },
   "outputs": [],
   "source": [
    "petersen = nx.petersen_graph()"
   ]
  },
  {
   "cell_type": "code",
   "execution_count": 69,
   "metadata": {
    "collapsed": true
   },
   "outputs": [],
   "source": [
    "tutte = nx.tutte_graph()"
   ]
  },
  {
   "cell_type": "code",
   "execution_count": 70,
   "metadata": {
    "collapsed": true
   },
   "outputs": [],
   "source": [
    "maze = nx.sedgewick_maze_graph()"
   ]
  },
  {
   "cell_type": "code",
   "execution_count": 71,
   "metadata": {
    "collapsed": true
   },
   "outputs": [],
   "source": [
    "tet = nx.tetrahedral_graph()"
   ]
  },
  {
   "cell_type": "markdown",
   "metadata": {},
   "source": [
    "* Usar un generador (constructivo) para un grafo clásico, por ejemplo:"
   ]
  },
  {
   "cell_type": "code",
   "execution_count": 72,
   "metadata": {
    "collapsed": true
   },
   "outputs": [],
   "source": [
    "K_5 = nx.complete_graph(5)"
   ]
  },
  {
   "cell_type": "code",
   "execution_count": 73,
   "metadata": {
    "collapsed": true
   },
   "outputs": [],
   "source": [
    "K_3_5 = nx.complete_bipartite_graph(3, 5)"
   ]
  },
  {
   "cell_type": "code",
   "execution_count": 74,
   "metadata": {
    "collapsed": true
   },
   "outputs": [],
   "source": [
    "barbell = nx.barbell_graph(10, 10)"
   ]
  },
  {
   "cell_type": "code",
   "execution_count": 75,
   "metadata": {
    "collapsed": true
   },
   "outputs": [],
   "source": [
    "lollipop = nx.lollipop_graph(10, 20)"
   ]
  },
  {
   "cell_type": "markdown",
   "metadata": {},
   "source": [
    "* Usando un generador de grafos estocástico, por ejemplo:"
   ]
  },
  {
   "cell_type": "code",
   "execution_count": 76,
   "metadata": {
    "collapsed": true
   },
   "outputs": [],
   "source": [
    "er = nx.erdos_renyi_graph(100, 0.15)"
   ]
  },
  {
   "cell_type": "code",
   "execution_count": 77,
   "metadata": {
    "collapsed": true
   },
   "outputs": [],
   "source": [
    "ws = nx.watts_strogatz_graph(30, 3, 0.1)"
   ]
  },
  {
   "cell_type": "code",
   "execution_count": 78,
   "metadata": {
    "collapsed": true
   },
   "outputs": [],
   "source": [
    "ba = nx.barabasi_albert_graph(100, 5)"
   ]
  },
  {
   "cell_type": "code",
   "execution_count": 79,
   "metadata": {
    "collapsed": true
   },
   "outputs": [],
   "source": [
    "red = nx.random_lobster(100, 0.9, 0.9)"
   ]
  },
  {
   "cell_type": "markdown",
   "metadata": {},
   "source": [
    "* Lectura de un grafo almacenado en un archivo utilizando formatos de grafos comunes, como listas de vértice, listas de adyacencia, GML, GraphML, pickle, LEDA y otros."
   ]
  },
  {
   "cell_type": "code",
   "execution_count": 80,
   "metadata": {
    "collapsed": true
   },
   "outputs": [],
   "source": [
    "nx.write_gml(red, \"path.to.file\")"
   ]
  },
  {
   "cell_type": "code",
   "execution_count": 81,
   "metadata": {
    "collapsed": true
   },
   "outputs": [],
   "source": [
    "mygraph = nx.read_gml(\"path.to.file\")"
   ]
  },
  {
   "cell_type": "markdown",
   "metadata": {},
   "source": [
    "## Analizando Grafos"
   ]
  },
  {
   "cell_type": "markdown",
   "metadata": {},
   "source": [
    "La estructura de G puede ser analizada usando varias funciones grafo-teóricas tales como:"
   ]
  },
  {
   "cell_type": "code",
   "execution_count": 82,
   "metadata": {
    "collapsed": true
   },
   "outputs": [],
   "source": [
    "G=nx.Graph()"
   ]
  },
  {
   "cell_type": "code",
   "execution_count": 83,
   "metadata": {
    "collapsed": true
   },
   "outputs": [],
   "source": [
    "G.add_edges_from([(1, 2), (1, 3)])"
   ]
  },
  {
   "cell_type": "code",
   "execution_count": 84,
   "metadata": {
    "collapsed": true
   },
   "outputs": [],
   "source": [
    "G.add_node(\"spam\")       # adds node \"spam\""
   ]
  },
  {
   "cell_type": "code",
   "execution_count": 85,
   "metadata": {},
   "outputs": [
    {
     "data": {
      "text/plain": [
       "<generator object connected_components at 0x103ed7cd0>"
      ]
     },
     "execution_count": 85,
     "metadata": {},
     "output_type": "execute_result"
    }
   ],
   "source": [
    "nx.connected_components(G)"
   ]
  },
  {
   "cell_type": "code",
   "execution_count": 86,
   "metadata": {},
   "outputs": [
    {
     "data": {
      "text/plain": [
       "[{1, 2, 3}, {'spam'}]"
      ]
     },
     "execution_count": 86,
     "metadata": {},
     "output_type": "execute_result"
    }
   ],
   "source": [
    "list(nx.connected_components(G))"
   ]
  },
  {
   "cell_type": "code",
   "execution_count": 87,
   "metadata": {},
   "outputs": [
    {
     "data": {
      "text/plain": [
       "[0, 1, 1, 2]"
      ]
     },
     "execution_count": 87,
     "metadata": {},
     "output_type": "execute_result"
    }
   ],
   "source": [
    "sorted(d for n, d in nx.degree(G))"
   ]
  },
  {
   "cell_type": "code",
   "execution_count": 88,
   "metadata": {},
   "outputs": [
    {
     "data": {
      "text/plain": [
       "{1: 0.0, 2: 0.0, 3: 0.0, 'spam': 0.0}"
      ]
     },
     "execution_count": 88,
     "metadata": {},
     "output_type": "execute_result"
    }
   ],
   "source": [
    "nx.clustering(G)"
   ]
  },
  {
   "cell_type": "markdown",
   "metadata": {},
   "source": [
    "Las funciones que devuelven propiedades de nodo devuelven (nodo, valor) iteradores tuples."
   ]
  },
  {
   "cell_type": "code",
   "execution_count": 89,
   "metadata": {},
   "outputs": [
    {
     "data": {
      "text/plain": [
       "<generator object d_iter at 0x103ed7d20>"
      ]
     },
     "execution_count": 89,
     "metadata": {},
     "output_type": "execute_result"
    }
   ],
   "source": [
    "nx.degree(G)"
   ]
  },
  {
   "cell_type": "code",
   "execution_count": 90,
   "metadata": {},
   "outputs": [
    {
     "data": {
      "text/plain": [
       "[(1, 2), (2, 1), (3, 1), ('spam', 0)]"
      ]
     },
     "execution_count": 90,
     "metadata": {},
     "output_type": "execute_result"
    }
   ],
   "source": [
    "list(nx.degree(G))"
   ]
  },
  {
   "cell_type": "markdown",
   "metadata": {},
   "source": [
    "Para valores de nodos específicos, puede proporcionar un único nodo o un grupo de nodos como argumento. Si se especifica un nodo individual, se devuelve un valor individual. Si se especifica un nbunch, la función devolverá un iterador (nodo, grado)."
   ]
  },
  {
   "cell_type": "code",
   "execution_count": 91,
   "metadata": {},
   "outputs": [
    {
     "data": {
      "text/plain": [
       "2"
      ]
     },
     "execution_count": 91,
     "metadata": {},
     "output_type": "execute_result"
    }
   ],
   "source": [
    "nx.degree(G, 1)"
   ]
  },
  {
   "cell_type": "code",
   "execution_count": 92,
   "metadata": {},
   "outputs": [
    {
     "data": {
      "text/plain": [
       "2"
      ]
     },
     "execution_count": 92,
     "metadata": {},
     "output_type": "execute_result"
    }
   ],
   "source": [
    "G.degree(1)"
   ]
  },
  {
   "cell_type": "code",
   "execution_count": 93,
   "metadata": {},
   "outputs": [
    {
     "data": {
      "text/plain": [
       "<generator object d_iter at 0x103ef00a0>"
      ]
     },
     "execution_count": 93,
     "metadata": {},
     "output_type": "execute_result"
    }
   ],
   "source": [
    "G.degree([1, 2])"
   ]
  },
  {
   "cell_type": "code",
   "execution_count": 94,
   "metadata": {},
   "outputs": [
    {
     "data": {
      "text/plain": [
       "[(1, 2), (2, 1)]"
      ]
     },
     "execution_count": 94,
     "metadata": {},
     "output_type": "execute_result"
    }
   ],
   "source": [
    "list(G.degree([1, 2]))"
   ]
  },
  {
   "cell_type": "markdown",
   "metadata": {},
   "source": [
    "## Dibujando Grafos"
   ]
  },
  {
   "cell_type": "markdown",
   "metadata": {},
   "source": [
    "NetworkX no es principalmente un paquete de dibujo gráfico, sino que se incluye un dibujo básico con Matplotlib, así como una interfaz para utilizar el paquete de software de código abierto Graphviz.\n",
    "\n",
    "Tenga en cuenta que el paquete de dibujo de NetworkX aún no es compatible con las versiones 3.0 y superiores de Python. (AHORA SI!!)\n",
    "\n",
    "Primera importación de la interfaz gráfica de Matplotlib (pylab también funciona)"
   ]
  },
  {
   "cell_type": "code",
   "execution_count": 95,
   "metadata": {
    "collapsed": true
   },
   "outputs": [],
   "source": [
    "import matplotlib.pyplot as plt"
   ]
  },
  {
   "cell_type": "markdown",
   "metadata": {},
   "source": [
    "Puede que le resulte útil probar el código de forma interactiva utilizando \"ipython -pylab\", que combina la potencia de ipython y matplotlib y proporciona un cómodo modo interactivo.\n",
    "\n",
    "Para probar si la importación de networkx.drawing fue exitosa, dibuje G usando uno de los siguientes métodos"
   ]
  },
  {
   "cell_type": "code",
   "execution_count": 96,
   "metadata": {
    "collapsed": true
   },
   "outputs": [],
   "source": [
    "nx.draw(G)"
   ]
  },
  {
   "cell_type": "code",
   "execution_count": 97,
   "metadata": {
    "collapsed": true
   },
   "outputs": [],
   "source": [
    "nx.draw_random(G)"
   ]
  },
  {
   "cell_type": "code",
   "execution_count": 98,
   "metadata": {
    "collapsed": true
   },
   "outputs": [],
   "source": [
    "nx.draw_circular(G)"
   ]
  },
  {
   "cell_type": "code",
   "execution_count": 99,
   "metadata": {
    "collapsed": true
   },
   "outputs": [],
   "source": [
    "nx.draw_spectral(G)"
   ]
  },
  {
   "cell_type": "markdown",
   "metadata": {},
   "source": [
    "cuando se dibuja en una pantalla interactiva. Tenga en cuenta que es posible que necesite emitir un Matplotlib"
   ]
  },
  {
   "cell_type": "code",
   "execution_count": 100,
   "metadata": {
    "collapsed": true
   },
   "outputs": [],
   "source": [
    "plt.show()"
   ]
  },
  {
   "cell_type": "markdown",
   "metadata": {},
   "source": [
    "si no está utilizando matplotlib en modo interactivo: (Ver Matplotlib FAQ)\n",
    "\n",
    "Para guardar dibujos en un archivo, utilice, por ejemplo:"
   ]
  },
  {
   "cell_type": "code",
   "execution_count": 101,
   "metadata": {
    "collapsed": true
   },
   "outputs": [],
   "source": [
    "nx.draw(G)"
   ]
  },
  {
   "cell_type": "code",
   "execution_count": 102,
   "metadata": {
    "collapsed": true
   },
   "outputs": [],
   "source": [
    "plt.savefig(\"path.png\")"
   ]
  },
  {
   "cell_type": "markdown",
   "metadata": {},
   "source": [
    "escribe en el fichero \"path.png\" del directorio local."
   ]
  },
  {
   "cell_type": "code",
   "execution_count": null,
   "metadata": {
    "collapsed": true
   },
   "outputs": [],
   "source": []
  }
 ],
 "metadata": {
  "kernelspec": {
   "display_name": "Python [conda env:py36]",
   "language": "python",
   "name": "conda-env-py36-py"
  },
  "language_info": {
   "codemirror_mode": {
    "name": "ipython",
    "version": 3
   },
   "file_extension": ".py",
   "mimetype": "text/x-python",
   "name": "python",
   "nbconvert_exporter": "python",
   "pygments_lexer": "ipython3",
   "version": "3.6.4"
  }
 },
 "nbformat": 4,
 "nbformat_minor": 1
}
