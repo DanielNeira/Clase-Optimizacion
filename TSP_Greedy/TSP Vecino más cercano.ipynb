{
 "cells": [
  {
   "cell_type": "markdown",
   "metadata": {},
   "source": [
    "# Ayudantia Logistica TSP Greedy\n",
    "En este Notebook se verá un algoritmo Greedy para el TSP, basado en el vecino más cercano. \n",
    "Además veremos como se leen datos con la librería \"Pandas\"."
   ]
  },
  {
   "cell_type": "markdown",
   "metadata": {},
   "source": [
    "# Lectura de Datos \n",
    "Es necesario tener la libreria pandas instalada. Comando para instalarla desde la consola \"pip install pandas\". Una vez instalada la libreria, descargar una instancia del TSP de \"TSP Lib\" (http://elib.zib.de/pub/mp-testdata/tsp/tsplib/tsplib.html), para este ejercicio usaremos una que se encuentra en la carpeta del curso."
   ]
  },
  {
   "cell_type": "code",
   "execution_count": 39,
   "metadata": {
    "collapsed": true
   },
   "outputs": [],
   "source": [
    "import pandas as pd\n",
    "dataset='Datos_TSP.txt'\n",
    "archivo = pd.read_csv(dataset,delim_whitespace=True,header=None)\n",
    "#print(archivo)"
   ]
  },
  {
   "cell_type": "markdown",
   "metadata": {},
   "source": [
    "# Construccion de la matriz de distancia"
   ]
  },
  {
   "cell_type": "code",
   "execution_count": 40,
   "metadata": {},
   "outputs": [],
   "source": [
    "import numpy as np\n",
    "dist=[]\n",
    "for i in range(280):\n",
    "    a=archivo.iloc[i]\n",
    "    a=np.array(a)\n",
    "    a=np.delete(a, 0)\n",
    "    for j in range(280):\n",
    "        if i!=j:\n",
    "            b=archivo.iloc[j]\n",
    "            b=np.array(b)\n",
    "            b=np.delete(b, 0)\n",
    "            dist.append(int(np.linalg.norm(a-b)))\n",
    "        elif i==j:\n",
    "            dist.append(99999)\n",
    "distancias=np.array(dist)\n",
    "distancias=distancias.reshape(280,280)\n",
    "distancias_2= np.copy(distancias) #para poder correrlas todas de una!!\n",
    "#print(distancias)"
   ]
  },
  {
   "cell_type": "code",
   "execution_count": 41,
   "metadata": {},
   "outputs": [
    {
     "name": "stdout",
     "output_type": "stream",
     "text": [
      "(280, 280)\n"
     ]
    }
   ],
   "source": [
    "print(distancias.shape)"
   ]
  },
  {
   "cell_type": "markdown",
   "metadata": {},
   "source": [
    "# Vector de Nodos por Visitar"
   ]
  },
  {
   "cell_type": "code",
   "execution_count": 42,
   "metadata": {},
   "outputs": [
    {
     "name": "stdout",
     "output_type": "stream",
     "text": [
      "[0, 1, 2, 3, 4, 5, 6, 7, 8, 9, 10, 11, 12, 13, 14, 15, 16, 17, 18, 19, 20, 21, 22, 23, 24, 25, 26, 27, 28, 29, 30, 31, 32, 33, 34, 35, 36, 37, 38, 39, 40, 41, 42, 43, 44, 45, 46, 47, 48, 49, 50, 51, 52, 53, 54, 55, 56, 57, 58, 59, 60, 61, 62, 63, 64, 65, 66, 67, 68, 69, 70, 71, 72, 73, 74, 75, 76, 77, 78, 79, 80, 81, 82, 83, 84, 85, 86, 87, 88, 89, 90, 91, 92, 93, 94, 95, 96, 97, 98, 99, 100, 101, 102, 103, 104, 105, 106, 107, 108, 109, 110, 111, 112, 113, 114, 115, 116, 117, 118, 119, 120, 121, 122, 123, 124, 125, 126, 127, 128, 129, 130, 131, 132, 133, 134, 135, 136, 137, 138, 139, 140, 141, 142, 143, 144, 145, 146, 147, 148, 149, 150, 151, 152, 153, 154, 155, 156, 157, 158, 159, 160, 161, 162, 163, 164, 165, 166, 167, 168, 169, 170, 171, 172, 173, 174, 175, 176, 177, 178, 179, 180, 181, 182, 183, 184, 185, 186, 187, 188, 189, 190, 191, 192, 193, 194, 195, 196, 197, 198, 199, 200, 201, 202, 203, 204, 205, 206, 207, 208, 209, 210, 211, 212, 213, 214, 215, 216, 217, 218, 219, 220, 221, 222, 223, 224, 225, 226, 227, 228, 229, 230, 231, 232, 233, 234, 235, 236, 237, 238, 239, 240, 241, 242, 243, 244, 245, 246, 247, 248, 249, 250, 251, 252, 253, 254, 255, 256, 257, 258, 259, 260, 261, 262, 263, 264, 265, 266, 267, 268, 269, 270, 271, 272, 273, 274, 275, 276, 277, 278, 279]\n"
     ]
    }
   ],
   "source": [
    "nodos_por_visitar=[]\n",
    "for i in range(280):\n",
    "    nodos_por_visitar.append(i)\n",
    "print(nodos_por_visitar) "
   ]
  },
  {
   "cell_type": "markdown",
   "metadata": {},
   "source": [
    "# Encuentro Distancia Minima"
   ]
  },
  {
   "cell_type": "code",
   "execution_count": 43,
   "metadata": {},
   "outputs": [
    {
     "name": "stdout",
     "output_type": "stream",
     "text": [
      "Distancia recorrida=  3203\n",
      "Ruta=  [0, 279, 1, 2, 278, 277, 3, 276, 275, 274, 273, 272, 271, 270, 15, 16, 17, 18, 19, 20, 127, 126, 125, 124, 29, 30, 31, 28, 27, 26, 25, 21, 24, 22, 23, 13, 12, 11, 10, 9, 7, 6, 8, 5, 4, 259, 258, 257, 256, 253, 252, 207, 205, 206, 209, 208, 251, 254, 255, 248, 247, 246, 243, 240, 239, 238, 237, 230, 231, 232, 233, 234, 235, 236, 245, 244, 242, 241, 249, 250, 229, 228, 227, 226, 225, 224, 223, 222, 221, 218, 217, 214, 213, 210, 211, 212, 215, 216, 219, 220, 202, 201, 199, 143, 142, 141, 140, 139, 138, 137, 136, 135, 134, 133, 269, 268, 267, 266, 265, 264, 263, 262, 261, 260, 14, 132, 131, 130, 129, 128, 153, 154, 152, 155, 151, 150, 176, 175, 180, 179, 178, 177, 149, 148, 147, 146, 145, 144, 198, 197, 196, 193, 194, 195, 200, 192, 190, 189, 188, 187, 186, 184, 183, 182, 181, 160, 161, 162, 163, 164, 165, 166, 167, 168, 100, 99, 98, 97, 92, 93, 94, 95, 96, 91, 90, 89, 88, 80, 78, 79, 81, 82, 83, 84, 64, 63, 62, 61, 117, 60, 59, 42, 41, 40, 39, 38, 34, 35, 36, 37, 48, 47, 46, 45, 44, 43, 56, 55, 54, 53, 52, 51, 50, 49, 33, 32, 123, 122, 121, 120, 119, 118, 156, 157, 158, 159, 174, 173, 172, 105, 104, 103, 102, 101, 169, 170, 171, 106, 107, 108, 109, 110, 111, 87, 86, 112, 113, 114, 115, 85, 65, 66, 69, 70, 71, 72, 73, 74, 75, 76, 77, 116, 58, 57, 67, 68, 185, 191, 203, 204, 0]\n"
     ]
    }
   ],
   "source": [
    "FO=0\n",
    "inicio=0\n",
    "nodos_por_visitar.remove(inicio)\n",
    "nodos_visitados=[]\n",
    "nodos_visitados.append(inicio)\n",
    "nodo_actual=np.argmin(distancias[inicio])\n",
    "distancia=np.min(distancias[inicio])\n",
    "FO+=distancia\n",
    "while len(nodos_por_visitar)!=1:\n",
    "    nodos_por_visitar.remove(nodo_actual) \n",
    "    for i in range(len(nodos_visitados)):\n",
    "        distancias[nodo_actual][nodos_visitados[i]]=99999\n",
    "    nodos_visitados.append(nodo_actual)\n",
    "    distancia=np.min(distancias[nodo_actual])\n",
    "    nodo_actual=np.argmin(distancias[nodo_actual])\n",
    "    FO+=distancia\n",
    "nodos_visitados.append(nodo_actual)\n",
    "FO += distancias[nodo_actual][0]\n",
    "nodos_visitados.append(0)\n",
    "print(\"Distancia recorrida= \",FO)    \n",
    "print(\"Ruta= \",nodos_visitados)"
   ]
  },
  {
   "cell_type": "code",
   "execution_count": 44,
   "metadata": {},
   "outputs": [
    {
     "name": "stdout",
     "output_type": "stream",
     "text": [
      "281\n",
      "[204]\n"
     ]
    }
   ],
   "source": [
    "print(len(nodos_visitados))\n",
    "print(nodos_por_visitar)"
   ]
  },
  {
   "cell_type": "markdown",
   "metadata": {},
   "source": [
    "# Comparación con el óptimo"
   ]
  },
  {
   "cell_type": "code",
   "execution_count": 45,
   "metadata": {
    "collapsed": true
   },
   "outputs": [],
   "source": [
    "#distancias_2=np.array(dist)\n",
    "#distancias_2=distancias.reshape(280,280)"
   ]
  },
  {
   "cell_type": "code",
   "execution_count": 49,
   "metadata": {},
   "outputs": [
    {
     "ename": "SyntaxError",
     "evalue": "invalid syntax (<ipython-input-49-9455649944e0>, line 9)",
     "output_type": "error",
     "traceback": [
      "\u001b[0;36m  File \u001b[0;32m\"<ipython-input-49-9455649944e0>\"\u001b[0;36m, line \u001b[0;32m9\u001b[0m\n\u001b[0;31m    print(FO_optimo)\u001b[0m\n\u001b[0m        ^\u001b[0m\n\u001b[0;31mSyntaxError\u001b[0m\u001b[0;31m:\u001b[0m invalid syntax\n"
     ]
    }
   ],
   "source": [
    "dataset2='Recorrido_optimo.txt'\n",
    "archivo2 = pd.read_csv(dataset2,delim_whitespace=True,header=None)\n",
    "# print(archivo2)\n",
    "ruta_optima=np.array(archivo2)\n",
    "FO_optimo=0\n",
    "for i in range(len(ruta_optima)-2):\n",
    "    FO_optimo+=distancias_2[ruta_optima[i][0]-1][ruta_optima[i+1][0]-1]\n",
    "FO_optimo +=distancias_2[ruta_optima[-1][0] #le agrego el regreso a 0\n",
    "print(FO_optimo)"
   ]
  },
  {
   "cell_type": "code",
   "execution_count": null,
   "metadata": {
    "collapsed": true
   },
   "outputs": [],
   "source": []
  }
 ],
 "metadata": {
  "kernelspec": {
   "display_name": "Python [default]",
   "language": "python",
   "name": "python3"
  },
  "language_info": {
   "codemirror_mode": {
    "name": "ipython",
    "version": 3
   },
   "file_extension": ".py",
   "mimetype": "text/x-python",
   "name": "python",
   "nbconvert_exporter": "python",
   "pygments_lexer": "ipython3",
   "version": "3.6.3"
  }
 },
 "nbformat": 4,
 "nbformat_minor": 2
}
