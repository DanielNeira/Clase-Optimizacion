{
 "cells": [
  {
   "cell_type": "markdown",
   "metadata": {},
   "source": [
    "# OP Greedy"
   ]
  },
  {
   "cell_type": "code",
   "execution_count": 2,
   "metadata": {},
   "outputs": [],
   "source": [
    "import importlib\n",
    "import math\n",
    "import random\n",
    "import itertools\n",
    "import numpy as np\n",
    "import time\n",
    "import pandas as pd\n",
    "import operator\n",
    "from numpy import inf"
   ]
  },
  {
   "cell_type": "markdown",
   "metadata": {},
   "source": [
    "# Lectura de Datos y Análisis"
   ]
  },
  {
   "cell_type": "markdown",
   "metadata": {},
   "source": [
    "Leo los datos desde un txt"
   ]
  },
  {
   "cell_type": "code",
   "execution_count": 6,
   "metadata": {},
   "outputs": [],
   "source": [
    "ruta = 'tsiligirides_problem_1_budget_85.txt'\n",
    "archivo = pd.read_csv(ruta, header=None, delim_whitespace=True)"
   ]
  },
  {
   "cell_type": "markdown",
   "metadata": {},
   "source": [
    "Asigno el tiempo o distancia máxima de la ruta"
   ]
  },
  {
   "cell_type": "code",
   "execution_count": 7,
   "metadata": {
    "collapsed": true
   },
   "outputs": [],
   "source": [
    "tiempo_max=archivo.iloc[-1].values\n",
    "tiempo_max=int(tiempo_max[0])"
   ]
  },
  {
   "cell_type": "markdown",
   "metadata": {},
   "source": [
    "Creo matriz de distancias"
   ]
  },
  {
   "cell_type": "code",
   "execution_count": 8,
   "metadata": {
    "collapsed": true
   },
   "outputs": [],
   "source": [
    "dist=[]\n",
    "for i in range(31):\n",
    "    a=archivo.iloc[i]\n",
    "    a=np.array(a)\n",
    "    a=np.delete(a,2)\n",
    "    for j in range(31):\n",
    "        if i!=j:\n",
    "            b=archivo.iloc[j]\n",
    "            b=np.array(b)\n",
    "            b=np.delete(b,2)\n",
    "            dist.append(int(np.linalg.norm(a-b)))\n",
    "        elif i==j:\n",
    "            dist.append(99999)"
   ]
  },
  {
   "cell_type": "code",
   "execution_count": 9,
   "metadata": {
    "collapsed": true
   },
   "outputs": [],
   "source": [
    "distancias=np.array(dist)\n",
    "distancias=distancias.reshape(31,31)"
   ]
  },
  {
   "cell_type": "markdown",
   "metadata": {},
   "source": [
    "Obtengo los beneficios de cada nodo"
   ]
  },
  {
   "cell_type": "code",
   "execution_count": 10,
   "metadata": {},
   "outputs": [
    {
     "name": "stdout",
     "output_type": "stream",
     "text": [
      "[0, 0, 10, 10, 10, 10, 5, 5, 5, 5, 10, 10, 10, 5, 10, 15, 15, 10, 5, 5, 5, 10, 10, 10, 15, 15, 15, 10, 10, 10, 10]\n"
     ]
    }
   ],
   "source": [
    "beneficios=[]\n",
    "for i in range(31):\n",
    "    c= archivo.iloc[i]\n",
    "    c = [int(i) for i in c]\n",
    "    del c[0]\n",
    "    del c[0]\n",
    "    c=c[0]\n",
    "    beneficios.append(c)\n",
    "print(beneficios)   "
   ]
  },
  {
   "cell_type": "markdown",
   "metadata": {},
   "source": [
    "Creo funcion para conocer el siguiente nodo segun un estimador de distancia/beneficio"
   ]
  },
  {
   "cell_type": "code",
   "execution_count": 11,
   "metadata": {
    "collapsed": true
   },
   "outputs": [],
   "source": [
    "def Nodo_siguiente(posicion_actual,distancias,beneficios):\n",
    "    profits=[]\n",
    "    for i in range (len(beneficios)):\n",
    "        profits.append(beneficios[i]/distancias[posicion_actual][i])\n",
    "    profits=np.asarray(profits)\n",
    "    profits[np.isnan(profits)] = 0\n",
    "    profits[profits == inf] = 0\n",
    "    nodo_siguiente=np.argmax(profits)\n",
    "    return(nodo_siguiente)"
   ]
  },
  {
   "cell_type": "markdown",
   "metadata": {},
   "source": [
    "Hago la iteracion hasta que acabe el tiempo de viaje"
   ]
  },
  {
   "cell_type": "code",
   "execution_count": 12,
   "metadata": {
    "collapsed": true
   },
   "outputs": [],
   "source": [
    "FO=0\n",
    "posicion_inicial=0\n",
    "nodos_visitados=[]\n",
    "nodos_visitados.append(posicion_inicial)\n",
    "posicion_actual=posicion_inicial"
   ]
  },
  {
   "cell_type": "code",
   "execution_count": 14,
   "metadata": {},
   "outputs": [
    {
     "name": "stdout",
     "output_type": "stream",
     "text": [
      "[0, 28, 17, 29, 16, 15, 14, 4, 5, 3, 2, 8, 10, 11, 12, 21, 22, 23, 24, 25, 26, 27, 20, 19, 9, 13, 6, 7, 18, 30]\n",
      "275\n"
     ]
    }
   ],
   "source": [
    "while tiempo_max >0:\n",
    "    for i in range(len(nodos_visitados)):\n",
    "        distancias[posicion_actual][nodos_visitados[i]]=999999  \n",
    "    nodo_siguiente=Nodo_siguiente(posicion_actual,distancias,beneficios)\n",
    "    FO+=beneficios[nodo_siguiente]\n",
    "    if tiempo_max-distancias[posicion_actual][nodo_siguiente] < 0:\n",
    "        break\n",
    "    tiempo_max-=distancias[posicion_actual][nodo_siguiente]\n",
    "    beneficios[nodo_siguiente]=0\n",
    "    nodos_visitados.append(nodo_siguiente)\n",
    "    posicion_actual=nodo_siguiente\n",
    "print(nodos_visitados)\n",
    "print(FO)"
   ]
  }
 ],
 "metadata": {
  "kernelspec": {
   "display_name": "Python [default]",
   "language": "python",
   "name": "python3"
  },
  "language_info": {
   "codemirror_mode": {
    "name": "ipython",
    "version": 3
   },
   "file_extension": ".py",
   "mimetype": "text/x-python",
   "name": "python",
   "nbconvert_exporter": "python",
   "pygments_lexer": "ipython3",
   "version": "3.6.3"
  }
 },
 "nbformat": 4,
 "nbformat_minor": 2
}
