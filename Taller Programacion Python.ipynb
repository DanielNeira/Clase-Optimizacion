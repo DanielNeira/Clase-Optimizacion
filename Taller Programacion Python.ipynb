{
 "cells": [
  {
   "cell_type": "markdown",
   "metadata": {},
   "source": [
    "# Introduction to Python"
   ]
  },
  {
   "cell_type": "markdown",
   "metadata": {},
   "source": [
    "The program was introduced by Guido von Rossum in 1990 and Python 3 was released in 2008"
   ]
  },
  {
   "cell_type": "markdown",
   "metadata": {},
   "source": [
    "* Low Level vs high-level \n",
    "* General vs targeted to an application domain\n",
    "* Interpreted vs compiled"
   ]
  },
  {
   "cell_type": "markdown",
   "metadata": {},
   "source": [
    "## Basic Elements\n",
    "\n",
    "A Python **program** is a sequence of definitions and commmands. The definitions are evaluated by the interpreter and the commands executed in the shell\n",
    "\n",
    "A **command**, often called a **statement**, instructs the interpreter to do something"
   ]
  },
  {
   "cell_type": "code",
   "execution_count": null,
   "metadata": {
    "collapsed": true
   },
   "outputs": [],
   "source": [
    "print(\"I am a command, print me!!\")"
   ]
  },
  {
   "cell_type": "markdown",
   "metadata": {},
   "source": [
    "## Objects, expressions, and numerical types\n",
    "\n",
    "**Objects** are the core thing that Python programs manipulate. Every Object has a **type** that define the kind of things that the program can do with the object. \n",
    "\n",
    "* Types are either scalar or non-scalar. **Scalar** objects are indivisible.\n",
    "* Python uses four types of scalars: *int*, *float*, *bool*, *None*\n",
    "* Objects and **operators** can be combined to form **expressions**, each of which denotes and object of some type\n",
    "\n",
    "The operator == is used to test if two expressions are equal, and the != operator is used to test if two expressions are unequal.\n",
    "\n",
    "The built-in Python function **type** can be used to test the type of an object"
   ]
  },
  {
   "cell_type": "code",
   "execution_count": null,
   "metadata": {
    "collapsed": true
   },
   "outputs": [],
   "source": [
    "y = 5.0 + 5.0\n",
    "print(type(y))\n",
    "type(\"abc\")"
   ]
  },
  {
   "cell_type": "code",
   "execution_count": null,
   "metadata": {
    "collapsed": true
   },
   "outputs": [],
   "source": [
    "type(3)"
   ]
  },
  {
   "cell_type": "code",
   "execution_count": null,
   "metadata": {
    "collapsed": true
   },
   "outputs": [],
   "source": [
    "type(\"a,b,c\")"
   ]
  },
  {
   "cell_type": "markdown",
   "metadata": {},
   "source": [
    " The operators on types **int** and **float** are:\n",
    " * i+j\n",
    " * i-j\n",
    " * i * j\n",
    " * i//j (integer division)\n",
    " * i/j \n",
    " * i%j (modulus operator)\n",
    " * i**j\n",
    " \n",
    " The operators in type **bool** are:\n",
    " * **a and b**\n",
    " * **a or b**\n",
    " * **not a**"
   ]
  },
  {
   "cell_type": "markdown",
   "metadata": {},
   "source": [
    "## Variables and assignment\n",
    "\n",
    "**Variables** provide a way to associate names with objects"
   ]
  },
  {
   "cell_type": "code",
   "execution_count": null,
   "metadata": {
    "collapsed": true,
    "scrolled": true
   },
   "outputs": [],
   "source": [
    "pi = 3.14\n",
    "radius = 11.2\n",
    "area = pi*(radius**2)\n",
    "radius = 14.3\n",
    "print(area)\n",
    "area = pi*(radius**2)\n",
    "print(area)"
   ]
  },
  {
   "cell_type": "markdown",
   "metadata": {},
   "source": [
    "First, two **float** objects are bound to names *pi* and *radius*. Then, the name *area* is bound to another **float**. Finally, radius is bound to another **float** object\n",
    "\n",
    "**IMPORTANT**\n",
    "In python **a variable is just a name**. An assignment statement associate the name to the left of the = symbol with the object denoted by the expression to the right. \n",
    "\n",
    "** An object can have one, more than one, or no name associated to it**\n",
    "\n",
    "It is critically important to write programs that are easy to read, for example"
   ]
  },
  {
   "cell_type": "code",
   "execution_count": null,
   "metadata": {
    "collapsed": true
   },
   "outputs": [],
   "source": [
    "a = 3.1415; \n",
    "b = 11.2; \n",
    "c = a*(b**2)\n",
    "\n",
    "pi = 3.1415\n",
    "diameter = 11.2\n",
    "area = pi*(diameter**2)"
   ]
  },
  {
   "cell_type": "markdown",
   "metadata": {},
   "source": [
    "For Python, both expressions are the same. For a humam reader, however, they are quite different. \n",
    "\n",
    "Another way to improve the readability of the code is to add comments. Text following the symbol # is not interpreted by Python"
   ]
  },
  {
   "cell_type": "code",
   "execution_count": null,
   "metadata": {
    "collapsed": true
   },
   "outputs": [],
   "source": [
    "pi = 2\n",
    "radius = 5\n",
    "side = 4\n",
    "# Substract area of the square s from area of circle c\n",
    "areaC = pi*radius**2 # Esto es un comentario\n",
    "# hola\n",
    "areaS = side*side\n",
    "difference = areaC-areaS"
   ]
  },
  {
   "cell_type": "markdown",
   "metadata": {},
   "source": [
    "Python allows multiple assignment, such as:"
   ]
  },
  {
   "cell_type": "code",
   "execution_count": null,
   "metadata": {
    "collapsed": true
   },
   "outputs": [],
   "source": [
    "x, y = 2, 3\n",
    "x, y = y, x\n",
    "print(\"x = \",x ,\", y = \",y)"
   ]
  },
  {
   "cell_type": "markdown",
   "metadata": {},
   "source": [
    "## Branching Programs\n",
    "\n",
    "So far we have seen **straight-line programs**. They execute one statement after another in the order in which they appear, and stop when they run out of statemnets.\n",
    "\n",
    "**Branching** programs are more interesting. The simplest branching statement is a **conditional**       "
   ]
  },
  {
   "cell_type": "code",
   "execution_count": null,
   "metadata": {
    "collapsed": true
   },
   "outputs": [],
   "source": [
    "if boolean expression:\n",
    "    block of code\n",
    "else:\n",
    "    block of code"
   ]
  },
  {
   "cell_type": "markdown",
   "metadata": {},
   "source": [
    "Consider de following program:"
   ]
  },
  {
   "cell_type": "code",
   "execution_count": null,
   "metadata": {
    "collapsed": true
   },
   "outputs": [],
   "source": [
    "x = 6\n",
    "if x%2 == 0:\n",
    "    print(\"Even\")\n",
    "else:\n",
    "    print(\"Odd\")\n",
    "print(\"Done with conditional\")"
   ]
  },
  {
   "cell_type": "markdown",
   "metadata": {},
   "source": [
    "**Indentation** is semantically meaningful in Python. Additionally, when either the true block or the false block of a conditional contains another conditional, the conditional statement are said to be **nested**"
   ]
  },
  {
   "cell_type": "code",
   "execution_count": null,
   "metadata": {
    "collapsed": true
   },
   "outputs": [],
   "source": [
    "x = 1\n",
    "y = 3\n",
    "z = 1\n",
    "\n",
    "if x < y:\n",
    "    if x < z:\n",
    "        print(\"x is least\")\n",
    "    else:\n",
    "        print(\"x is second\")\n",
    "else:\n",
    "    print(\"x is first\")"
   ]
  },
  {
   "cell_type": "code",
   "execution_count": null,
   "metadata": {
    "collapsed": true
   },
   "outputs": [],
   "source": [
    "if x < y and x < z:\n",
    "    print(\"x is least\")\n",
    "elif y < z:\n",
    "    print(\"y is least\")\n",
    "else:\n",
    "    print(\"z is least\")"
   ]
  },
  {
   "cell_type": "markdown",
   "metadata": {},
   "source": [
    "## Type and Input"
   ]
  },
  {
   "cell_type": "code",
   "execution_count": null,
   "metadata": {
    "collapsed": true
   },
   "outputs": [],
   "source": [
    "type(\"a\")"
   ]
  },
  {
   "cell_type": "code",
   "execution_count": null,
   "metadata": {
    "collapsed": true
   },
   "outputs": [],
   "source": [
    "type(3*4.6)"
   ]
  },
  {
   "cell_type": "code",
   "execution_count": null,
   "metadata": {
    "collapsed": true
   },
   "outputs": [],
   "source": [
    "type({})"
   ]
  },
  {
   "cell_type": "code",
   "execution_count": null,
   "metadata": {
    "collapsed": true
   },
   "outputs": [],
   "source": [
    "type([])"
   ]
  },
  {
   "cell_type": "markdown",
   "metadata": {},
   "source": [
    "**Indexing** can be used to extract individual characters from a string or list. **Slicing** is used to extract substrings of arbitrary length"
   ]
  },
  {
   "cell_type": "markdown",
   "metadata": {},
   "source": [
    "### Input\n",
    "\n",
    "Python 2 had two functions that could be used to get input directly from a user, *input* and *raw_input*. In Python 3 just the former can be used"
   ]
  },
  {
   "cell_type": "code",
   "execution_count": null,
   "metadata": {
    "collapsed": true
   },
   "outputs": [],
   "source": [
    "name = input('Enter your name: ')\n",
    "print(\"Are you really, \", name,'?')"
   ]
  },
  {
   "cell_type": "code",
   "execution_count": null,
   "metadata": {
    "collapsed": true
   },
   "outputs": [],
   "source": [
    "n = input(\"Enter an int: \")\n",
    "#print(type(n))\n",
    "if type(n) == int:\n",
    "    print(n,\" is an integer\")\n",
    "else:\n",
    "    print(n,\" is NOT an integer\")"
   ]
  },
  {
   "cell_type": "markdown",
   "metadata": {},
   "source": [
    "**Type conversions** (also called **type casts**) are used often in python code"
   ]
  },
  {
   "cell_type": "code",
   "execution_count": null,
   "metadata": {
    "collapsed": true,
    "scrolled": true
   },
   "outputs": [],
   "source": [
    "n = float(input(\"Enter an int: \"))\n",
    "if type(n) == float:\n",
    "    print(n,\" is a float\")\n",
    "else:\n",
    "    print(n,\" is NOT an integer\")"
   ]
  },
  {
   "cell_type": "markdown",
   "metadata": {},
   "source": [
    "## Iteration"
   ]
  },
  {
   "cell_type": "markdown",
   "metadata": {},
   "source": [
    "The **iteration** mechanism, like a conditional statement, begins with a test. If the test evaluates to TRUE, the program executes the loop body once, and then goes back to reevaluate the test. The process is reapeated until the test evaluates to FALSE"
   ]
  },
  {
   "cell_type": "code",
   "execution_count": null,
   "metadata": {
    "collapsed": true
   },
   "outputs": [],
   "source": [
    "x = 10\n",
    "ans = 0\n",
    "itersLeft = x\n",
    "while (itersLeft != 0):\n",
    "    ans = ans + x\n",
    "    itersLeft = itersLeft - 1\n",
    "print(str(x) + '*' + str(x) + ' = ' + str(ans))"
   ]
  },
  {
   "cell_type": "markdown",
   "metadata": {},
   "source": [
    "# Simple Numerical Problems"
   ]
  },
  {
   "cell_type": "markdown",
   "metadata": {},
   "source": [
    "Now is the time to combine simple Python constructs to write some simple programs"
   ]
  },
  {
   "cell_type": "markdown",
   "metadata": {},
   "source": [
    "## Exhaustive Enumeration"
   ]
  },
  {
   "cell_type": "markdown",
   "metadata": {},
   "source": [
    "Consider de problem of printing the integer cube root, if it exist, of an integer"
   ]
  },
  {
   "cell_type": "code",
   "execution_count": null,
   "metadata": {
    "collapsed": true,
    "scrolled": true
   },
   "outputs": [],
   "source": [
    "# Find de cube root of a perfect cube\n",
    "x = int(input(\"Enter an integer: \"))\n",
    "ans = 0\n",
    "while ans**3 < abs(x):\n",
    "    ans = ans + 1\n",
    "if ans**3 != abs(x):\n",
    "    print(x, \" is not a perfect cube\")\n",
    "else:\n",
    "    if x < 0:\n",
    "        ans = -ans\n",
    "    print(\"cube root of \"+ str(x) +\" is \"+ str(ans))"
   ]
  },
  {
   "cell_type": "markdown",
   "metadata": {},
   "source": [
    "The problem above will terminate for ALL integers. Whenever you write a loop, you should think about an appropriate **decrementing function**. This is a function that has the following properties\n",
    "\n",
    "* It maps a set of program variables into an integer\n",
    "* When the loop is entered, its value is nonnegative\n",
    "* When its value is <= , the loop terminates\n",
    "* Its value is decreased every time through the loop\n",
    "\n",
    "In the previous problem the function was abs(x)-ans**3\n",
    "\n",
    "Just for fun, try the executing the code"
   ]
  },
  {
   "cell_type": "code",
   "execution_count": null,
   "metadata": {
    "collapsed": true
   },
   "outputs": [],
   "source": [
    "max = int(input(\"Enter a positive integer: \"))\n",
    "i = 0\n",
    "while i < max:\n",
    "    i = i + 1\n",
    "    print(i)"
   ]
  },
  {
   "cell_type": "markdown",
   "metadata": {},
   "source": [
    "## For Loops\n",
    "\n",
    "The while loop is highly stylized. The **for** loop can be used to simplify programs containing this kind of highly stylized iteration"
   ]
  },
  {
   "cell_type": "code",
   "execution_count": null,
   "metadata": {
    "collapsed": true
   },
   "outputs": [],
   "source": [
    "for variable in sequence:\n",
    "    code_block"
   ]
  },
  {
   "cell_type": "markdown",
   "metadata": {},
   "source": [
    "Inside the for loop the process continues until the sequence is exhausted or a **break** statement is executed within the code block.\n",
    "\n",
    "Consider the code"
   ]
  },
  {
   "cell_type": "code",
   "execution_count": null,
   "metadata": {
    "collapsed": true
   },
   "outputs": [],
   "source": [
    "x = 10\n",
    "for i, j in enumerate(range(5,x)):\n",
    "    print(\"i=\",i, \"j=\",j)"
   ]
  },
  {
   "cell_type": "markdown",
   "metadata": {},
   "source": [
    "Now think about the code"
   ]
  },
  {
   "cell_type": "code",
   "execution_count": null,
   "metadata": {
    "collapsed": true
   },
   "outputs": [],
   "source": [
    "x = 4\n",
    "for i in range(x):\n",
    "    print(i)\n",
    "    x = 5"
   ]
  },
  {
   "cell_type": "markdown",
   "metadata": {},
   "source": [
    "The *range* function in the line with *for* is evaluated just before the first iteration of the loop, and not reevaluated for subsequent iterations"
   ]
  },
  {
   "cell_type": "code",
   "execution_count": null,
   "metadata": {
    "collapsed": true
   },
   "outputs": [],
   "source": [
    "x = 4\n",
    "for j in range(x):\n",
    "    for i in range(x):\n",
    "        print(i)\n",
    "        x = 2"
   ]
  },
  {
   "cell_type": "markdown",
   "metadata": {},
   "source": [
    "Reimplementing the cube root procedure"
   ]
  },
  {
   "cell_type": "code",
   "execution_count": null,
   "metadata": {
    "collapsed": true
   },
   "outputs": [],
   "source": [
    "# Find the cube root of a perfect cube\n",
    "x = int(input('Enter an integer: '))\n",
    "for ans in range(abs(x)+1):\n",
    "    if ans**3 == abs(x):\n",
    "        break\n",
    "if ans**3 != abs(x):\n",
    "    print (x, \"is not a perfect cube\")\n",
    "else:\n",
    "    if x < 0:\n",
    "        ans = -ans\n",
    "    print(\"Cube root of \"+ str(x), \" is \"+str(ans))"
   ]
  },
  {
   "cell_type": "markdown",
   "metadata": {},
   "source": [
    "## Approximate Solutions and Bisection Search"
   ]
  },
  {
   "cell_type": "markdown",
   "metadata": {},
   "source": [
    "What happen if we had to find the square root of 2?? The value is not a rational number. The right thing to do is to ask the program to find an **approximation** to the square root. You should try to find and answer that is \"close enough\" (within some *epsilon*) of the actual number"
   ]
  },
  {
   "cell_type": "code",
   "execution_count": null,
   "metadata": {
    "collapsed": true
   },
   "outputs": [],
   "source": [
    "x = 0.25 # Try 0.25 What happens?\n",
    "epsilon = 0.01\n",
    "step = epsilon**2\n",
    "numGuesses = 0\n",
    "ans = 0\n",
    "while abs(ans**2 - x) >= epsilon and ans <= x:\n",
    "    ans += step\n",
    "    numGuesses += 1\n",
    "print(\"numGuesses = \", numGuesses)\n",
    "if abs(ans**2 - x) >= epsilon:\n",
    "    print('Failed on square root of ',x)\n",
    "else:\n",
    "    print(ans , \" is close to square root of \", x)"
   ]
  },
  {
   "cell_type": "code",
   "execution_count": null,
   "metadata": {
    "collapsed": true
   },
   "outputs": [],
   "source": [
    "x = 0.25\n",
    "epsilon = 0.01\n",
    "numGuesses = 0\n",
    "low = 0.0\n",
    "high = max(1,x)\n",
    "ans = (high + low)/2.0\n",
    "while abs(ans**2 - x) >= epsilon:\n",
    "    print(\"low = \", low, \"high = \", high, \" ans = \", ans)\n",
    "    numGuesses += 1\n",
    "    if ans**2 < x:\n",
    "        low = ans\n",
    "    else:\n",
    "        high = ans\n",
    "    ans = (high + low)/2\n",
    "print(\"numGuesses = \", numGuesses)\n",
    "print(ans ,\" is close to square root of \",x)\n",
    "        "
   ]
  },
  {
   "cell_type": "markdown",
   "metadata": {},
   "source": [
    "## Few words about using Floats\n",
    "\n",
    "Some times numbers of type **float** do not produce good approximation to real numbers. See the following example"
   ]
  },
  {
   "cell_type": "code",
   "execution_count": null,
   "metadata": {
    "collapsed": true
   },
   "outputs": [],
   "source": [
    "x = 0.0\n",
    "for i in range(10):\n",
    "    x = x + 0.1\n",
    "if x == 1.0:\n",
    "    print(x, \"= 1.0\")\n",
    "else:\n",
    "    print(x, \"is not 1.0\")\n",
    "    print(x == 10.0*0.1)"
   ]
  },
  {
   "cell_type": "markdown",
   "metadata": {},
   "source": [
    "for these reason it is better to  write abs(x-y) < 0.0001 rather than x == y"
   ]
  },
  {
   "cell_type": "markdown",
   "metadata": {},
   "source": [
    "## Newton-Raphson\n",
    "\n",
    "A **polynomial** with one variable is either zero or the sum of a finite number of nonzero terms (e.g. $3x^2 + 2x +3$). A **root** of the polynomial p is a solution to the equation p = 0. So, of example te problem of finding an approximation to the square root of 24 can be formulated as finding an x such that $x^2 - 24 = 0$\n",
    "\n",
    "Newton proved a theorem that implies that if a value, call it guess, is an approximation to a root of a polynomial, then **guess - p(guess)/p'(guess)**, is a better approximation."
   ]
  },
  {
   "cell_type": "code",
   "execution_count": null,
   "metadata": {
    "collapsed": true
   },
   "outputs": [],
   "source": [
    "# Newton-Raphson for square root\n",
    "# Find x such that x**2 - 24 is within epsilon of 0\n",
    "epsilon = 0.0001\n",
    "y = 45\n",
    "guess = y/2.0\n",
    "while abs(guess*guess - y) >= epsilon:\n",
    "    guess = guess - (((guess**2) - y)/(2*guess))\n",
    "print(\"Square root of \", y, \" is about \", guess)"
   ]
  },
  {
   "cell_type": "markdown",
   "metadata": {},
   "source": [
    "# Functions and Abstraction by Specification"
   ]
  },
  {
   "cell_type": "markdown",
   "metadata": {},
   "source": [
    "So far, we have introduced numbers, assignments, input/output, comparisons, and looping. How powerfull if that?? In a theoretical sense, it is as powerful as you will ever need. Such lenguages are called **Turing Complete**. The pieces of code we have seen lack of general utility. The most important **linguistic** feature provided by Python to generalize and reuse the code is the **function**.\n",
    "\n",
    "In Python each **function definition** is of the form"
   ]
  },
  {
   "cell_type": "code",
   "execution_count": null,
   "metadata": {
    "collapsed": true
   },
   "outputs": [],
   "source": [
    "def functionName(formalParamters):\n",
    "    functionBody"
   ]
  },
  {
   "cell_type": "markdown",
   "metadata": {},
   "source": [
    "The function max_ can be expressed by"
   ]
  },
  {
   "cell_type": "code",
   "execution_count": null,
   "metadata": {
    "collapsed": true
   },
   "outputs": [],
   "source": [
    "def max_(x, y):\n",
    "    if x > y:\n",
    "        return x\n",
    "    else:\n",
    "        return y"
   ]
  },
  {
   "cell_type": "markdown",
   "metadata": {},
   "source": [
    "The sequence of names (x, y in this example) within the parentheses following the function name are the **formal parameters** of the function. when the function is used, the **actual parameters** are bound to the formal parameters. The **return** statement can be used only within the body of a function"
   ]
  },
  {
   "cell_type": "code",
   "execution_count": null,
   "metadata": {
    "collapsed": true
   },
   "outputs": [],
   "source": [
    "max_(7,4)"
   ]
  },
  {
   "cell_type": "markdown",
   "metadata": {},
   "source": [
    "## Keyword arguments and Default Values\n",
    "\n",
    "In Python there are two ways that formal parameters get bound to actual parameters. The most common method is the **positional method**. The first formal is bounded to the first actual, the second formal to the second actual and so on. Python also support **keyword arguments** in which formals are bound to actuals using the name of the formal parameter"
   ]
  },
  {
   "cell_type": "code",
   "execution_count": null,
   "metadata": {
    "collapsed": true
   },
   "outputs": [],
   "source": [
    "def printName(firstName, lastName, reverse=False):\n",
    "    if reverse:\n",
    "        print(lastName + \",\" + firstName)\n",
    "    else:\n",
    "        print(firstName, lastName)"
   ]
  },
  {
   "cell_type": "code",
   "execution_count": null,
   "metadata": {
    "collapsed": true
   },
   "outputs": [],
   "source": [
    "printName(\"Olga\",\"Toro\", False)\n",
    "printName(\"Olga\", \"Toro\", True)\n",
    "printName(\"Olga\", \"Toro\", reverse=False)\n",
    "printName(\"Olga\", lastName=\"Toro\")"
   ]
  },
  {
   "cell_type": "code",
   "execution_count": null,
   "metadata": {
    "collapsed": true
   },
   "outputs": [],
   "source": [
    "printName(\"Olga\", lastName=\"Toro\", reverse=False)"
   ]
  },
  {
   "cell_type": "markdown",
   "metadata": {},
   "source": [
    "Keyword arguments are commonly used in conjunction with default parameter values"
   ]
  },
  {
   "cell_type": "code",
   "execution_count": null,
   "metadata": {
    "collapsed": true
   },
   "outputs": [],
   "source": [
    "def printName(firstName, lastName, reverse = False):\n",
    "    if reverse:\n",
    "        print(lastName + \",\" + firstName)\n",
    "    else:\n",
    "        print(firstName, lastName)\n",
    "\n",
    "printName(\"Olga\", lastName=\"Toro\")\n",
    "printName(\"Olga\", lastName=\"Toro\", reverse=True)"
   ]
  },
  {
   "cell_type": "markdown",
   "metadata": {},
   "source": [
    "## Scoping\n",
    "\n",
    "Let's look at another small example"
   ]
  },
  {
   "cell_type": "code",
   "execution_count": null,
   "metadata": {
    "collapsed": true
   },
   "outputs": [],
   "source": [
    "def f(x):\n",
    "    y = 5\n",
    "    x = x + y\n",
    "    print(\"x =\", x)\n",
    "    return x\n",
    "\n",
    "x = 3\n",
    "y = 2\n",
    "z = f(x)\n",
    "print(\"z =\", z)\n",
    "print(\"x =\", x)\n",
    "print(\"y =\", y)"
   ]
  },
  {
   "cell_type": "markdown",
   "metadata": {},
   "source": [
    "It is important to note that though the actual and formal parameters have the same name, they are not the same variable. Each function define a new **name space**, also called a **scope**. The formal parameter x and the **local variable** y exist only within the scope of the definition of f"
   ]
  },
  {
   "cell_type": "code",
   "execution_count": 10,
   "metadata": {},
   "outputs": [
    {
     "name": "stdout",
     "output_type": "stream",
     "text": [
      "x = 4\n",
      "z = 4\n",
      "x = abc\n",
      "x = 4\n",
      "x = 3\n",
      "z = <function f.<locals>.g at 0x0000029DE7E20AE8>\n",
      "x = abc\n"
     ]
    }
   ],
   "source": [
    "def f(x):\n",
    "    def g():\n",
    "        x = \"abc\"\n",
    "        print(\"x =\", x)\n",
    "    def h():\n",
    "        z = x\n",
    "        print(\"z =\", z)\n",
    "    x = x + 1\n",
    "    print(\"x =\", x)\n",
    "    h()\n",
    "    g()\n",
    "    print(\"x =\", x)\n",
    "    return g\n",
    "\n",
    "x = 3\n",
    "z = f(x)\n",
    "print(\"x =\", x)\n",
    "print(\"z =\", z)\n",
    "z()"
   ]
  },
  {
   "cell_type": "markdown",
   "metadata": {},
   "source": [
    "## Specifications\n",
    "\n",
    "For inexperienced programmers writting a function such as **testFindRoot()** seems a waste of time. Experienced programmers know that this additional effort pays back.\n",
    "\n",
    "A **specification** of a function defines a contract between the implementer and those who will be writting programs that use that function. The contract can be thought as containing two parts\n",
    "\n",
    "* **Asumptions:** Describe conditions that must be met by the users of the function. Typically, they describe constraints on the actual parameters\n",
    "\n",
    "* **Garantees:** Describe conditions that must be met by the function, provided that it has been called in a way that satisfies the assumptions\n",
    "\n",
    "Thus, it is easy to see that a function provides both **decomposition** and **abstraction**"
   ]
  },
  {
   "cell_type": "code",
   "execution_count": 11,
   "metadata": {},
   "outputs": [
    {
     "name": "stdout",
     "output_type": "stream",
     "text": [
      "Testing x = 0.25 and power = 1\n",
      "<class 'float'>\n",
      " 0.25~=0.25\n",
      "Testing x = 0.25 and power = 2\n",
      "<class 'float'>\n",
      " 0.25~=0.25\n",
      "Testing x = 0.25 and power = 3\n",
      "<class 'float'>\n",
      " 0.24990749079734087~=0.25\n",
      "Testing x = -0.25 and power = 1\n",
      "<class 'float'>\n",
      " -0.25~=-0.25\n",
      "Testing x = -0.25 and power = 2\n",
      "No root\n",
      "Testing x = -0.25 and power = 3\n",
      "<class 'float'>\n",
      " -0.24990749079734087~=-0.25\n",
      "Testing x = 2 and power = 1\n",
      "<class 'int'>\n",
      " 1.999908447265625~=2\n",
      "Testing x = 2 and power = 2\n",
      "<class 'int'>\n",
      " 2.0000906325876713~=2\n",
      "Testing x = 2 and power = 3\n",
      "<class 'int'>\n",
      " 2.000059155646067~=2\n",
      "Testing x = -2 and power = 1\n",
      "<class 'int'>\n",
      " -1.999908447265625~=-2\n",
      "Testing x = -2 and power = 2\n",
      "No root\n",
      "Testing x = -2 and power = 3\n",
      "<class 'int'>\n",
      " -2.000059155646067~=-2\n",
      "Testing x = 8 and power = 1\n",
      "<class 'int'>\n",
      " 7.999931335449219~=8\n",
      "Testing x = 8 and power = 2\n",
      "<class 'int'>\n",
      " 7.99999568007479~=8\n",
      "Testing x = 8 and power = 3\n",
      "<class 'int'>\n",
      " 8.000068664747232~=8\n",
      "Testing x = -8 and power = 1\n",
      "<class 'int'>\n",
      " -7.999931335449219~=-8\n",
      "Testing x = -8 and power = 2\n",
      "No root\n",
      "Testing x = -8 and power = 3\n",
      "<class 'int'>\n",
      " -8.000068664747232~=-8\n",
      "Help on function findRoot in module __main__:\n",
      "\n",
      "findRoot(x, power, epsilon)\n",
      "    x and epsilon int or float, power an int,\n",
      "    epsilon > 0 & power >=1\n",
      "    returns float y such that y**power is within epsilon of x.\n",
      "    If such a float does not exist, it returns None\n",
      "\n"
     ]
    }
   ],
   "source": [
    "def findRoot(x, power, epsilon):\n",
    "    \"\"\"\n",
    "    x and epsilon int or float, power an int,\n",
    "    epsilon > 0 & power >=1\n",
    "    returns float y such that y**power is within epsilon of x.\n",
    "    If such a float does not exist, it returns None\n",
    "    \"\"\"\n",
    "    if x < 0 and power%2 == 0:\n",
    "        return None\n",
    "    low = min(-1.0, x)\n",
    "    print(type(x))\n",
    "    high = max(1.0, x)\n",
    "    ans = (high + low)/2.0\n",
    "    while abs(ans**power - x) >= epsilon:\n",
    "        if ans**power < x:\n",
    "            low = ans\n",
    "        else:\n",
    "            high = ans\n",
    "        ans = (high + low)/2\n",
    "    return ans\n",
    "\n",
    "def testFindRoot():\n",
    "    epsilon = 0.0001\n",
    "    for x in (0.25, -0.25, 2, -2, 8, -8):\n",
    "        for power in range(1,4):\n",
    "            print('Testing x = ' + str(x) +\n",
    "                  ' and power = '+ str(power))\n",
    "            res = findRoot(x, power, epsilon)\n",
    "            if res == None:\n",
    "                print(\"No root\")\n",
    "            else:\n",
    "                print(' ' + str(res**power) + '~=' + str(x))\n",
    "                \n",
    "testFindRoot()\n",
    "help(findRoot)"
   ]
  },
  {
   "cell_type": "markdown",
   "metadata": {},
   "source": [
    "## Recursion\n",
    "\n",
    "In general a recursive definition is made up to two parts. There is at least one **base case** that directly specifies the results for a special case, and there is at least one **recursive (inductive) case** that defines the answer in terms of the answer to the question on some other input, typically a simpler version of the same problem.\n",
    "\n",
    "The classic example is the *factorial function*\n",
    "\n",
    "1! = 1\n",
    "\n",
    "(n + 1) != (n + 1) n!\n",
    "\n",
    "where the first equation defines the base case and the second defines the factorial for all natural numbers, except the base case."
   ]
  },
  {
   "cell_type": "code",
   "execution_count": null,
   "metadata": {
    "collapsed": true
   },
   "outputs": [],
   "source": [
    "def factI(n):\n",
    "    \"\"\"\n",
    "    Assumes that n is an int > 0\n",
    "    returns n!\n",
    "    \"\"\"\n",
    "    res = 1\n",
    "    while n > 1:\n",
    "        res = res * n\n",
    "        n -= 1\n",
    "    return res\n",
    "\n",
    "def factR(n):\n",
    "    \"\"\"\n",
    "    Assumes that n is an int > 0\n",
    "    returns n!\n",
    "    \"\"\"\n",
    "    if n == 1:\n",
    "        return n\n",
    "    return n*factR(n-1)\n",
    "\n",
    "print(factI(100))\n",
    "print(factR(100))"
   ]
  },
  {
   "cell_type": "markdown",
   "metadata": {},
   "source": [
    "### Fibonacci Numbers\n",
    "\n",
    "The growth in rabbits population is described naturally by the **recurrence**\n",
    "\n",
    "* females(0) = 1\n",
    "* females(1) = 1\n",
    "* females(n+2) = females(n+1) + females(n)"
   ]
  },
  {
   "cell_type": "code",
   "execution_count": 12,
   "metadata": {},
   "outputs": [
    {
     "name": "stdout",
     "output_type": "stream",
     "text": [
      "fibonacci of  0 = 1\n",
      "fibonacci of  1 = 1\n",
      "fibonacci of  2 = 2\n",
      "fibonacci of  3 = 3\n",
      "fibonacci of  4 = 5\n",
      "fibonacci of  5 = 8\n"
     ]
    }
   ],
   "source": [
    "def fib(n):\n",
    "    \"\"\"\n",
    "    Assumes n an int >= 0\n",
    "    Returns Fibonacci of n\n",
    "    \"\"\"\n",
    "    if n == 0 or n == 1:\n",
    "        return 1\n",
    "    else:\n",
    "        return fib(n-1) + fib(n-2)\n",
    "\n",
    "def testFib(n):\n",
    "    for i in range(n+1):\n",
    "        print(\"fibonacci of \", i, '=' ,fib(i))\n",
    "        \n",
    "testFib(5)"
   ]
  },
  {
   "cell_type": "markdown",
   "metadata": {},
   "source": [
    "## Global Variables"
   ]
  },
  {
   "cell_type": "markdown",
   "metadata": {},
   "source": [
    "Suppose we want to know how many recursive calls are made. We can add some code that counts the number of calls. Onw way to do it is using **Global Variables**"
   ]
  },
  {
   "cell_type": "code",
   "execution_count": 13,
   "metadata": {},
   "outputs": [
    {
     "name": "stdout",
     "output_type": "stream",
     "text": [
      "fibonacci of  0 = 1\n",
      "fibonacci called 1 times\n",
      "fibonacci of  1 = 1\n",
      "fibonacci called 1 times\n",
      "fibonacci of  2 = 2\n",
      "fibonacci called 3 times\n",
      "fibonacci of  3 = 3\n",
      "fibonacci called 5 times\n",
      "fibonacci of  4 = 5\n",
      "fibonacci called 9 times\n",
      "fibonacci of  5 = 8\n",
      "fibonacci called 15 times\n",
      "fibonacci of  6 = 13\n",
      "fibonacci called 25 times\n",
      "fibonacci of  7 = 21\n",
      "fibonacci called 41 times\n",
      "fibonacci of  8 = 34\n",
      "fibonacci called 67 times\n",
      "fibonacci of  9 = 55\n",
      "fibonacci called 109 times\n",
      "fibonacci of  10 = 89\n",
      "fibonacci called 177 times\n",
      "fibonacci of  11 = 144\n",
      "fibonacci called 287 times\n",
      "fibonacci of  12 = 233\n",
      "fibonacci called 465 times\n",
      "fibonacci of  13 = 377\n",
      "fibonacci called 753 times\n",
      "fibonacci of  14 = 610\n",
      "fibonacci called 1219 times\n",
      "fibonacci of  15 = 987\n",
      "fibonacci called 1973 times\n",
      "fibonacci of  16 = 1597\n",
      "fibonacci called 3193 times\n",
      "fibonacci of  17 = 2584\n",
      "fibonacci called 5167 times\n",
      "fibonacci of  18 = 4181\n",
      "fibonacci called 8361 times\n",
      "fibonacci of  19 = 6765\n",
      "fibonacci called 13529 times\n",
      "fibonacci of  20 = 10946\n",
      "fibonacci called 21891 times\n",
      "fibonacci of  21 = 17711\n",
      "fibonacci called 35421 times\n",
      "fibonacci of  22 = 28657\n",
      "fibonacci called 57313 times\n",
      "fibonacci of  23 = 46368\n",
      "fibonacci called 92735 times\n",
      "fibonacci of  24 = 75025\n",
      "fibonacci called 150049 times\n",
      "fibonacci of  25 = 121393\n",
      "fibonacci called 242785 times\n",
      "fibonacci of  26 = 196418\n",
      "fibonacci called 392835 times\n",
      "fibonacci of  27 = 317811\n",
      "fibonacci called 635621 times\n",
      "fibonacci of  28 = 514229\n",
      "fibonacci called 1028457 times\n",
      "fibonacci of  29 = 832040\n",
      "fibonacci called 1664079 times\n",
      "fibonacci of  30 = 1346269\n",
      "fibonacci called 2692537 times\n",
      "fibonacci of  31 = 2178309\n",
      "fibonacci called 4356617 times\n",
      "fibonacci of  32 = 3524578\n",
      "fibonacci called 7049155 times\n",
      "fibonacci of  33 = 5702887\n",
      "fibonacci called 11405773 times\n",
      "fibonacci of  34 = 9227465\n",
      "fibonacci called 18454929 times\n",
      "fibonacci of  35 = 14930352\n",
      "fibonacci called 29860703 times\n"
     ]
    }
   ],
   "source": [
    "def fib(n):\n",
    "    \"\"\"\n",
    "    Assumes n an int >= 0\n",
    "    Returns Fibonacci of n\n",
    "    \"\"\"\n",
    "    global numCalls\n",
    "    numCalls += 1\n",
    "    if n == 0 or n == 1:\n",
    "        return 1\n",
    "    else:\n",
    "        return fib(n-1) + fib(n-2)\n",
    "\n",
    "def testFib(n):\n",
    "    for i in range(n+1):\n",
    "        global numCalls\n",
    "        numCalls = 0\n",
    "        print(\"fibonacci of \", i, '=' ,fib(i))\n",
    "        print('fibonacci called', numCalls, 'times')\n",
    "        \n",
    "testFib(35)"
   ]
  },
  {
   "cell_type": "markdown",
   "metadata": {},
   "source": [
    "## Lambda Functions"
   ]
  },
  {
   "cell_type": "code",
   "execution_count": 14,
   "metadata": {},
   "outputs": [
    {
     "name": "stdout",
     "output_type": "stream",
     "text": [
      "[3, 6, 9]\n",
      "[3, 6, 9]\n"
     ]
    }
   ],
   "source": [
    "mult3L = filter(lambda x: x % 3 == 0, [1, 2, 3, 4, 5, 6, 7, 8, 9])\n",
    "\n",
    "def filterfunc(x):\n",
    "    return x % 3 == 0\n",
    "\n",
    "mult3N = filter(filterfunc, [1, 2, 3, 4, 5, 6, 7, 8, 9])\n",
    "\n",
    "print(list(mult3L))\n",
    "print(list(mult3N))"
   ]
  },
  {
   "cell_type": "code",
   "execution_count": null,
   "metadata": {
    "collapsed": true
   },
   "outputs": [],
   "source": [
    "def filterfunc(x):\n",
    "    return x % 3 == 0\n",
    "mult3 = filter(filterfunc, [1, 2, 3, 4, 5, 6, 7, 8, 9])"
   ]
  },
  {
   "cell_type": "code",
   "execution_count": 15,
   "metadata": {},
   "outputs": [
    {
     "name": "stdout",
     "output_type": "stream",
     "text": [
      "5\n",
      "5\n"
     ]
    }
   ],
   "source": [
    "f = lambda x, y : x + y\n",
    "print(f(2,3))\n",
    "\n",
    "def f(x,y):\n",
    "    return x+y\n",
    "\n",
    "print(f(2,3))"
   ]
  },
  {
   "cell_type": "code",
   "execution_count": 16,
   "metadata": {},
   "outputs": [
    {
     "data": {
      "text/plain": [
       "7"
      ]
     },
     "execution_count": 16,
     "metadata": {},
     "output_type": "execute_result"
    }
   ],
   "source": [
    "def transform(n):\n",
    "    return lambda x: x + n\n",
    "\n",
    "f = transform(3)\n",
    "f(4)"
   ]
  },
  {
   "cell_type": "markdown",
   "metadata": {},
   "source": [
    "# Import Modules and External data"
   ]
  },
  {
   "cell_type": "code",
   "execution_count": 17,
   "metadata": {},
   "outputs": [
    {
     "name": "stdout",
     "output_type": "stream",
     "text": [
      "Help on built-in function arange in module numpy.core.multiarray:\n",
      "\n",
      "arange(...)\n",
      "    arange([start,] stop[, step,], dtype=None)\n",
      "    \n",
      "    Return evenly spaced values within a given interval.\n",
      "    \n",
      "    Values are generated within the half-open interval ``[start, stop)``\n",
      "    (in other words, the interval including `start` but excluding `stop`).\n",
      "    For integer arguments the function is equivalent to the Python built-in\n",
      "    `range <http://docs.python.org/lib/built-in-funcs.html>`_ function,\n",
      "    but returns an ndarray rather than a list.\n",
      "    \n",
      "    When using a non-integer step, such as 0.1, the results will often not\n",
      "    be consistent.  It is better to use ``linspace`` for these cases.\n",
      "    \n",
      "    Parameters\n",
      "    ----------\n",
      "    start : number, optional\n",
      "        Start of interval.  The interval includes this value.  The default\n",
      "        start value is 0.\n",
      "    stop : number\n",
      "        End of interval.  The interval does not include this value, except\n",
      "        in some cases where `step` is not an integer and floating point\n",
      "        round-off affects the length of `out`.\n",
      "    step : number, optional\n",
      "        Spacing between values.  For any output `out`, this is the distance\n",
      "        between two adjacent values, ``out[i+1] - out[i]``.  The default\n",
      "        step size is 1.  If `step` is specified as a position argument,\n",
      "        `start` must also be given.\n",
      "    dtype : dtype\n",
      "        The type of the output array.  If `dtype` is not given, infer the data\n",
      "        type from the other input arguments.\n",
      "    \n",
      "    Returns\n",
      "    -------\n",
      "    arange : ndarray\n",
      "        Array of evenly spaced values.\n",
      "    \n",
      "        For floating point arguments, the length of the result is\n",
      "        ``ceil((stop - start)/step)``.  Because of floating point overflow,\n",
      "        this rule may result in the last element of `out` being greater\n",
      "        than `stop`.\n",
      "    \n",
      "    See Also\n",
      "    --------\n",
      "    linspace : Evenly spaced numbers with careful handling of endpoints.\n",
      "    ogrid: Arrays of evenly spaced numbers in N-dimensions.\n",
      "    mgrid: Grid-shaped arrays of evenly spaced numbers in N-dimensions.\n",
      "    \n",
      "    Examples\n",
      "    --------\n",
      "    >>> np.arange(3)\n",
      "    array([0, 1, 2])\n",
      "    >>> np.arange(3.0)\n",
      "    array([ 0.,  1.,  2.])\n",
      "    >>> np.arange(3,7)\n",
      "    array([3, 4, 5, 6])\n",
      "    >>> np.arange(3,7,2)\n",
      "    array([3, 5])\n",
      "\n"
     ]
    },
    {
     "data": {
      "text/plain": [
       "array([0, 1, 2, 3, 4, 5, 6, 7, 8, 9])"
      ]
     },
     "execution_count": 17,
     "metadata": {},
     "output_type": "execute_result"
    }
   ],
   "source": [
    "import numpy as np\n",
    "help(np.arange)\n",
    "arang = np.arange(10)\n",
    "arang"
   ]
  },
  {
   "cell_type": "code",
   "execution_count": 18,
   "metadata": {
    "collapsed": true
   },
   "outputs": [],
   "source": [
    "import pandas as pd\n",
    "data = pd.read_csv('D:/Forestal Projects/Base.csv', sep=\",\", )"
   ]
  },
  {
   "cell_type": "code",
   "execution_count": 19,
   "metadata": {},
   "outputs": [
    {
     "name": "stdout",
     "output_type": "stream",
     "text": [
      "<class 'pandas.core.frame.DataFrame'>\n"
     ]
    },
    {
     "data": {
      "text/html": [
       "<div>\n",
       "<style scoped>\n",
       "    .dataframe tbody tr th:only-of-type {\n",
       "        vertical-align: middle;\n",
       "    }\n",
       "\n",
       "    .dataframe tbody tr th {\n",
       "        vertical-align: top;\n",
       "    }\n",
       "\n",
       "    .dataframe thead th {\n",
       "        text-align: right;\n",
       "    }\n",
       "</style>\n",
       "<table border=\"1\" class=\"dataframe\">\n",
       "  <thead>\n",
       "    <tr style=\"text-align: right;\">\n",
       "      <th></th>\n",
       "      <th>Fecha</th>\n",
       "      <th>Mes</th>\n",
       "      <th>Temporada</th>\n",
       "      <th>Season</th>\n",
       "      <th>Predio</th>\n",
       "      <th>Cubic_Meters</th>\n",
       "      <th>Humid_Tons</th>\n",
       "      <th>Dry_Tons</th>\n",
       "      <th>CH</th>\n",
       "      <th>M3_TS</th>\n",
       "      <th>East</th>\n",
       "      <th>North</th>\n",
       "    </tr>\n",
       "  </thead>\n",
       "  <tbody>\n",
       "    <tr>\n",
       "      <th>0</th>\n",
       "      <td>14-07-2007</td>\n",
       "      <td>7</td>\n",
       "      <td>Lluviosa</td>\n",
       "      <td>Winter</td>\n",
       "      <td>Cerro Verde</td>\n",
       "      <td>89.87</td>\n",
       "      <td>24.53</td>\n",
       "      <td>13.765432</td>\n",
       "      <td>78.2</td>\n",
       "      <td>6.528673</td>\n",
       "      <td>764624.46</td>\n",
       "      <td>5890891.94</td>\n",
       "    </tr>\n",
       "    <tr>\n",
       "      <th>1</th>\n",
       "      <td>17-07-2007</td>\n",
       "      <td>7</td>\n",
       "      <td>Lluviosa</td>\n",
       "      <td>Winter</td>\n",
       "      <td>Cerro Verde</td>\n",
       "      <td>92.01</td>\n",
       "      <td>26.94</td>\n",
       "      <td>14.761644</td>\n",
       "      <td>82.5</td>\n",
       "      <td>6.233046</td>\n",
       "      <td>764624.46</td>\n",
       "      <td>5890891.94</td>\n",
       "    </tr>\n",
       "    <tr>\n",
       "      <th>2</th>\n",
       "      <td>17-07-2007</td>\n",
       "      <td>7</td>\n",
       "      <td>Lluviosa</td>\n",
       "      <td>Winter</td>\n",
       "      <td>Cerro Verde</td>\n",
       "      <td>93.50</td>\n",
       "      <td>25.52</td>\n",
       "      <td>12.869390</td>\n",
       "      <td>98.3</td>\n",
       "      <td>7.265302</td>\n",
       "      <td>764624.46</td>\n",
       "      <td>5890891.94</td>\n",
       "    </tr>\n",
       "    <tr>\n",
       "      <th>3</th>\n",
       "      <td>18-07-2007</td>\n",
       "      <td>7</td>\n",
       "      <td>Lluviosa</td>\n",
       "      <td>Winter</td>\n",
       "      <td>Cerro Verde</td>\n",
       "      <td>89.75</td>\n",
       "      <td>27.70</td>\n",
       "      <td>13.692536</td>\n",
       "      <td>102.3</td>\n",
       "      <td>6.554666</td>\n",
       "      <td>764624.46</td>\n",
       "      <td>5890891.94</td>\n",
       "    </tr>\n",
       "    <tr>\n",
       "      <th>4</th>\n",
       "      <td>19-07-2007</td>\n",
       "      <td>7</td>\n",
       "      <td>Lluviosa</td>\n",
       "      <td>Winter</td>\n",
       "      <td>Cerro Verde</td>\n",
       "      <td>88.63</td>\n",
       "      <td>25.64</td>\n",
       "      <td>13.340271</td>\n",
       "      <td>92.2</td>\n",
       "      <td>6.643793</td>\n",
       "      <td>764624.46</td>\n",
       "      <td>5890891.94</td>\n",
       "    </tr>\n",
       "  </tbody>\n",
       "</table>\n",
       "</div>"
      ],
      "text/plain": [
       "        Fecha  Mes Temporada  Season       Predio  Cubic_Meters  Humid_Tons  \\\n",
       "0  14-07-2007    7  Lluviosa  Winter  Cerro Verde         89.87       24.53   \n",
       "1  17-07-2007    7  Lluviosa  Winter  Cerro Verde         92.01       26.94   \n",
       "2  17-07-2007    7  Lluviosa  Winter  Cerro Verde         93.50       25.52   \n",
       "3  18-07-2007    7  Lluviosa  Winter  Cerro Verde         89.75       27.70   \n",
       "4  19-07-2007    7  Lluviosa  Winter  Cerro Verde         88.63       25.64   \n",
       "\n",
       "    Dry_Tons     CH     M3_TS       East       North  \n",
       "0  13.765432   78.2  6.528673  764624.46  5890891.94  \n",
       "1  14.761644   82.5  6.233046  764624.46  5890891.94  \n",
       "2  12.869390   98.3  7.265302  764624.46  5890891.94  \n",
       "3  13.692536  102.3  6.554666  764624.46  5890891.94  \n",
       "4  13.340271   92.2  6.643793  764624.46  5890891.94  "
      ]
     },
     "execution_count": 19,
     "metadata": {},
     "output_type": "execute_result"
    }
   ],
   "source": [
    "print(type(data))\n",
    "data.head()"
   ]
  },
  {
   "cell_type": "code",
   "execution_count": null,
   "metadata": {
    "collapsed": true
   },
   "outputs": [],
   "source": []
  }
 ],
 "metadata": {
  "anaconda-cloud": {},
  "kernelspec": {
   "display_name": "Python [default]",
   "language": "python",
   "name": "python3"
  },
  "language_info": {
   "codemirror_mode": {
    "name": "ipython",
    "version": 3
   },
   "file_extension": ".py",
   "mimetype": "text/x-python",
   "name": "python",
   "nbconvert_exporter": "python",
   "pygments_lexer": "ipython3",
   "version": "3.6.3"
  }
 },
 "nbformat": 4,
 "nbformat_minor": 1
}
